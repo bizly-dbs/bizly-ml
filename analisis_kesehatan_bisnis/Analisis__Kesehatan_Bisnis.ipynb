{
  "nbformat": 4,
  "nbformat_minor": 0,
  "metadata": {
    "colab": {
      "provenance": []
    },
    "kernelspec": {
      "name": "python3",
      "display_name": "Python 3"
    },
    "language_info": {
      "name": "python"
    }
  },
  "cells": [
    {
      "cell_type": "markdown",
      "source": [
        "# Import Library\n",
        "\n",
        "Impor library yang diperlukan"
      ],
      "metadata": {
        "id": "XKuR9hRJMHen"
      }
    },
    {
      "cell_type": "code",
      "execution_count": 4,
      "metadata": {
        "id": "-7dtJWqHLpCZ"
      },
      "outputs": [],
      "source": [
        "import pandas as pd\n",
        "import numpy as np\n",
        "import matplotlib.pyplot as plt\n",
        "\n",
        "from sklearn.preprocessing import MinMaxScaler\n",
        "from sklearn.preprocessing import LabelEncoder\n",
        "from sklearn.model_selection import train_test_split\n",
        "from sklearn.metrics import classification_report, confusion_matrix\n",
        "\n",
        "from tensorflow.keras.models import Sequential\n",
        "from tensorflow.keras.layers import Dense, Dropout\n",
        "from tensorflow.keras.utils import to_categorical\n",
        "from tensorflow.keras.callbacks import EarlyStopping\n",
        "\n",
        "import warnings\n",
        "warnings.filterwarnings(\"ignore\")\n"
      ]
    },
    {
      "cell_type": "markdown",
      "source": [
        "# Data Loading & Persiapan Awal"
      ],
      "metadata": {
        "id": "FyigCTf1x8Do"
      }
    },
    {
      "cell_type": "markdown",
      "source": [
        "Menggabungkan file CSV"
      ],
      "metadata": {
        "id": "IF6p7uXzyEmQ"
      }
    },
    {
      "cell_type": "code",
      "source": [
        "file_paths = [\n",
        "    'umkm_dataset/data_transaksi_umkm_2022.csv',\n",
        "    'umkm_dataset/data_transaksi_umkm_2023.csv',\n",
        "    'umkm_dataset/data_transaksi_umkm_2024.csv',\n",
        "    'umkm_dataset/data_transaksi_umkm_2025.csv',\n",
        "    'umkm_dataset/data_transaksi_umkm_nasi_padang.csv'\n",
        "]"
      ],
      "metadata": {
        "id": "kzcWNPpzMMmF"
      },
      "execution_count": 5,
      "outputs": []
    },
    {
      "cell_type": "code",
      "source": [
        "dfs = []\n",
        "for file_path in file_paths:\n",
        "    df = pd.read_csv(file_path)\n",
        "    dfs.append(df)\n",
        "\n",
        "df = pd.concat(dfs, ignore_index=True)"
      ],
      "metadata": {
        "id": "-FHFcPKltWJs"
      },
      "execution_count": 6,
      "outputs": []
    },
    {
      "cell_type": "markdown",
      "source": [
        "Cek struktur dasar DataFrame"
      ],
      "metadata": {
        "id": "5uPHWaVJyJkw"
      }
    },
    {
      "cell_type": "code",
      "source": [
        "df.info()"
      ],
      "metadata": {
        "colab": {
          "base_uri": "https://localhost:8080/"
        },
        "id": "T49jalyuMM__",
        "outputId": "02c2867d-3e9c-4bef-d64c-32e8c32ba297"
      },
      "execution_count": 7,
      "outputs": [
        {
          "output_type": "stream",
          "name": "stdout",
          "text": [
            "<class 'pandas.core.frame.DataFrame'>\n",
            "RangeIndex: 78730 entries, 0 to 78729\n",
            "Data columns (total 6 columns):\n",
            " #   Column     Non-Null Count  Dtype \n",
            "---  ------     --------------  ----- \n",
            " 0   tanggal    78730 non-null  object\n",
            " 1   jenis      78730 non-null  object\n",
            " 2   nama       78730 non-null  object\n",
            " 3   kategori   78730 non-null  object\n",
            " 4   nominal    78730 non-null  int64 \n",
            " 5   Nama Toko  33278 non-null  object\n",
            "dtypes: int64(1), object(5)\n",
            "memory usage: 3.6+ MB\n"
          ]
        }
      ]
    },
    {
      "cell_type": "code",
      "source": [
        "df.head()"
      ],
      "metadata": {
        "colab": {
          "base_uri": "https://localhost:8080/",
          "height": 206
        },
        "id": "alywxqfRyKt4",
        "outputId": "f6ec93fd-2852-4dae-b9e3-cd34c5a05dca"
      },
      "execution_count": 8,
      "outputs": [
        {
          "output_type": "execute_result",
          "data": {
            "text/plain": [
              "      tanggal      jenis                   nama   kategori  nominal Nama Toko\n",
              "0  2022-01-01  pemasukan     Penjualan Mie Ayam  penjualan    90000       NaN\n",
              "1  2022-01-01  pemasukan   Penjualan Pecel Lele  penjualan    78000       NaN\n",
              "2  2022-01-01  pemasukan        Penjualan Bakso  penjualan    22000       NaN\n",
              "3  2022-01-01  pemasukan   Penjualan Ayam Bakar  penjualan   150000       NaN\n",
              "4  2022-01-01  pemasukan  Penjualan Jus Alpukat  penjualan    78000       NaN"
            ],
            "text/html": [
              "\n",
              "  <div id=\"df-cf261bc0-48e6-4da8-b1be-872372fb6b75\" class=\"colab-df-container\">\n",
              "    <div>\n",
              "<style scoped>\n",
              "    .dataframe tbody tr th:only-of-type {\n",
              "        vertical-align: middle;\n",
              "    }\n",
              "\n",
              "    .dataframe tbody tr th {\n",
              "        vertical-align: top;\n",
              "    }\n",
              "\n",
              "    .dataframe thead th {\n",
              "        text-align: right;\n",
              "    }\n",
              "</style>\n",
              "<table border=\"1\" class=\"dataframe\">\n",
              "  <thead>\n",
              "    <tr style=\"text-align: right;\">\n",
              "      <th></th>\n",
              "      <th>tanggal</th>\n",
              "      <th>jenis</th>\n",
              "      <th>nama</th>\n",
              "      <th>kategori</th>\n",
              "      <th>nominal</th>\n",
              "      <th>Nama Toko</th>\n",
              "    </tr>\n",
              "  </thead>\n",
              "  <tbody>\n",
              "    <tr>\n",
              "      <th>0</th>\n",
              "      <td>2022-01-01</td>\n",
              "      <td>pemasukan</td>\n",
              "      <td>Penjualan Mie Ayam</td>\n",
              "      <td>penjualan</td>\n",
              "      <td>90000</td>\n",
              "      <td>NaN</td>\n",
              "    </tr>\n",
              "    <tr>\n",
              "      <th>1</th>\n",
              "      <td>2022-01-01</td>\n",
              "      <td>pemasukan</td>\n",
              "      <td>Penjualan Pecel Lele</td>\n",
              "      <td>penjualan</td>\n",
              "      <td>78000</td>\n",
              "      <td>NaN</td>\n",
              "    </tr>\n",
              "    <tr>\n",
              "      <th>2</th>\n",
              "      <td>2022-01-01</td>\n",
              "      <td>pemasukan</td>\n",
              "      <td>Penjualan Bakso</td>\n",
              "      <td>penjualan</td>\n",
              "      <td>22000</td>\n",
              "      <td>NaN</td>\n",
              "    </tr>\n",
              "    <tr>\n",
              "      <th>3</th>\n",
              "      <td>2022-01-01</td>\n",
              "      <td>pemasukan</td>\n",
              "      <td>Penjualan Ayam Bakar</td>\n",
              "      <td>penjualan</td>\n",
              "      <td>150000</td>\n",
              "      <td>NaN</td>\n",
              "    </tr>\n",
              "    <tr>\n",
              "      <th>4</th>\n",
              "      <td>2022-01-01</td>\n",
              "      <td>pemasukan</td>\n",
              "      <td>Penjualan Jus Alpukat</td>\n",
              "      <td>penjualan</td>\n",
              "      <td>78000</td>\n",
              "      <td>NaN</td>\n",
              "    </tr>\n",
              "  </tbody>\n",
              "</table>\n",
              "</div>\n",
              "    <div class=\"colab-df-buttons\">\n",
              "\n",
              "  <div class=\"colab-df-container\">\n",
              "    <button class=\"colab-df-convert\" onclick=\"convertToInteractive('df-cf261bc0-48e6-4da8-b1be-872372fb6b75')\"\n",
              "            title=\"Convert this dataframe to an interactive table.\"\n",
              "            style=\"display:none;\">\n",
              "\n",
              "  <svg xmlns=\"http://www.w3.org/2000/svg\" height=\"24px\" viewBox=\"0 -960 960 960\">\n",
              "    <path d=\"M120-120v-720h720v720H120Zm60-500h600v-160H180v160Zm220 220h160v-160H400v160Zm0 220h160v-160H400v160ZM180-400h160v-160H180v160Zm440 0h160v-160H620v160ZM180-180h160v-160H180v160Zm440 0h160v-160H620v160Z\"/>\n",
              "  </svg>\n",
              "    </button>\n",
              "\n",
              "  <style>\n",
              "    .colab-df-container {\n",
              "      display:flex;\n",
              "      gap: 12px;\n",
              "    }\n",
              "\n",
              "    .colab-df-convert {\n",
              "      background-color: #E8F0FE;\n",
              "      border: none;\n",
              "      border-radius: 50%;\n",
              "      cursor: pointer;\n",
              "      display: none;\n",
              "      fill: #1967D2;\n",
              "      height: 32px;\n",
              "      padding: 0 0 0 0;\n",
              "      width: 32px;\n",
              "    }\n",
              "\n",
              "    .colab-df-convert:hover {\n",
              "      background-color: #E2EBFA;\n",
              "      box-shadow: 0px 1px 2px rgba(60, 64, 67, 0.3), 0px 1px 3px 1px rgba(60, 64, 67, 0.15);\n",
              "      fill: #174EA6;\n",
              "    }\n",
              "\n",
              "    .colab-df-buttons div {\n",
              "      margin-bottom: 4px;\n",
              "    }\n",
              "\n",
              "    [theme=dark] .colab-df-convert {\n",
              "      background-color: #3B4455;\n",
              "      fill: #D2E3FC;\n",
              "    }\n",
              "\n",
              "    [theme=dark] .colab-df-convert:hover {\n",
              "      background-color: #434B5C;\n",
              "      box-shadow: 0px 1px 3px 1px rgba(0, 0, 0, 0.15);\n",
              "      filter: drop-shadow(0px 1px 2px rgba(0, 0, 0, 0.3));\n",
              "      fill: #FFFFFF;\n",
              "    }\n",
              "  </style>\n",
              "\n",
              "    <script>\n",
              "      const buttonEl =\n",
              "        document.querySelector('#df-cf261bc0-48e6-4da8-b1be-872372fb6b75 button.colab-df-convert');\n",
              "      buttonEl.style.display =\n",
              "        google.colab.kernel.accessAllowed ? 'block' : 'none';\n",
              "\n",
              "      async function convertToInteractive(key) {\n",
              "        const element = document.querySelector('#df-cf261bc0-48e6-4da8-b1be-872372fb6b75');\n",
              "        const dataTable =\n",
              "          await google.colab.kernel.invokeFunction('convertToInteractive',\n",
              "                                                    [key], {});\n",
              "        if (!dataTable) return;\n",
              "\n",
              "        const docLinkHtml = 'Like what you see? Visit the ' +\n",
              "          '<a target=\"_blank\" href=https://colab.research.google.com/notebooks/data_table.ipynb>data table notebook</a>'\n",
              "          + ' to learn more about interactive tables.';\n",
              "        element.innerHTML = '';\n",
              "        dataTable['output_type'] = 'display_data';\n",
              "        await google.colab.output.renderOutput(dataTable, element);\n",
              "        const docLink = document.createElement('div');\n",
              "        docLink.innerHTML = docLinkHtml;\n",
              "        element.appendChild(docLink);\n",
              "      }\n",
              "    </script>\n",
              "  </div>\n",
              "\n",
              "\n",
              "    <div id=\"df-644ad201-4131-4f2b-8182-a24e7a6c114e\">\n",
              "      <button class=\"colab-df-quickchart\" onclick=\"quickchart('df-644ad201-4131-4f2b-8182-a24e7a6c114e')\"\n",
              "                title=\"Suggest charts\"\n",
              "                style=\"display:none;\">\n",
              "\n",
              "<svg xmlns=\"http://www.w3.org/2000/svg\" height=\"24px\"viewBox=\"0 0 24 24\"\n",
              "     width=\"24px\">\n",
              "    <g>\n",
              "        <path d=\"M19 3H5c-1.1 0-2 .9-2 2v14c0 1.1.9 2 2 2h14c1.1 0 2-.9 2-2V5c0-1.1-.9-2-2-2zM9 17H7v-7h2v7zm4 0h-2V7h2v10zm4 0h-2v-4h2v4z\"/>\n",
              "    </g>\n",
              "</svg>\n",
              "      </button>\n",
              "\n",
              "<style>\n",
              "  .colab-df-quickchart {\n",
              "      --bg-color: #E8F0FE;\n",
              "      --fill-color: #1967D2;\n",
              "      --hover-bg-color: #E2EBFA;\n",
              "      --hover-fill-color: #174EA6;\n",
              "      --disabled-fill-color: #AAA;\n",
              "      --disabled-bg-color: #DDD;\n",
              "  }\n",
              "\n",
              "  [theme=dark] .colab-df-quickchart {\n",
              "      --bg-color: #3B4455;\n",
              "      --fill-color: #D2E3FC;\n",
              "      --hover-bg-color: #434B5C;\n",
              "      --hover-fill-color: #FFFFFF;\n",
              "      --disabled-bg-color: #3B4455;\n",
              "      --disabled-fill-color: #666;\n",
              "  }\n",
              "\n",
              "  .colab-df-quickchart {\n",
              "    background-color: var(--bg-color);\n",
              "    border: none;\n",
              "    border-radius: 50%;\n",
              "    cursor: pointer;\n",
              "    display: none;\n",
              "    fill: var(--fill-color);\n",
              "    height: 32px;\n",
              "    padding: 0;\n",
              "    width: 32px;\n",
              "  }\n",
              "\n",
              "  .colab-df-quickchart:hover {\n",
              "    background-color: var(--hover-bg-color);\n",
              "    box-shadow: 0 1px 2px rgba(60, 64, 67, 0.3), 0 1px 3px 1px rgba(60, 64, 67, 0.15);\n",
              "    fill: var(--button-hover-fill-color);\n",
              "  }\n",
              "\n",
              "  .colab-df-quickchart-complete:disabled,\n",
              "  .colab-df-quickchart-complete:disabled:hover {\n",
              "    background-color: var(--disabled-bg-color);\n",
              "    fill: var(--disabled-fill-color);\n",
              "    box-shadow: none;\n",
              "  }\n",
              "\n",
              "  .colab-df-spinner {\n",
              "    border: 2px solid var(--fill-color);\n",
              "    border-color: transparent;\n",
              "    border-bottom-color: var(--fill-color);\n",
              "    animation:\n",
              "      spin 1s steps(1) infinite;\n",
              "  }\n",
              "\n",
              "  @keyframes spin {\n",
              "    0% {\n",
              "      border-color: transparent;\n",
              "      border-bottom-color: var(--fill-color);\n",
              "      border-left-color: var(--fill-color);\n",
              "    }\n",
              "    20% {\n",
              "      border-color: transparent;\n",
              "      border-left-color: var(--fill-color);\n",
              "      border-top-color: var(--fill-color);\n",
              "    }\n",
              "    30% {\n",
              "      border-color: transparent;\n",
              "      border-left-color: var(--fill-color);\n",
              "      border-top-color: var(--fill-color);\n",
              "      border-right-color: var(--fill-color);\n",
              "    }\n",
              "    40% {\n",
              "      border-color: transparent;\n",
              "      border-right-color: var(--fill-color);\n",
              "      border-top-color: var(--fill-color);\n",
              "    }\n",
              "    60% {\n",
              "      border-color: transparent;\n",
              "      border-right-color: var(--fill-color);\n",
              "    }\n",
              "    80% {\n",
              "      border-color: transparent;\n",
              "      border-right-color: var(--fill-color);\n",
              "      border-bottom-color: var(--fill-color);\n",
              "    }\n",
              "    90% {\n",
              "      border-color: transparent;\n",
              "      border-bottom-color: var(--fill-color);\n",
              "    }\n",
              "  }\n",
              "</style>\n",
              "\n",
              "      <script>\n",
              "        async function quickchart(key) {\n",
              "          const quickchartButtonEl =\n",
              "            document.querySelector('#' + key + ' button');\n",
              "          quickchartButtonEl.disabled = true;  // To prevent multiple clicks.\n",
              "          quickchartButtonEl.classList.add('colab-df-spinner');\n",
              "          try {\n",
              "            const charts = await google.colab.kernel.invokeFunction(\n",
              "                'suggestCharts', [key], {});\n",
              "          } catch (error) {\n",
              "            console.error('Error during call to suggestCharts:', error);\n",
              "          }\n",
              "          quickchartButtonEl.classList.remove('colab-df-spinner');\n",
              "          quickchartButtonEl.classList.add('colab-df-quickchart-complete');\n",
              "        }\n",
              "        (() => {\n",
              "          let quickchartButtonEl =\n",
              "            document.querySelector('#df-644ad201-4131-4f2b-8182-a24e7a6c114e button');\n",
              "          quickchartButtonEl.style.display =\n",
              "            google.colab.kernel.accessAllowed ? 'block' : 'none';\n",
              "        })();\n",
              "      </script>\n",
              "    </div>\n",
              "\n",
              "    </div>\n",
              "  </div>\n"
            ],
            "application/vnd.google.colaboratory.intrinsic+json": {
              "type": "dataframe",
              "variable_name": "df",
              "summary": "{\n  \"name\": \"df\",\n  \"rows\": 78730,\n  \"fields\": [\n    {\n      \"column\": \"tanggal\",\n      \"properties\": {\n        \"dtype\": \"object\",\n        \"num_unique_values\": 1216,\n        \"samples\": [\n          \"2023-06-26\",\n          \"2022-09-17\",\n          \"2022-02-13\"\n        ],\n        \"semantic_type\": \"\",\n        \"description\": \"\"\n      }\n    },\n    {\n      \"column\": \"jenis\",\n      \"properties\": {\n        \"dtype\": \"category\",\n        \"num_unique_values\": 2,\n        \"samples\": [\n          \"pengeluaran\",\n          \"pemasukan\"\n        ],\n        \"semantic_type\": \"\",\n        \"description\": \"\"\n      }\n    },\n    {\n      \"column\": \"nama\",\n      \"properties\": {\n        \"dtype\": \"category\",\n        \"num_unique_values\": 75,\n        \"samples\": [\n          \"Penjualan Jus Alpukat\",\n          \"Penjualan Ekstra Sambel\"\n        ],\n        \"semantic_type\": \"\",\n        \"description\": \"\"\n      }\n    },\n    {\n      \"column\": \"kategori\",\n      \"properties\": {\n        \"dtype\": \"category\",\n        \"num_unique_values\": 10,\n        \"samples\": [\n          \"inventaris\",\n          \"bahan baku\"\n        ],\n        \"semantic_type\": \"\",\n        \"description\": \"\"\n      }\n    },\n    {\n      \"column\": \"nominal\",\n      \"properties\": {\n        \"dtype\": \"number\",\n        \"std\": 274801,\n        \"min\": 1000,\n        \"max\": 5000000,\n        \"num_unique_values\": 5254,\n        \"samples\": [\n          3831666,\n          494225\n        ],\n        \"semantic_type\": \"\",\n        \"description\": \"\"\n      }\n    },\n    {\n      \"column\": \"Nama Toko\",\n      \"properties\": {\n        \"dtype\": \"category\",\n        \"num_unique_values\": 1,\n        \"samples\": [\n          \"RM Sinar Balatas\"\n        ],\n        \"semantic_type\": \"\",\n        \"description\": \"\"\n      }\n    }\n  ]\n}"
            }
          },
          "metadata": {},
          "execution_count": 8
        }
      ]
    },
    {
      "cell_type": "markdown",
      "source": [
        "# Data Preprocessing & Ekstraksi Fitur Harian\n",
        "\n",
        " Mengolah semua transaksi lalu menghasilkan DataFrame “daily” yang berisi ringkasan (aggregate) setiap hari per toko"
      ],
      "metadata": {
        "id": "Y6UiisxJMOFh"
      }
    },
    {
      "cell_type": "markdown",
      "source": [
        "Standarisasi nama kolom"
      ],
      "metadata": {
        "id": "q7aTFTCTyTbo"
      }
    },
    {
      "cell_type": "code",
      "source": [
        "df.columns = df.columns.str.lower()"
      ],
      "metadata": {
        "id": "15lAxG-5uCvw"
      },
      "execution_count": 9,
      "outputs": []
    },
    {
      "cell_type": "markdown",
      "source": [
        "Konversi tanggal menjadi tipe datetime"
      ],
      "metadata": {
        "id": "Bd9k7QBRyXGx"
      }
    },
    {
      "cell_type": "code",
      "source": [
        "df['tanggal'] = pd.to_datetime(df['tanggal'])"
      ],
      "metadata": {
        "id": "BhTnNe0KM4Tw"
      },
      "execution_count": 10,
      "outputs": []
    },
    {
      "cell_type": "markdown",
      "source": [
        "Memisahkan nominal menjadi kolom “pemasukan” dan “pengeluaran”"
      ],
      "metadata": {
        "id": "9fEKiYs5yfKX"
      }
    },
    {
      "cell_type": "code",
      "source": [
        "df['pengeluaran'] = df.apply(lambda row: row['nominal'] if row['jenis'] == 'pengeluaran' else 0, axis=1)\n",
        "df['pemasukan'] = df.apply(lambda row: row['nominal'] if row['jenis'] == 'pemasukan' else 0, axis=1)"
      ],
      "metadata": {
        "id": "TpCphJPXOZWg"
      },
      "execution_count": 11,
      "outputs": []
    },
    {
      "cell_type": "markdown",
      "source": [
        "Tambah kolom 'periode_minggu' (akhir periode Senin)"
      ],
      "metadata": {
        "id": "TtHI7qSe7aoA"
      }
    },
    {
      "cell_type": "code",
      "source": [
        "df['periode_minggu'] = df['tanggal'].dt.to_period('W-MON').apply(lambda r: r.start_time)"
      ],
      "metadata": {
        "id": "XkGPbGGv7L4Q"
      },
      "execution_count": 12,
      "outputs": []
    },
    {
      "cell_type": "markdown",
      "source": [
        "Agregasi per minggu"
      ],
      "metadata": {
        "id": "fXoAbYzz7SmH"
      }
    },
    {
      "cell_type": "code",
      "source": [
        "weekly = (\n",
        "    df\n",
        "    .groupby(['nama toko', 'periode_minggu'])\n",
        "    .agg({\n",
        "        'pemasukan':   'sum',\n",
        "        'pengeluaran': 'sum',\n",
        "        'nominal':     'count'   # ini akan jadi jumlah_transaksi\n",
        "    })\n",
        "    .rename(columns={'nominal': 'jumlah_transaksi'})\n",
        "    .reset_index()\n",
        ")"
      ],
      "metadata": {
        "id": "4taq0BNY7Pgx"
      },
      "execution_count": 13,
      "outputs": []
    },
    {
      "cell_type": "markdown",
      "source": [
        "Tambahkan kolom 'laba_bersih' & 'rasio_keuangan'"
      ],
      "metadata": {
        "id": "MY0XjVtc7o3v"
      }
    },
    {
      "cell_type": "code",
      "source": [
        "weekly['laba_bersih'] = weekly['pemasukan'] - weekly['pengeluaran']\n",
        "weekly['rasio_keuangan'] = weekly['pemasukan'] / (weekly['pengeluaran'] + 1)"
      ],
      "metadata": {
        "id": "_MIAyJ-S7kQw"
      },
      "execution_count": 14,
      "outputs": []
    },
    {
      "cell_type": "markdown",
      "source": [
        "hitung jumlah hari rugi perminggu"
      ],
      "metadata": {
        "id": "xaHJQ3uS7tOB"
      }
    },
    {
      "cell_type": "code",
      "source": [
        "harian = (\n",
        "    df\n",
        "    .groupby(['nama toko', 'tanggal'])\n",
        "    .agg({'pemasukan': 'sum', 'pengeluaran': 'sum'})\n",
        "    .reset_index()\n",
        ")\n",
        "harian['flag_rugi'] = (harian['pengeluaran'] > harian['pemasukan']).astype(int)\n",
        "harian['periode_minggu'] = harian['tanggal'].dt.to_period('W-MON').apply(lambda r: r.start_time)\n",
        "\n",
        "hari_rugi_per_minggu = (\n",
        "    harian\n",
        "    .groupby(['nama toko', 'periode_minggu'])['flag_rugi']\n",
        "    .sum()\n",
        "    .reset_index(name='jumlah_hari_rugi')\n",
        ")"
      ],
      "metadata": {
        "id": "eHRcmL4a7taA"
      },
      "execution_count": 15,
      "outputs": []
    },
    {
      "cell_type": "markdown",
      "source": [
        "Merge jumlah_hari_rugi ke weekly"
      ],
      "metadata": {
        "id": "i6f8Pdqj7z9q"
      }
    },
    {
      "cell_type": "code",
      "source": [
        "weekly = weekly.merge(\n",
        "    hari_rugi_per_minggu,\n",
        "    on=['nama toko', 'periode_minggu'],\n",
        "    how='left'\n",
        ")\n"
      ],
      "metadata": {
        "id": "StphTFGr70KR"
      },
      "execution_count": 16,
      "outputs": []
    },
    {
      "cell_type": "code",
      "source": [
        "weekly['jumlah_hari_rugi'] = weekly['jumlah_hari_rugi'].fillna(0).astype(int)"
      ],
      "metadata": {
        "id": "YZPMJFSn77h4"
      },
      "execution_count": 17,
      "outputs": []
    },
    {
      "cell_type": "code",
      "source": [
        "weekly.head()"
      ],
      "metadata": {
        "colab": {
          "base_uri": "https://localhost:8080/",
          "height": 206
        },
        "id": "LSEcvsc_7_M5",
        "outputId": "e70fe75c-7f78-43f8-dcab-9165db62aaaa"
      },
      "execution_count": 18,
      "outputs": [
        {
          "output_type": "execute_result",
          "data": {
            "text/plain": [
              "          nama toko periode_minggu  pemasukan  pengeluaran  jumlah_transaksi  \\\n",
              "0  RM Sinar Balatas     2021-12-28    5818000     14545701                99   \n",
              "1  RM Sinar Balatas     2022-01-04   12660000     13309240               206   \n",
              "2  RM Sinar Balatas     2022-01-11   12046000     13070540               197   \n",
              "3  RM Sinar Balatas     2022-01-18   11948000     12144892               188   \n",
              "4  RM Sinar Balatas     2022-01-25   12354000     12621995               195   \n",
              "\n",
              "   laba_bersih  rasio_keuangan  jumlah_hari_rugi  \n",
              "0     -8727701        0.399981                 2  \n",
              "1      -649240        0.951219                 2  \n",
              "2     -1024540        0.921614                 1  \n",
              "3      -196892        0.983788                 2  \n",
              "4      -267995        0.978768                 2  "
            ],
            "text/html": [
              "\n",
              "  <div id=\"df-ffcce94e-c629-4e84-b392-ae01863dca46\" class=\"colab-df-container\">\n",
              "    <div>\n",
              "<style scoped>\n",
              "    .dataframe tbody tr th:only-of-type {\n",
              "        vertical-align: middle;\n",
              "    }\n",
              "\n",
              "    .dataframe tbody tr th {\n",
              "        vertical-align: top;\n",
              "    }\n",
              "\n",
              "    .dataframe thead th {\n",
              "        text-align: right;\n",
              "    }\n",
              "</style>\n",
              "<table border=\"1\" class=\"dataframe\">\n",
              "  <thead>\n",
              "    <tr style=\"text-align: right;\">\n",
              "      <th></th>\n",
              "      <th>nama toko</th>\n",
              "      <th>periode_minggu</th>\n",
              "      <th>pemasukan</th>\n",
              "      <th>pengeluaran</th>\n",
              "      <th>jumlah_transaksi</th>\n",
              "      <th>laba_bersih</th>\n",
              "      <th>rasio_keuangan</th>\n",
              "      <th>jumlah_hari_rugi</th>\n",
              "    </tr>\n",
              "  </thead>\n",
              "  <tbody>\n",
              "    <tr>\n",
              "      <th>0</th>\n",
              "      <td>RM Sinar Balatas</td>\n",
              "      <td>2021-12-28</td>\n",
              "      <td>5818000</td>\n",
              "      <td>14545701</td>\n",
              "      <td>99</td>\n",
              "      <td>-8727701</td>\n",
              "      <td>0.399981</td>\n",
              "      <td>2</td>\n",
              "    </tr>\n",
              "    <tr>\n",
              "      <th>1</th>\n",
              "      <td>RM Sinar Balatas</td>\n",
              "      <td>2022-01-04</td>\n",
              "      <td>12660000</td>\n",
              "      <td>13309240</td>\n",
              "      <td>206</td>\n",
              "      <td>-649240</td>\n",
              "      <td>0.951219</td>\n",
              "      <td>2</td>\n",
              "    </tr>\n",
              "    <tr>\n",
              "      <th>2</th>\n",
              "      <td>RM Sinar Balatas</td>\n",
              "      <td>2022-01-11</td>\n",
              "      <td>12046000</td>\n",
              "      <td>13070540</td>\n",
              "      <td>197</td>\n",
              "      <td>-1024540</td>\n",
              "      <td>0.921614</td>\n",
              "      <td>1</td>\n",
              "    </tr>\n",
              "    <tr>\n",
              "      <th>3</th>\n",
              "      <td>RM Sinar Balatas</td>\n",
              "      <td>2022-01-18</td>\n",
              "      <td>11948000</td>\n",
              "      <td>12144892</td>\n",
              "      <td>188</td>\n",
              "      <td>-196892</td>\n",
              "      <td>0.983788</td>\n",
              "      <td>2</td>\n",
              "    </tr>\n",
              "    <tr>\n",
              "      <th>4</th>\n",
              "      <td>RM Sinar Balatas</td>\n",
              "      <td>2022-01-25</td>\n",
              "      <td>12354000</td>\n",
              "      <td>12621995</td>\n",
              "      <td>195</td>\n",
              "      <td>-267995</td>\n",
              "      <td>0.978768</td>\n",
              "      <td>2</td>\n",
              "    </tr>\n",
              "  </tbody>\n",
              "</table>\n",
              "</div>\n",
              "    <div class=\"colab-df-buttons\">\n",
              "\n",
              "  <div class=\"colab-df-container\">\n",
              "    <button class=\"colab-df-convert\" onclick=\"convertToInteractive('df-ffcce94e-c629-4e84-b392-ae01863dca46')\"\n",
              "            title=\"Convert this dataframe to an interactive table.\"\n",
              "            style=\"display:none;\">\n",
              "\n",
              "  <svg xmlns=\"http://www.w3.org/2000/svg\" height=\"24px\" viewBox=\"0 -960 960 960\">\n",
              "    <path d=\"M120-120v-720h720v720H120Zm60-500h600v-160H180v160Zm220 220h160v-160H400v160Zm0 220h160v-160H400v160ZM180-400h160v-160H180v160Zm440 0h160v-160H620v160ZM180-180h160v-160H180v160Zm440 0h160v-160H620v160Z\"/>\n",
              "  </svg>\n",
              "    </button>\n",
              "\n",
              "  <style>\n",
              "    .colab-df-container {\n",
              "      display:flex;\n",
              "      gap: 12px;\n",
              "    }\n",
              "\n",
              "    .colab-df-convert {\n",
              "      background-color: #E8F0FE;\n",
              "      border: none;\n",
              "      border-radius: 50%;\n",
              "      cursor: pointer;\n",
              "      display: none;\n",
              "      fill: #1967D2;\n",
              "      height: 32px;\n",
              "      padding: 0 0 0 0;\n",
              "      width: 32px;\n",
              "    }\n",
              "\n",
              "    .colab-df-convert:hover {\n",
              "      background-color: #E2EBFA;\n",
              "      box-shadow: 0px 1px 2px rgba(60, 64, 67, 0.3), 0px 1px 3px 1px rgba(60, 64, 67, 0.15);\n",
              "      fill: #174EA6;\n",
              "    }\n",
              "\n",
              "    .colab-df-buttons div {\n",
              "      margin-bottom: 4px;\n",
              "    }\n",
              "\n",
              "    [theme=dark] .colab-df-convert {\n",
              "      background-color: #3B4455;\n",
              "      fill: #D2E3FC;\n",
              "    }\n",
              "\n",
              "    [theme=dark] .colab-df-convert:hover {\n",
              "      background-color: #434B5C;\n",
              "      box-shadow: 0px 1px 3px 1px rgba(0, 0, 0, 0.15);\n",
              "      filter: drop-shadow(0px 1px 2px rgba(0, 0, 0, 0.3));\n",
              "      fill: #FFFFFF;\n",
              "    }\n",
              "  </style>\n",
              "\n",
              "    <script>\n",
              "      const buttonEl =\n",
              "        document.querySelector('#df-ffcce94e-c629-4e84-b392-ae01863dca46 button.colab-df-convert');\n",
              "      buttonEl.style.display =\n",
              "        google.colab.kernel.accessAllowed ? 'block' : 'none';\n",
              "\n",
              "      async function convertToInteractive(key) {\n",
              "        const element = document.querySelector('#df-ffcce94e-c629-4e84-b392-ae01863dca46');\n",
              "        const dataTable =\n",
              "          await google.colab.kernel.invokeFunction('convertToInteractive',\n",
              "                                                    [key], {});\n",
              "        if (!dataTable) return;\n",
              "\n",
              "        const docLinkHtml = 'Like what you see? Visit the ' +\n",
              "          '<a target=\"_blank\" href=https://colab.research.google.com/notebooks/data_table.ipynb>data table notebook</a>'\n",
              "          + ' to learn more about interactive tables.';\n",
              "        element.innerHTML = '';\n",
              "        dataTable['output_type'] = 'display_data';\n",
              "        await google.colab.output.renderOutput(dataTable, element);\n",
              "        const docLink = document.createElement('div');\n",
              "        docLink.innerHTML = docLinkHtml;\n",
              "        element.appendChild(docLink);\n",
              "      }\n",
              "    </script>\n",
              "  </div>\n",
              "\n",
              "\n",
              "    <div id=\"df-18b8e206-dda1-4222-8081-a88f0bac3fa7\">\n",
              "      <button class=\"colab-df-quickchart\" onclick=\"quickchart('df-18b8e206-dda1-4222-8081-a88f0bac3fa7')\"\n",
              "                title=\"Suggest charts\"\n",
              "                style=\"display:none;\">\n",
              "\n",
              "<svg xmlns=\"http://www.w3.org/2000/svg\" height=\"24px\"viewBox=\"0 0 24 24\"\n",
              "     width=\"24px\">\n",
              "    <g>\n",
              "        <path d=\"M19 3H5c-1.1 0-2 .9-2 2v14c0 1.1.9 2 2 2h14c1.1 0 2-.9 2-2V5c0-1.1-.9-2-2-2zM9 17H7v-7h2v7zm4 0h-2V7h2v10zm4 0h-2v-4h2v4z\"/>\n",
              "    </g>\n",
              "</svg>\n",
              "      </button>\n",
              "\n",
              "<style>\n",
              "  .colab-df-quickchart {\n",
              "      --bg-color: #E8F0FE;\n",
              "      --fill-color: #1967D2;\n",
              "      --hover-bg-color: #E2EBFA;\n",
              "      --hover-fill-color: #174EA6;\n",
              "      --disabled-fill-color: #AAA;\n",
              "      --disabled-bg-color: #DDD;\n",
              "  }\n",
              "\n",
              "  [theme=dark] .colab-df-quickchart {\n",
              "      --bg-color: #3B4455;\n",
              "      --fill-color: #D2E3FC;\n",
              "      --hover-bg-color: #434B5C;\n",
              "      --hover-fill-color: #FFFFFF;\n",
              "      --disabled-bg-color: #3B4455;\n",
              "      --disabled-fill-color: #666;\n",
              "  }\n",
              "\n",
              "  .colab-df-quickchart {\n",
              "    background-color: var(--bg-color);\n",
              "    border: none;\n",
              "    border-radius: 50%;\n",
              "    cursor: pointer;\n",
              "    display: none;\n",
              "    fill: var(--fill-color);\n",
              "    height: 32px;\n",
              "    padding: 0;\n",
              "    width: 32px;\n",
              "  }\n",
              "\n",
              "  .colab-df-quickchart:hover {\n",
              "    background-color: var(--hover-bg-color);\n",
              "    box-shadow: 0 1px 2px rgba(60, 64, 67, 0.3), 0 1px 3px 1px rgba(60, 64, 67, 0.15);\n",
              "    fill: var(--button-hover-fill-color);\n",
              "  }\n",
              "\n",
              "  .colab-df-quickchart-complete:disabled,\n",
              "  .colab-df-quickchart-complete:disabled:hover {\n",
              "    background-color: var(--disabled-bg-color);\n",
              "    fill: var(--disabled-fill-color);\n",
              "    box-shadow: none;\n",
              "  }\n",
              "\n",
              "  .colab-df-spinner {\n",
              "    border: 2px solid var(--fill-color);\n",
              "    border-color: transparent;\n",
              "    border-bottom-color: var(--fill-color);\n",
              "    animation:\n",
              "      spin 1s steps(1) infinite;\n",
              "  }\n",
              "\n",
              "  @keyframes spin {\n",
              "    0% {\n",
              "      border-color: transparent;\n",
              "      border-bottom-color: var(--fill-color);\n",
              "      border-left-color: var(--fill-color);\n",
              "    }\n",
              "    20% {\n",
              "      border-color: transparent;\n",
              "      border-left-color: var(--fill-color);\n",
              "      border-top-color: var(--fill-color);\n",
              "    }\n",
              "    30% {\n",
              "      border-color: transparent;\n",
              "      border-left-color: var(--fill-color);\n",
              "      border-top-color: var(--fill-color);\n",
              "      border-right-color: var(--fill-color);\n",
              "    }\n",
              "    40% {\n",
              "      border-color: transparent;\n",
              "      border-right-color: var(--fill-color);\n",
              "      border-top-color: var(--fill-color);\n",
              "    }\n",
              "    60% {\n",
              "      border-color: transparent;\n",
              "      border-right-color: var(--fill-color);\n",
              "    }\n",
              "    80% {\n",
              "      border-color: transparent;\n",
              "      border-right-color: var(--fill-color);\n",
              "      border-bottom-color: var(--fill-color);\n",
              "    }\n",
              "    90% {\n",
              "      border-color: transparent;\n",
              "      border-bottom-color: var(--fill-color);\n",
              "    }\n",
              "  }\n",
              "</style>\n",
              "\n",
              "      <script>\n",
              "        async function quickchart(key) {\n",
              "          const quickchartButtonEl =\n",
              "            document.querySelector('#' + key + ' button');\n",
              "          quickchartButtonEl.disabled = true;  // To prevent multiple clicks.\n",
              "          quickchartButtonEl.classList.add('colab-df-spinner');\n",
              "          try {\n",
              "            const charts = await google.colab.kernel.invokeFunction(\n",
              "                'suggestCharts', [key], {});\n",
              "          } catch (error) {\n",
              "            console.error('Error during call to suggestCharts:', error);\n",
              "          }\n",
              "          quickchartButtonEl.classList.remove('colab-df-spinner');\n",
              "          quickchartButtonEl.classList.add('colab-df-quickchart-complete');\n",
              "        }\n",
              "        (() => {\n",
              "          let quickchartButtonEl =\n",
              "            document.querySelector('#df-18b8e206-dda1-4222-8081-a88f0bac3fa7 button');\n",
              "          quickchartButtonEl.style.display =\n",
              "            google.colab.kernel.accessAllowed ? 'block' : 'none';\n",
              "        })();\n",
              "      </script>\n",
              "    </div>\n",
              "\n",
              "    </div>\n",
              "  </div>\n"
            ],
            "application/vnd.google.colaboratory.intrinsic+json": {
              "type": "dataframe",
              "variable_name": "weekly",
              "summary": "{\n  \"name\": \"weekly\",\n  \"rows\": 175,\n  \"fields\": [\n    {\n      \"column\": \"nama toko\",\n      \"properties\": {\n        \"dtype\": \"category\",\n        \"num_unique_values\": 1,\n        \"samples\": [\n          \"RM Sinar Balatas\"\n        ],\n        \"semantic_type\": \"\",\n        \"description\": \"\"\n      }\n    },\n    {\n      \"column\": \"periode_minggu\",\n      \"properties\": {\n        \"dtype\": \"date\",\n        \"min\": \"2021-12-28 00:00:00\",\n        \"max\": \"2025-04-29 00:00:00\",\n        \"num_unique_values\": 175,\n        \"samples\": [\n          \"2024-12-24 00:00:00\"\n        ],\n        \"semantic_type\": \"\",\n        \"description\": \"\"\n      }\n    },\n    {\n      \"column\": \"pemasukan\",\n      \"properties\": {\n        \"dtype\": \"number\",\n        \"std\": 1121372,\n        \"min\": 3486000,\n        \"max\": 14011000,\n        \"num_unique_values\": 172,\n        \"samples\": [\n          10391000\n        ],\n        \"semantic_type\": \"\",\n        \"description\": \"\"\n      }\n    },\n    {\n      \"column\": \"pengeluaran\",\n      \"properties\": {\n        \"dtype\": \"number\",\n        \"std\": 3398620,\n        \"min\": 2016746,\n        \"max\": 20613704,\n        \"num_unique_values\": 175,\n        \"samples\": [\n          10896877\n        ],\n        \"semantic_type\": \"\",\n        \"description\": \"\"\n      }\n    },\n    {\n      \"column\": \"jumlah_transaksi\",\n      \"properties\": {\n        \"dtype\": \"number\",\n        \"std\": 15,\n        \"min\": 52,\n        \"max\": 212,\n        \"num_unique_values\": 38,\n        \"samples\": [\n          181\n        ],\n        \"semantic_type\": \"\",\n        \"description\": \"\"\n      }\n    },\n    {\n      \"column\": \"laba_bersih\",\n      \"properties\": {\n        \"dtype\": \"number\",\n        \"std\": 3400140,\n        \"min\": -10629257,\n        \"max\": 4500501,\n        \"num_unique_values\": 175,\n        \"samples\": [\n          7123\n        ],\n        \"semantic_type\": \"\",\n        \"description\": \"\"\n      }\n    },\n    {\n      \"column\": \"rasio_keuangan\",\n      \"properties\": {\n        \"dtype\": \"number\",\n        \"std\": 0.21754873339500685,\n        \"min\": 0.39998069532842073,\n        \"max\": 1.7285261859816823,\n        \"num_unique_values\": 175,\n        \"samples\": [\n          1.0006535816956013\n        ],\n        \"semantic_type\": \"\",\n        \"description\": \"\"\n      }\n    },\n    {\n      \"column\": \"jumlah_hari_rugi\",\n      \"properties\": {\n        \"dtype\": \"number\",\n        \"std\": 0,\n        \"min\": 1,\n        \"max\": 4,\n        \"num_unique_values\": 4,\n        \"samples\": [\n          1\n        ],\n        \"semantic_type\": \"\",\n        \"description\": \"\"\n      }\n    }\n  ]\n}"
            }
          },
          "metadata": {},
          "execution_count": 18
        }
      ]
    },
    {
      "cell_type": "markdown",
      "source": [
        "Menentukan Label Multi‐Kelas"
      ],
      "metadata": {
        "id": "79xaIDmPz3Fo"
      }
    },
    {
      "cell_type": "code",
      "source": [
        "def kategori_laba(row):\n",
        "    rasio = row['rasio_keuangan']\n",
        "    if rasio >= 1.2:\n",
        "        return 'Sehat'\n",
        "    elif rasio >= 1.0:\n",
        "        return 'Cukup Sehat'\n",
        "    elif rasio >= 0.8:\n",
        "        return 'Perlu Perhatian'\n",
        "    else:\n",
        "        return 'Perlu Penanganan Khusus'\n",
        "\n",
        "weekly['label_kelas'] = weekly.apply(kategori_laba, axis=1)\n",
        "\n",
        "# Tampilkan distribusi label\n",
        "print(weekly['label_kelas'].value_counts())\n"
      ],
      "metadata": {
        "colab": {
          "base_uri": "https://localhost:8080/"
        },
        "id": "wiU3ylNgz3SI",
        "outputId": "2e50f021-bec0-4941-9d10-860291a00169"
      },
      "execution_count": 19,
      "outputs": [
        {
          "output_type": "stream",
          "name": "stdout",
          "text": [
            "label_kelas\n",
            "Perlu Perhatian            63\n",
            "Cukup Sehat                56\n",
            "Perlu Penanganan Khusus    43\n",
            "Sehat                      13\n",
            "Name: count, dtype: int64\n"
          ]
        }
      ]
    },
    {
      "cell_type": "code",
      "source": [
        "weekly.head()"
      ],
      "metadata": {
        "colab": {
          "base_uri": "https://localhost:8080/",
          "height": 206
        },
        "id": "XfpajULc9gga",
        "outputId": "f4e8f1f3-1f18-43c0-f63b-78780a17709e"
      },
      "execution_count": 20,
      "outputs": [
        {
          "output_type": "execute_result",
          "data": {
            "text/plain": [
              "          nama toko periode_minggu  pemasukan  pengeluaran  jumlah_transaksi  \\\n",
              "0  RM Sinar Balatas     2021-12-28    5818000     14545701                99   \n",
              "1  RM Sinar Balatas     2022-01-04   12660000     13309240               206   \n",
              "2  RM Sinar Balatas     2022-01-11   12046000     13070540               197   \n",
              "3  RM Sinar Balatas     2022-01-18   11948000     12144892               188   \n",
              "4  RM Sinar Balatas     2022-01-25   12354000     12621995               195   \n",
              "\n",
              "   laba_bersih  rasio_keuangan  jumlah_hari_rugi              label_kelas  \n",
              "0     -8727701        0.399981                 2  Perlu Penanganan Khusus  \n",
              "1      -649240        0.951219                 2          Perlu Perhatian  \n",
              "2     -1024540        0.921614                 1          Perlu Perhatian  \n",
              "3      -196892        0.983788                 2          Perlu Perhatian  \n",
              "4      -267995        0.978768                 2          Perlu Perhatian  "
            ],
            "text/html": [
              "\n",
              "  <div id=\"df-dc49272c-7d84-4525-83e2-807ceda27506\" class=\"colab-df-container\">\n",
              "    <div>\n",
              "<style scoped>\n",
              "    .dataframe tbody tr th:only-of-type {\n",
              "        vertical-align: middle;\n",
              "    }\n",
              "\n",
              "    .dataframe tbody tr th {\n",
              "        vertical-align: top;\n",
              "    }\n",
              "\n",
              "    .dataframe thead th {\n",
              "        text-align: right;\n",
              "    }\n",
              "</style>\n",
              "<table border=\"1\" class=\"dataframe\">\n",
              "  <thead>\n",
              "    <tr style=\"text-align: right;\">\n",
              "      <th></th>\n",
              "      <th>nama toko</th>\n",
              "      <th>periode_minggu</th>\n",
              "      <th>pemasukan</th>\n",
              "      <th>pengeluaran</th>\n",
              "      <th>jumlah_transaksi</th>\n",
              "      <th>laba_bersih</th>\n",
              "      <th>rasio_keuangan</th>\n",
              "      <th>jumlah_hari_rugi</th>\n",
              "      <th>label_kelas</th>\n",
              "    </tr>\n",
              "  </thead>\n",
              "  <tbody>\n",
              "    <tr>\n",
              "      <th>0</th>\n",
              "      <td>RM Sinar Balatas</td>\n",
              "      <td>2021-12-28</td>\n",
              "      <td>5818000</td>\n",
              "      <td>14545701</td>\n",
              "      <td>99</td>\n",
              "      <td>-8727701</td>\n",
              "      <td>0.399981</td>\n",
              "      <td>2</td>\n",
              "      <td>Perlu Penanganan Khusus</td>\n",
              "    </tr>\n",
              "    <tr>\n",
              "      <th>1</th>\n",
              "      <td>RM Sinar Balatas</td>\n",
              "      <td>2022-01-04</td>\n",
              "      <td>12660000</td>\n",
              "      <td>13309240</td>\n",
              "      <td>206</td>\n",
              "      <td>-649240</td>\n",
              "      <td>0.951219</td>\n",
              "      <td>2</td>\n",
              "      <td>Perlu Perhatian</td>\n",
              "    </tr>\n",
              "    <tr>\n",
              "      <th>2</th>\n",
              "      <td>RM Sinar Balatas</td>\n",
              "      <td>2022-01-11</td>\n",
              "      <td>12046000</td>\n",
              "      <td>13070540</td>\n",
              "      <td>197</td>\n",
              "      <td>-1024540</td>\n",
              "      <td>0.921614</td>\n",
              "      <td>1</td>\n",
              "      <td>Perlu Perhatian</td>\n",
              "    </tr>\n",
              "    <tr>\n",
              "      <th>3</th>\n",
              "      <td>RM Sinar Balatas</td>\n",
              "      <td>2022-01-18</td>\n",
              "      <td>11948000</td>\n",
              "      <td>12144892</td>\n",
              "      <td>188</td>\n",
              "      <td>-196892</td>\n",
              "      <td>0.983788</td>\n",
              "      <td>2</td>\n",
              "      <td>Perlu Perhatian</td>\n",
              "    </tr>\n",
              "    <tr>\n",
              "      <th>4</th>\n",
              "      <td>RM Sinar Balatas</td>\n",
              "      <td>2022-01-25</td>\n",
              "      <td>12354000</td>\n",
              "      <td>12621995</td>\n",
              "      <td>195</td>\n",
              "      <td>-267995</td>\n",
              "      <td>0.978768</td>\n",
              "      <td>2</td>\n",
              "      <td>Perlu Perhatian</td>\n",
              "    </tr>\n",
              "  </tbody>\n",
              "</table>\n",
              "</div>\n",
              "    <div class=\"colab-df-buttons\">\n",
              "\n",
              "  <div class=\"colab-df-container\">\n",
              "    <button class=\"colab-df-convert\" onclick=\"convertToInteractive('df-dc49272c-7d84-4525-83e2-807ceda27506')\"\n",
              "            title=\"Convert this dataframe to an interactive table.\"\n",
              "            style=\"display:none;\">\n",
              "\n",
              "  <svg xmlns=\"http://www.w3.org/2000/svg\" height=\"24px\" viewBox=\"0 -960 960 960\">\n",
              "    <path d=\"M120-120v-720h720v720H120Zm60-500h600v-160H180v160Zm220 220h160v-160H400v160Zm0 220h160v-160H400v160ZM180-400h160v-160H180v160Zm440 0h160v-160H620v160ZM180-180h160v-160H180v160Zm440 0h160v-160H620v160Z\"/>\n",
              "  </svg>\n",
              "    </button>\n",
              "\n",
              "  <style>\n",
              "    .colab-df-container {\n",
              "      display:flex;\n",
              "      gap: 12px;\n",
              "    }\n",
              "\n",
              "    .colab-df-convert {\n",
              "      background-color: #E8F0FE;\n",
              "      border: none;\n",
              "      border-radius: 50%;\n",
              "      cursor: pointer;\n",
              "      display: none;\n",
              "      fill: #1967D2;\n",
              "      height: 32px;\n",
              "      padding: 0 0 0 0;\n",
              "      width: 32px;\n",
              "    }\n",
              "\n",
              "    .colab-df-convert:hover {\n",
              "      background-color: #E2EBFA;\n",
              "      box-shadow: 0px 1px 2px rgba(60, 64, 67, 0.3), 0px 1px 3px 1px rgba(60, 64, 67, 0.15);\n",
              "      fill: #174EA6;\n",
              "    }\n",
              "\n",
              "    .colab-df-buttons div {\n",
              "      margin-bottom: 4px;\n",
              "    }\n",
              "\n",
              "    [theme=dark] .colab-df-convert {\n",
              "      background-color: #3B4455;\n",
              "      fill: #D2E3FC;\n",
              "    }\n",
              "\n",
              "    [theme=dark] .colab-df-convert:hover {\n",
              "      background-color: #434B5C;\n",
              "      box-shadow: 0px 1px 3px 1px rgba(0, 0, 0, 0.15);\n",
              "      filter: drop-shadow(0px 1px 2px rgba(0, 0, 0, 0.3));\n",
              "      fill: #FFFFFF;\n",
              "    }\n",
              "  </style>\n",
              "\n",
              "    <script>\n",
              "      const buttonEl =\n",
              "        document.querySelector('#df-dc49272c-7d84-4525-83e2-807ceda27506 button.colab-df-convert');\n",
              "      buttonEl.style.display =\n",
              "        google.colab.kernel.accessAllowed ? 'block' : 'none';\n",
              "\n",
              "      async function convertToInteractive(key) {\n",
              "        const element = document.querySelector('#df-dc49272c-7d84-4525-83e2-807ceda27506');\n",
              "        const dataTable =\n",
              "          await google.colab.kernel.invokeFunction('convertToInteractive',\n",
              "                                                    [key], {});\n",
              "        if (!dataTable) return;\n",
              "\n",
              "        const docLinkHtml = 'Like what you see? Visit the ' +\n",
              "          '<a target=\"_blank\" href=https://colab.research.google.com/notebooks/data_table.ipynb>data table notebook</a>'\n",
              "          + ' to learn more about interactive tables.';\n",
              "        element.innerHTML = '';\n",
              "        dataTable['output_type'] = 'display_data';\n",
              "        await google.colab.output.renderOutput(dataTable, element);\n",
              "        const docLink = document.createElement('div');\n",
              "        docLink.innerHTML = docLinkHtml;\n",
              "        element.appendChild(docLink);\n",
              "      }\n",
              "    </script>\n",
              "  </div>\n",
              "\n",
              "\n",
              "    <div id=\"df-5501ce1c-76ee-430a-9adb-04dea07508be\">\n",
              "      <button class=\"colab-df-quickchart\" onclick=\"quickchart('df-5501ce1c-76ee-430a-9adb-04dea07508be')\"\n",
              "                title=\"Suggest charts\"\n",
              "                style=\"display:none;\">\n",
              "\n",
              "<svg xmlns=\"http://www.w3.org/2000/svg\" height=\"24px\"viewBox=\"0 0 24 24\"\n",
              "     width=\"24px\">\n",
              "    <g>\n",
              "        <path d=\"M19 3H5c-1.1 0-2 .9-2 2v14c0 1.1.9 2 2 2h14c1.1 0 2-.9 2-2V5c0-1.1-.9-2-2-2zM9 17H7v-7h2v7zm4 0h-2V7h2v10zm4 0h-2v-4h2v4z\"/>\n",
              "    </g>\n",
              "</svg>\n",
              "      </button>\n",
              "\n",
              "<style>\n",
              "  .colab-df-quickchart {\n",
              "      --bg-color: #E8F0FE;\n",
              "      --fill-color: #1967D2;\n",
              "      --hover-bg-color: #E2EBFA;\n",
              "      --hover-fill-color: #174EA6;\n",
              "      --disabled-fill-color: #AAA;\n",
              "      --disabled-bg-color: #DDD;\n",
              "  }\n",
              "\n",
              "  [theme=dark] .colab-df-quickchart {\n",
              "      --bg-color: #3B4455;\n",
              "      --fill-color: #D2E3FC;\n",
              "      --hover-bg-color: #434B5C;\n",
              "      --hover-fill-color: #FFFFFF;\n",
              "      --disabled-bg-color: #3B4455;\n",
              "      --disabled-fill-color: #666;\n",
              "  }\n",
              "\n",
              "  .colab-df-quickchart {\n",
              "    background-color: var(--bg-color);\n",
              "    border: none;\n",
              "    border-radius: 50%;\n",
              "    cursor: pointer;\n",
              "    display: none;\n",
              "    fill: var(--fill-color);\n",
              "    height: 32px;\n",
              "    padding: 0;\n",
              "    width: 32px;\n",
              "  }\n",
              "\n",
              "  .colab-df-quickchart:hover {\n",
              "    background-color: var(--hover-bg-color);\n",
              "    box-shadow: 0 1px 2px rgba(60, 64, 67, 0.3), 0 1px 3px 1px rgba(60, 64, 67, 0.15);\n",
              "    fill: var(--button-hover-fill-color);\n",
              "  }\n",
              "\n",
              "  .colab-df-quickchart-complete:disabled,\n",
              "  .colab-df-quickchart-complete:disabled:hover {\n",
              "    background-color: var(--disabled-bg-color);\n",
              "    fill: var(--disabled-fill-color);\n",
              "    box-shadow: none;\n",
              "  }\n",
              "\n",
              "  .colab-df-spinner {\n",
              "    border: 2px solid var(--fill-color);\n",
              "    border-color: transparent;\n",
              "    border-bottom-color: var(--fill-color);\n",
              "    animation:\n",
              "      spin 1s steps(1) infinite;\n",
              "  }\n",
              "\n",
              "  @keyframes spin {\n",
              "    0% {\n",
              "      border-color: transparent;\n",
              "      border-bottom-color: var(--fill-color);\n",
              "      border-left-color: var(--fill-color);\n",
              "    }\n",
              "    20% {\n",
              "      border-color: transparent;\n",
              "      border-left-color: var(--fill-color);\n",
              "      border-top-color: var(--fill-color);\n",
              "    }\n",
              "    30% {\n",
              "      border-color: transparent;\n",
              "      border-left-color: var(--fill-color);\n",
              "      border-top-color: var(--fill-color);\n",
              "      border-right-color: var(--fill-color);\n",
              "    }\n",
              "    40% {\n",
              "      border-color: transparent;\n",
              "      border-right-color: var(--fill-color);\n",
              "      border-top-color: var(--fill-color);\n",
              "    }\n",
              "    60% {\n",
              "      border-color: transparent;\n",
              "      border-right-color: var(--fill-color);\n",
              "    }\n",
              "    80% {\n",
              "      border-color: transparent;\n",
              "      border-right-color: var(--fill-color);\n",
              "      border-bottom-color: var(--fill-color);\n",
              "    }\n",
              "    90% {\n",
              "      border-color: transparent;\n",
              "      border-bottom-color: var(--fill-color);\n",
              "    }\n",
              "  }\n",
              "</style>\n",
              "\n",
              "      <script>\n",
              "        async function quickchart(key) {\n",
              "          const quickchartButtonEl =\n",
              "            document.querySelector('#' + key + ' button');\n",
              "          quickchartButtonEl.disabled = true;  // To prevent multiple clicks.\n",
              "          quickchartButtonEl.classList.add('colab-df-spinner');\n",
              "          try {\n",
              "            const charts = await google.colab.kernel.invokeFunction(\n",
              "                'suggestCharts', [key], {});\n",
              "          } catch (error) {\n",
              "            console.error('Error during call to suggestCharts:', error);\n",
              "          }\n",
              "          quickchartButtonEl.classList.remove('colab-df-spinner');\n",
              "          quickchartButtonEl.classList.add('colab-df-quickchart-complete');\n",
              "        }\n",
              "        (() => {\n",
              "          let quickchartButtonEl =\n",
              "            document.querySelector('#df-5501ce1c-76ee-430a-9adb-04dea07508be button');\n",
              "          quickchartButtonEl.style.display =\n",
              "            google.colab.kernel.accessAllowed ? 'block' : 'none';\n",
              "        })();\n",
              "      </script>\n",
              "    </div>\n",
              "\n",
              "    </div>\n",
              "  </div>\n"
            ],
            "application/vnd.google.colaboratory.intrinsic+json": {
              "type": "dataframe",
              "variable_name": "weekly",
              "summary": "{\n  \"name\": \"weekly\",\n  \"rows\": 175,\n  \"fields\": [\n    {\n      \"column\": \"nama toko\",\n      \"properties\": {\n        \"dtype\": \"category\",\n        \"num_unique_values\": 1,\n        \"samples\": [\n          \"RM Sinar Balatas\"\n        ],\n        \"semantic_type\": \"\",\n        \"description\": \"\"\n      }\n    },\n    {\n      \"column\": \"periode_minggu\",\n      \"properties\": {\n        \"dtype\": \"date\",\n        \"min\": \"2021-12-28 00:00:00\",\n        \"max\": \"2025-04-29 00:00:00\",\n        \"num_unique_values\": 175,\n        \"samples\": [\n          \"2024-12-24 00:00:00\"\n        ],\n        \"semantic_type\": \"\",\n        \"description\": \"\"\n      }\n    },\n    {\n      \"column\": \"pemasukan\",\n      \"properties\": {\n        \"dtype\": \"number\",\n        \"std\": 1121372,\n        \"min\": 3486000,\n        \"max\": 14011000,\n        \"num_unique_values\": 172,\n        \"samples\": [\n          10391000\n        ],\n        \"semantic_type\": \"\",\n        \"description\": \"\"\n      }\n    },\n    {\n      \"column\": \"pengeluaran\",\n      \"properties\": {\n        \"dtype\": \"number\",\n        \"std\": 3398620,\n        \"min\": 2016746,\n        \"max\": 20613704,\n        \"num_unique_values\": 175,\n        \"samples\": [\n          10896877\n        ],\n        \"semantic_type\": \"\",\n        \"description\": \"\"\n      }\n    },\n    {\n      \"column\": \"jumlah_transaksi\",\n      \"properties\": {\n        \"dtype\": \"number\",\n        \"std\": 15,\n        \"min\": 52,\n        \"max\": 212,\n        \"num_unique_values\": 38,\n        \"samples\": [\n          181\n        ],\n        \"semantic_type\": \"\",\n        \"description\": \"\"\n      }\n    },\n    {\n      \"column\": \"laba_bersih\",\n      \"properties\": {\n        \"dtype\": \"number\",\n        \"std\": 3400140,\n        \"min\": -10629257,\n        \"max\": 4500501,\n        \"num_unique_values\": 175,\n        \"samples\": [\n          7123\n        ],\n        \"semantic_type\": \"\",\n        \"description\": \"\"\n      }\n    },\n    {\n      \"column\": \"rasio_keuangan\",\n      \"properties\": {\n        \"dtype\": \"number\",\n        \"std\": 0.21754873339500685,\n        \"min\": 0.39998069532842073,\n        \"max\": 1.7285261859816823,\n        \"num_unique_values\": 175,\n        \"samples\": [\n          1.0006535816956013\n        ],\n        \"semantic_type\": \"\",\n        \"description\": \"\"\n      }\n    },\n    {\n      \"column\": \"jumlah_hari_rugi\",\n      \"properties\": {\n        \"dtype\": \"number\",\n        \"std\": 0,\n        \"min\": 1,\n        \"max\": 4,\n        \"num_unique_values\": 4,\n        \"samples\": [\n          1\n        ],\n        \"semantic_type\": \"\",\n        \"description\": \"\"\n      }\n    },\n    {\n      \"column\": \"label_kelas\",\n      \"properties\": {\n        \"dtype\": \"category\",\n        \"num_unique_values\": 4,\n        \"samples\": [\n          \"Perlu Perhatian\"\n        ],\n        \"semantic_type\": \"\",\n        \"description\": \"\"\n      }\n    }\n  ]\n}"
            }
          },
          "metadata": {},
          "execution_count": 20
        }
      ]
    },
    {
      "cell_type": "markdown",
      "source": [
        "# Data Preparation\n",
        "\n",
        "Persiapan Data untuk Model\n",
        "\n"
      ],
      "metadata": {
        "id": "SGQQxhGn0S_b"
      }
    },
    {
      "cell_type": "markdown",
      "source": [
        "Membuat fitur turunan\n",
        "\n",
        "Untuk `rasio_transaksi`\n",
        "> *\"Rasio ini saya gunakan untuk mengukur efisiensi aktivitas transaksi terhadap pengeluaran. Semakin tinggi nilainya, berarti setiap unit pengeluaran menghasilkan lebih banyak transaksi. Penambahan +1 pada penyebut bertujuan untuk menghindari pembagian dengan nol ketika tidak ada pengeluaran. Konsep dasarnya mirip dengan rasio efisiensi dalam analisis keuangan, meskipun ini disesuaikan untuk konteks data mingguan.\"*\n",
        "\n",
        "Untuk `persen_pengeluaran`\n",
        "> *\"Rasio ini menunjukkan seberapa besar proporsi pengeluaran dibanding total arus kas (pemasukan + pengeluaran). Ini berguna untuk memahami dominasi belanja terhadap keseluruhan aktivitas keuangan. Nilai kecil 1e-9 ditambahkan untuk mencegah error pembagian nol. Ini mirip dengan pendekatan proporsi dalam laporan keuangan atau rasio cost-to-income di sektor keuangan.\"*\n",
        "\n",
        "Rumus ini bukan dari literatur tunggal, tapi merupakan bentuk praktik umum dalam data analysis — konsepnya terinspirasi dari rasio efisiensi dan rasio aktivitas keuangan. [Financial Analysis Ratio](https://www.jurnal.id/id/blog/rumus-rasio-keuangan-untuk-analisis-rasio-keuangan-perusahaan/?utm_source=chatgpt.com)"
      ],
      "metadata": {
        "id": "c89qhSNBmn-W"
      }
    },
    {
      "cell_type": "code",
      "source": [
        "# Buat fitur turunan:\n",
        "weekly['rasio_transaksi'] = weekly['jumlah_transaksi'] / (weekly['pengeluaran'] + 1)\n",
        "weekly['persen_pengeluaran'] = weekly['pengeluaran'] / (weekly['pemasukan'] + weekly['pengeluaran'] + 1e-9)\n",
        "\n",
        "# Pilih fitur yang TIDAK memuat pemasukan/pengeluaran secara mentah\n",
        "features = [\n",
        "    'pemasukan',\n",
        "    'pengeluaran',\n",
        "    'jumlah_transaksi',\n",
        "    'jumlah_hari_rugi',\n",
        "    'rasio_transaksi',\n",
        "    'persen_pengeluaran'\n",
        "]"
      ],
      "metadata": {
        "id": "v1kCFroV0TM5"
      },
      "execution_count": 21,
      "outputs": []
    },
    {
      "cell_type": "code",
      "source": [
        "X = weekly[features]\n",
        "y = weekly['label_kelas']"
      ],
      "metadata": {
        "id": "7bBQCqQd5SOQ"
      },
      "execution_count": 22,
      "outputs": []
    },
    {
      "cell_type": "markdown",
      "source": [
        "Encode Label Menjadi Numerik"
      ],
      "metadata": {
        "id": "ceCRV4ET0x6B"
      }
    },
    {
      "cell_type": "code",
      "source": [
        "le = LabelEncoder()\n",
        "y_enc = le.fit_transform(y)\n",
        "print(\"Mapping label:\", dict(zip(le.classes_, le.transform(le.classes_))))\n",
        "\n",
        "# One-hot encoding untuk klasifikasi multi-kelas\n",
        "y_cat = to_categorical(y_enc)"
      ],
      "metadata": {
        "colab": {
          "base_uri": "https://localhost:8080/"
        },
        "id": "ncrh62ggGI5Z",
        "outputId": "4660a768-d1fb-4988-c413-ab500cdfb215"
      },
      "execution_count": 23,
      "outputs": [
        {
          "output_type": "stream",
          "name": "stdout",
          "text": [
            "Mapping label: {'Cukup Sehat': np.int64(0), 'Perlu Penanganan Khusus': np.int64(1), 'Perlu Perhatian': np.int64(2), 'Sehat': np.int64(3)}\n"
          ]
        }
      ]
    },
    {
      "cell_type": "markdown",
      "source": [
        "Normalisasi"
      ],
      "metadata": {
        "id": "am3nkzwu8dGh"
      }
    },
    {
      "cell_type": "code",
      "source": [
        "scaler = MinMaxScaler()\n",
        "X_scaled = scaler.fit_transform(X)"
      ],
      "metadata": {
        "id": "EMuQf8DU8dM5"
      },
      "execution_count": 24,
      "outputs": []
    },
    {
      "cell_type": "markdown",
      "source": [
        "Split data menjadi training & testing"
      ],
      "metadata": {
        "id": "qth9gJ5y03By"
      }
    },
    {
      "cell_type": "code",
      "source": [
        "X_train, X_test, y_train_cat, y_test_cat, y_train_enc, y_test_enc = train_test_split(\n",
        "    X_scaled, y_cat, y_enc, test_size=0.2, random_state=42, stratify=y_enc\n",
        ")\n"
      ],
      "metadata": {
        "id": "ZHr0qXkrGHLp"
      },
      "execution_count": 25,
      "outputs": []
    },
    {
      "cell_type": "markdown",
      "source": [
        "pembuatan Model"
      ],
      "metadata": {
        "id": "U0tTzuaH1Cvg"
      }
    },
    {
      "cell_type": "code",
      "source": [
        "model = Sequential([\n",
        "    Dense(64, activation='relu', input_shape=(X_train.shape[1],)),\n",
        "    Dropout(0.3),\n",
        "    Dense(32, activation='relu'),\n",
        "    Dropout(0.2),\n",
        "    Dense(16, activation='relu'),\n",
        "    Dense(4, activation='softmax')  # 4 kelas output\n",
        "])"
      ],
      "metadata": {
        "id": "ibXBh7IRGK0g"
      },
      "execution_count": 26,
      "outputs": []
    },
    {
      "cell_type": "code",
      "source": [
        "model.compile(\n",
        "    optimizer='adam',\n",
        "    loss='categorical_crossentropy',\n",
        "    metrics=['accuracy']\n",
        ")"
      ],
      "metadata": {
        "id": "dUAxG_7CGMz4"
      },
      "execution_count": 27,
      "outputs": []
    },
    {
      "cell_type": "markdown",
      "source": [
        "Pelatihan Model"
      ],
      "metadata": {
        "id": "8a6HzlfMkmV3"
      }
    },
    {
      "cell_type": "code",
      "source": [
        "early_stop = EarlyStopping(\n",
        "    monitor='val_loss',\n",
        "    patience=10,\n",
        "    restore_best_weights=True,\n",
        "    verbose=1\n",
        ")"
      ],
      "metadata": {
        "id": "fPsSXtK7Gkaa"
      },
      "execution_count": 28,
      "outputs": []
    },
    {
      "cell_type": "code",
      "source": [
        "history = model.fit(\n",
        "    X_train, y_train_cat,\n",
        "    epochs=100,\n",
        "    batch_size=16,\n",
        "    validation_split=0.1,\n",
        "    verbose=1,\n",
        "    callbacks=[early_stop]\n",
        ")\n"
      ],
      "metadata": {
        "colab": {
          "base_uri": "https://localhost:8080/"
        },
        "id": "oTaUxhNLGOEg",
        "outputId": "86142d5e-8efc-42ef-dacb-a76b4fa97d4e"
      },
      "execution_count": 29,
      "outputs": [
        {
          "output_type": "stream",
          "name": "stdout",
          "text": [
            "Epoch 1/100\n",
            "\u001b[1m8/8\u001b[0m \u001b[32m━━━━━━━━━━━━━━━━━━━━\u001b[0m\u001b[37m\u001b[0m \u001b[1m2s\u001b[0m 49ms/step - accuracy: 0.2111 - loss: 1.4081 - val_accuracy: 0.2857 - val_loss: 1.3905\n",
            "Epoch 2/100\n",
            "\u001b[1m8/8\u001b[0m \u001b[32m━━━━━━━━━━━━━━━━━━━━\u001b[0m\u001b[37m\u001b[0m \u001b[1m0s\u001b[0m 12ms/step - accuracy: 0.3467 - loss: 1.3819 - val_accuracy: 0.3571 - val_loss: 1.3389\n",
            "Epoch 3/100\n",
            "\u001b[1m8/8\u001b[0m \u001b[32m━━━━━━━━━━━━━━━━━━━━\u001b[0m\u001b[37m\u001b[0m \u001b[1m0s\u001b[0m 13ms/step - accuracy: 0.3375 - loss: 1.3476 - val_accuracy: 0.3571 - val_loss: 1.3040\n",
            "Epoch 4/100\n",
            "\u001b[1m8/8\u001b[0m \u001b[32m━━━━━━━━━━━━━━━━━━━━\u001b[0m\u001b[37m\u001b[0m \u001b[1m0s\u001b[0m 13ms/step - accuracy: 0.3964 - loss: 1.3264 - val_accuracy: 0.5000 - val_loss: 1.2737\n",
            "Epoch 5/100\n",
            "\u001b[1m8/8\u001b[0m \u001b[32m━━━━━━━━━━━━━━━━━━━━\u001b[0m\u001b[37m\u001b[0m \u001b[1m0s\u001b[0m 17ms/step - accuracy: 0.3266 - loss: 1.3191 - val_accuracy: 0.5000 - val_loss: 1.2503\n",
            "Epoch 6/100\n",
            "\u001b[1m8/8\u001b[0m \u001b[32m━━━━━━━━━━━━━━━━━━━━\u001b[0m\u001b[37m\u001b[0m \u001b[1m0s\u001b[0m 11ms/step - accuracy: 0.3518 - loss: 1.2868 - val_accuracy: 0.5000 - val_loss: 1.2351\n",
            "Epoch 7/100\n",
            "\u001b[1m8/8\u001b[0m \u001b[32m━━━━━━━━━━━━━━━━━━━━\u001b[0m\u001b[37m\u001b[0m \u001b[1m0s\u001b[0m 12ms/step - accuracy: 0.3811 - loss: 1.2505 - val_accuracy: 0.5000 - val_loss: 1.2294\n",
            "Epoch 8/100\n",
            "\u001b[1m8/8\u001b[0m \u001b[32m━━━━━━━━━━━━━━━━━━━━\u001b[0m\u001b[37m\u001b[0m \u001b[1m0s\u001b[0m 12ms/step - accuracy: 0.3612 - loss: 1.2089 - val_accuracy: 0.5000 - val_loss: 1.2247\n",
            "Epoch 9/100\n",
            "\u001b[1m8/8\u001b[0m \u001b[32m━━━━━━━━━━━━━━━━━━━━\u001b[0m\u001b[37m\u001b[0m \u001b[1m0s\u001b[0m 12ms/step - accuracy: 0.3432 - loss: 1.2554 - val_accuracy: 0.5714 - val_loss: 1.2138\n",
            "Epoch 10/100\n",
            "\u001b[1m8/8\u001b[0m \u001b[32m━━━━━━━━━━━━━━━━━━━━\u001b[0m\u001b[37m\u001b[0m \u001b[1m0s\u001b[0m 12ms/step - accuracy: 0.3936 - loss: 1.1591 - val_accuracy: 0.5000 - val_loss: 1.2089\n",
            "Epoch 11/100\n",
            "\u001b[1m8/8\u001b[0m \u001b[32m━━━━━━━━━━━━━━━━━━━━\u001b[0m\u001b[37m\u001b[0m \u001b[1m0s\u001b[0m 14ms/step - accuracy: 0.3781 - loss: 1.2305 - val_accuracy: 0.4286 - val_loss: 1.1930\n",
            "Epoch 12/100\n",
            "\u001b[1m8/8\u001b[0m \u001b[32m━━━━━━━━━━━━━━━━━━━━\u001b[0m\u001b[37m\u001b[0m \u001b[1m0s\u001b[0m 12ms/step - accuracy: 0.4127 - loss: 1.1981 - val_accuracy: 0.1429 - val_loss: 1.1850\n",
            "Epoch 13/100\n",
            "\u001b[1m8/8\u001b[0m \u001b[32m━━━━━━━━━━━━━━━━━━━━\u001b[0m\u001b[37m\u001b[0m \u001b[1m0s\u001b[0m 13ms/step - accuracy: 0.4445 - loss: 1.1808 - val_accuracy: 0.1429 - val_loss: 1.1816\n",
            "Epoch 14/100\n",
            "\u001b[1m8/8\u001b[0m \u001b[32m━━━━━━━━━━━━━━━━━━━━\u001b[0m\u001b[37m\u001b[0m \u001b[1m0s\u001b[0m 12ms/step - accuracy: 0.4441 - loss: 1.1757 - val_accuracy: 0.1429 - val_loss: 1.1624\n",
            "Epoch 15/100\n",
            "\u001b[1m8/8\u001b[0m \u001b[32m━━━━━━━━━━━━━━━━━━━━\u001b[0m\u001b[37m\u001b[0m \u001b[1m0s\u001b[0m 18ms/step - accuracy: 0.4063 - loss: 1.1791 - val_accuracy: 0.3571 - val_loss: 1.1323\n",
            "Epoch 16/100\n",
            "\u001b[1m8/8\u001b[0m \u001b[32m━━━━━━━━━━━━━━━━━━━━\u001b[0m\u001b[37m\u001b[0m \u001b[1m0s\u001b[0m 12ms/step - accuracy: 0.4815 - loss: 1.1571 - val_accuracy: 0.5000 - val_loss: 1.0972\n",
            "Epoch 17/100\n",
            "\u001b[1m8/8\u001b[0m \u001b[32m━━━━━━━━━━━━━━━━━━━━\u001b[0m\u001b[37m\u001b[0m \u001b[1m0s\u001b[0m 12ms/step - accuracy: 0.5070 - loss: 1.0984 - val_accuracy: 0.5714 - val_loss: 1.0765\n",
            "Epoch 18/100\n",
            "\u001b[1m8/8\u001b[0m \u001b[32m━━━━━━━━━━━━━━━━━━━━\u001b[0m\u001b[37m\u001b[0m \u001b[1m0s\u001b[0m 12ms/step - accuracy: 0.5968 - loss: 1.1120 - val_accuracy: 0.4286 - val_loss: 1.0746\n",
            "Epoch 19/100\n",
            "\u001b[1m8/8\u001b[0m \u001b[32m━━━━━━━━━━━━━━━━━━━━\u001b[0m\u001b[37m\u001b[0m \u001b[1m0s\u001b[0m 12ms/step - accuracy: 0.5284 - loss: 1.0816 - val_accuracy: 0.4286 - val_loss: 1.0478\n",
            "Epoch 20/100\n",
            "\u001b[1m8/8\u001b[0m \u001b[32m━━━━━━━━━━━━━━━━━━━━\u001b[0m\u001b[37m\u001b[0m \u001b[1m0s\u001b[0m 11ms/step - accuracy: 0.6186 - loss: 1.0526 - val_accuracy: 0.7143 - val_loss: 0.9864\n",
            "Epoch 21/100\n",
            "\u001b[1m8/8\u001b[0m \u001b[32m━━━━━━━━━━━━━━━━━━━━\u001b[0m\u001b[37m\u001b[0m \u001b[1m0s\u001b[0m 12ms/step - accuracy: 0.5516 - loss: 1.0150 - val_accuracy: 0.7143 - val_loss: 0.9443\n",
            "Epoch 22/100\n",
            "\u001b[1m8/8\u001b[0m \u001b[32m━━━━━━━━━━━━━━━━━━━━\u001b[0m\u001b[37m\u001b[0m \u001b[1m0s\u001b[0m 12ms/step - accuracy: 0.6765 - loss: 0.9743 - val_accuracy: 0.7143 - val_loss: 0.9184\n",
            "Epoch 23/100\n",
            "\u001b[1m8/8\u001b[0m \u001b[32m━━━━━━━━━━━━━━━━━━━━\u001b[0m\u001b[37m\u001b[0m \u001b[1m0s\u001b[0m 13ms/step - accuracy: 0.6394 - loss: 0.9696 - val_accuracy: 0.7143 - val_loss: 0.8971\n",
            "Epoch 24/100\n",
            "\u001b[1m8/8\u001b[0m \u001b[32m━━━━━━━━━━━━━━━━━━━━\u001b[0m\u001b[37m\u001b[0m \u001b[1m0s\u001b[0m 11ms/step - accuracy: 0.6820 - loss: 0.8851 - val_accuracy: 0.7857 - val_loss: 0.8153\n",
            "Epoch 25/100\n",
            "\u001b[1m8/8\u001b[0m \u001b[32m━━━━━━━━━━━━━━━━━━━━\u001b[0m\u001b[37m\u001b[0m \u001b[1m0s\u001b[0m 11ms/step - accuracy: 0.7178 - loss: 0.9351 - val_accuracy: 0.7857 - val_loss: 0.7901\n",
            "Epoch 26/100\n",
            "\u001b[1m8/8\u001b[0m \u001b[32m━━━━━━━━━━━━━━━━━━━━\u001b[0m\u001b[37m\u001b[0m \u001b[1m0s\u001b[0m 12ms/step - accuracy: 0.7345 - loss: 0.8558 - val_accuracy: 0.7143 - val_loss: 0.7802\n",
            "Epoch 27/100\n",
            "\u001b[1m8/8\u001b[0m \u001b[32m━━━━━━━━━━━━━━━━━━━━\u001b[0m\u001b[37m\u001b[0m \u001b[1m0s\u001b[0m 12ms/step - accuracy: 0.6691 - loss: 0.8520 - val_accuracy: 0.7143 - val_loss: 0.7453\n",
            "Epoch 28/100\n",
            "\u001b[1m8/8\u001b[0m \u001b[32m━━━━━━━━━━━━━━━━━━━━\u001b[0m\u001b[37m\u001b[0m \u001b[1m0s\u001b[0m 12ms/step - accuracy: 0.6729 - loss: 0.8218 - val_accuracy: 0.7857 - val_loss: 0.6683\n",
            "Epoch 29/100\n",
            "\u001b[1m8/8\u001b[0m \u001b[32m━━━━━━━━━━━━━━━━━━━━\u001b[0m\u001b[37m\u001b[0m \u001b[1m0s\u001b[0m 11ms/step - accuracy: 0.7689 - loss: 0.7566 - val_accuracy: 0.7143 - val_loss: 0.6833\n",
            "Epoch 30/100\n",
            "\u001b[1m8/8\u001b[0m \u001b[32m━━━━━━━━━━━━━━━━━━━━\u001b[0m\u001b[37m\u001b[0m \u001b[1m0s\u001b[0m 12ms/step - accuracy: 0.7032 - loss: 0.7586 - val_accuracy: 0.7143 - val_loss: 0.6415\n",
            "Epoch 31/100\n",
            "\u001b[1m8/8\u001b[0m \u001b[32m━━━━━━━━━━━━━━━━━━━━\u001b[0m\u001b[37m\u001b[0m \u001b[1m0s\u001b[0m 14ms/step - accuracy: 0.7661 - loss: 0.7149 - val_accuracy: 0.7857 - val_loss: 0.5907\n",
            "Epoch 32/100\n",
            "\u001b[1m8/8\u001b[0m \u001b[32m━━━━━━━━━━━━━━━━━━━━\u001b[0m\u001b[37m\u001b[0m \u001b[1m0s\u001b[0m 12ms/step - accuracy: 0.7406 - loss: 0.7072 - val_accuracy: 0.7857 - val_loss: 0.5872\n",
            "Epoch 33/100\n",
            "\u001b[1m8/8\u001b[0m \u001b[32m━━━━━━━━━━━━━━━━━━━━\u001b[0m\u001b[37m\u001b[0m \u001b[1m0s\u001b[0m 21ms/step - accuracy: 0.8031 - loss: 0.6666 - val_accuracy: 0.7143 - val_loss: 0.5871\n",
            "Epoch 34/100\n",
            "\u001b[1m8/8\u001b[0m \u001b[32m━━━━━━━━━━━━━━━━━━━━\u001b[0m\u001b[37m\u001b[0m \u001b[1m0s\u001b[0m 18ms/step - accuracy: 0.7892 - loss: 0.6423 - val_accuracy: 0.8571 - val_loss: 0.5053\n",
            "Epoch 35/100\n",
            "\u001b[1m8/8\u001b[0m \u001b[32m━━━━━━━━━━━━━━━━━━━━\u001b[0m\u001b[37m\u001b[0m \u001b[1m0s\u001b[0m 22ms/step - accuracy: 0.8155 - loss: 0.6592 - val_accuracy: 0.7857 - val_loss: 0.5014\n",
            "Epoch 36/100\n",
            "\u001b[1m8/8\u001b[0m \u001b[32m━━━━━━━━━━━━━━━━━━━━\u001b[0m\u001b[37m\u001b[0m \u001b[1m0s\u001b[0m 19ms/step - accuracy: 0.6839 - loss: 0.7210 - val_accuracy: 0.7857 - val_loss: 0.4811\n",
            "Epoch 37/100\n",
            "\u001b[1m8/8\u001b[0m \u001b[32m━━━━━━━━━━━━━━━━━━━━\u001b[0m\u001b[37m\u001b[0m \u001b[1m0s\u001b[0m 21ms/step - accuracy: 0.6986 - loss: 0.6341 - val_accuracy: 0.7857 - val_loss: 0.4718\n",
            "Epoch 38/100\n",
            "\u001b[1m8/8\u001b[0m \u001b[32m━━━━━━━━━━━━━━━━━━━━\u001b[0m\u001b[37m\u001b[0m \u001b[1m0s\u001b[0m 16ms/step - accuracy: 0.7613 - loss: 0.6239 - val_accuracy: 0.8571 - val_loss: 0.4361\n",
            "Epoch 39/100\n",
            "\u001b[1m8/8\u001b[0m \u001b[32m━━━━━━━━━━━━━━━━━━━━\u001b[0m\u001b[37m\u001b[0m \u001b[1m0s\u001b[0m 22ms/step - accuracy: 0.7022 - loss: 0.6882 - val_accuracy: 0.7857 - val_loss: 0.4443\n",
            "Epoch 40/100\n",
            "\u001b[1m8/8\u001b[0m \u001b[32m━━━━━━━━━━━━━━━━━━━━\u001b[0m\u001b[37m\u001b[0m \u001b[1m0s\u001b[0m 22ms/step - accuracy: 0.8275 - loss: 0.5119 - val_accuracy: 0.9286 - val_loss: 0.4023\n",
            "Epoch 41/100\n",
            "\u001b[1m8/8\u001b[0m \u001b[32m━━━━━━━━━━━━━━━━━━━━\u001b[0m\u001b[37m\u001b[0m \u001b[1m0s\u001b[0m 24ms/step - accuracy: 0.7963 - loss: 0.5747 - val_accuracy: 0.8571 - val_loss: 0.4049\n",
            "Epoch 42/100\n",
            "\u001b[1m8/8\u001b[0m \u001b[32m━━━━━━━━━━━━━━━━━━━━\u001b[0m\u001b[37m\u001b[0m \u001b[1m0s\u001b[0m 23ms/step - accuracy: 0.8257 - loss: 0.4824 - val_accuracy: 0.9286 - val_loss: 0.3511\n",
            "Epoch 43/100\n",
            "\u001b[1m8/8\u001b[0m \u001b[32m━━━━━━━━━━━━━━━━━━━━\u001b[0m\u001b[37m\u001b[0m \u001b[1m0s\u001b[0m 12ms/step - accuracy: 0.7569 - loss: 0.6164 - val_accuracy: 0.8571 - val_loss: 0.3843\n",
            "Epoch 44/100\n",
            "\u001b[1m8/8\u001b[0m \u001b[32m━━━━━━━━━━━━━━━━━━━━\u001b[0m\u001b[37m\u001b[0m \u001b[1m0s\u001b[0m 12ms/step - accuracy: 0.7940 - loss: 0.5351 - val_accuracy: 0.9286 - val_loss: 0.3554\n",
            "Epoch 45/100\n",
            "\u001b[1m8/8\u001b[0m \u001b[32m━━━━━━━━━━━━━━━━━━━━\u001b[0m\u001b[37m\u001b[0m \u001b[1m0s\u001b[0m 12ms/step - accuracy: 0.8148 - loss: 0.5395 - val_accuracy: 0.9286 - val_loss: 0.3371\n",
            "Epoch 46/100\n",
            "\u001b[1m8/8\u001b[0m \u001b[32m━━━━━━━━━━━━━━━━━━━━\u001b[0m\u001b[37m\u001b[0m \u001b[1m0s\u001b[0m 11ms/step - accuracy: 0.7561 - loss: 0.5302 - val_accuracy: 0.9286 - val_loss: 0.3346\n",
            "Epoch 47/100\n",
            "\u001b[1m8/8\u001b[0m \u001b[32m━━━━━━━━━━━━━━━━━━━━\u001b[0m\u001b[37m\u001b[0m \u001b[1m0s\u001b[0m 17ms/step - accuracy: 0.7551 - loss: 0.4904 - val_accuracy: 0.9286 - val_loss: 0.2810\n",
            "Epoch 48/100\n",
            "\u001b[1m8/8\u001b[0m \u001b[32m━━━━━━━━━━━━━━━━━━━━\u001b[0m\u001b[37m\u001b[0m \u001b[1m0s\u001b[0m 11ms/step - accuracy: 0.7550 - loss: 0.5758 - val_accuracy: 0.9286 - val_loss: 0.3231\n",
            "Epoch 49/100\n",
            "\u001b[1m8/8\u001b[0m \u001b[32m━━━━━━━━━━━━━━━━━━━━\u001b[0m\u001b[37m\u001b[0m \u001b[1m0s\u001b[0m 12ms/step - accuracy: 0.8384 - loss: 0.4553 - val_accuracy: 0.9286 - val_loss: 0.2907\n",
            "Epoch 50/100\n",
            "\u001b[1m8/8\u001b[0m \u001b[32m━━━━━━━━━━━━━━━━━━━━\u001b[0m\u001b[37m\u001b[0m \u001b[1m0s\u001b[0m 12ms/step - accuracy: 0.8466 - loss: 0.4506 - val_accuracy: 0.9286 - val_loss: 0.3309\n",
            "Epoch 51/100\n",
            "\u001b[1m8/8\u001b[0m \u001b[32m━━━━━━━━━━━━━━━━━━━━\u001b[0m\u001b[37m\u001b[0m \u001b[1m0s\u001b[0m 12ms/step - accuracy: 0.8365 - loss: 0.4689 - val_accuracy: 0.9286 - val_loss: 0.2957\n",
            "Epoch 52/100\n",
            "\u001b[1m8/8\u001b[0m \u001b[32m━━━━━━━━━━━━━━━━━━━━\u001b[0m\u001b[37m\u001b[0m \u001b[1m0s\u001b[0m 12ms/step - accuracy: 0.7910 - loss: 0.5188 - val_accuracy: 0.9286 - val_loss: 0.2770\n",
            "Epoch 53/100\n",
            "\u001b[1m8/8\u001b[0m \u001b[32m━━━━━━━━━━━━━━━━━━━━\u001b[0m\u001b[37m\u001b[0m \u001b[1m0s\u001b[0m 12ms/step - accuracy: 0.7844 - loss: 0.4467 - val_accuracy: 0.9286 - val_loss: 0.2660\n",
            "Epoch 54/100\n",
            "\u001b[1m8/8\u001b[0m \u001b[32m━━━━━━━━━━━━━━━━━━━━\u001b[0m\u001b[37m\u001b[0m \u001b[1m0s\u001b[0m 11ms/step - accuracy: 0.8061 - loss: 0.4488 - val_accuracy: 0.9286 - val_loss: 0.2938\n",
            "Epoch 55/100\n",
            "\u001b[1m8/8\u001b[0m \u001b[32m━━━━━━━━━━━━━━━━━━━━\u001b[0m\u001b[37m\u001b[0m \u001b[1m0s\u001b[0m 14ms/step - accuracy: 0.7977 - loss: 0.4985 - val_accuracy: 0.9286 - val_loss: 0.2639\n",
            "Epoch 56/100\n",
            "\u001b[1m8/8\u001b[0m \u001b[32m━━━━━━━━━━━━━━━━━━━━\u001b[0m\u001b[37m\u001b[0m \u001b[1m0s\u001b[0m 18ms/step - accuracy: 0.8018 - loss: 0.4562 - val_accuracy: 0.9286 - val_loss: 0.2572\n",
            "Epoch 57/100\n",
            "\u001b[1m8/8\u001b[0m \u001b[32m━━━━━━━━━━━━━━━━━━━━\u001b[0m\u001b[37m\u001b[0m \u001b[1m0s\u001b[0m 12ms/step - accuracy: 0.8300 - loss: 0.4425 - val_accuracy: 0.9286 - val_loss: 0.2362\n",
            "Epoch 58/100\n",
            "\u001b[1m8/8\u001b[0m \u001b[32m━━━━━━━━━━━━━━━━━━━━\u001b[0m\u001b[37m\u001b[0m \u001b[1m0s\u001b[0m 11ms/step - accuracy: 0.8260 - loss: 0.4130 - val_accuracy: 0.9286 - val_loss: 0.2243\n",
            "Epoch 59/100\n",
            "\u001b[1m8/8\u001b[0m \u001b[32m━━━━━━━━━━━━━━━━━━━━\u001b[0m\u001b[37m\u001b[0m \u001b[1m0s\u001b[0m 12ms/step - accuracy: 0.8230 - loss: 0.4545 - val_accuracy: 0.9286 - val_loss: 0.2789\n",
            "Epoch 60/100\n",
            "\u001b[1m8/8\u001b[0m \u001b[32m━━━━━━━━━━━━━━━━━━━━\u001b[0m\u001b[37m\u001b[0m \u001b[1m0s\u001b[0m 13ms/step - accuracy: 0.8526 - loss: 0.3979 - val_accuracy: 0.9286 - val_loss: 0.2164\n",
            "Epoch 61/100\n",
            "\u001b[1m8/8\u001b[0m \u001b[32m━━━━━━━━━━━━━━━━━━━━\u001b[0m\u001b[37m\u001b[0m \u001b[1m0s\u001b[0m 12ms/step - accuracy: 0.8663 - loss: 0.3921 - val_accuracy: 0.9286 - val_loss: 0.2880\n",
            "Epoch 62/100\n",
            "\u001b[1m8/8\u001b[0m \u001b[32m━━━━━━━━━━━━━━━━━━━━\u001b[0m\u001b[37m\u001b[0m \u001b[1m0s\u001b[0m 12ms/step - accuracy: 0.8360 - loss: 0.4203 - val_accuracy: 1.0000 - val_loss: 0.2192\n",
            "Epoch 63/100\n",
            "\u001b[1m8/8\u001b[0m \u001b[32m━━━━━━━━━━━━━━━━━━━━\u001b[0m\u001b[37m\u001b[0m \u001b[1m0s\u001b[0m 14ms/step - accuracy: 0.8425 - loss: 0.4083 - val_accuracy: 1.0000 - val_loss: 0.2465\n",
            "Epoch 64/100\n",
            "\u001b[1m8/8\u001b[0m \u001b[32m━━━━━━━━━━━━━━━━━━━━\u001b[0m\u001b[37m\u001b[0m \u001b[1m0s\u001b[0m 18ms/step - accuracy: 0.8602 - loss: 0.3781 - val_accuracy: 1.0000 - val_loss: 0.2580\n",
            "Epoch 65/100\n",
            "\u001b[1m8/8\u001b[0m \u001b[32m━━━━━━━━━━━━━━━━━━━━\u001b[0m\u001b[37m\u001b[0m \u001b[1m0s\u001b[0m 12ms/step - accuracy: 0.8431 - loss: 0.4081 - val_accuracy: 1.0000 - val_loss: 0.2147\n",
            "Epoch 66/100\n",
            "\u001b[1m8/8\u001b[0m \u001b[32m━━━━━━━━━━━━━━━━━━━━\u001b[0m\u001b[37m\u001b[0m \u001b[1m0s\u001b[0m 12ms/step - accuracy: 0.8595 - loss: 0.4091 - val_accuracy: 1.0000 - val_loss: 0.2134\n",
            "Epoch 67/100\n",
            "\u001b[1m8/8\u001b[0m \u001b[32m━━━━━━━━━━━━━━━━━━━━\u001b[0m\u001b[37m\u001b[0m \u001b[1m0s\u001b[0m 12ms/step - accuracy: 0.8528 - loss: 0.4090 - val_accuracy: 1.0000 - val_loss: 0.2276\n",
            "Epoch 68/100\n",
            "\u001b[1m8/8\u001b[0m \u001b[32m━━━━━━━━━━━━━━━━━━━━\u001b[0m\u001b[37m\u001b[0m \u001b[1m0s\u001b[0m 12ms/step - accuracy: 0.8377 - loss: 0.3985 - val_accuracy: 1.0000 - val_loss: 0.1984\n",
            "Epoch 69/100\n",
            "\u001b[1m8/8\u001b[0m \u001b[32m━━━━━━━━━━━━━━━━━━━━\u001b[0m\u001b[37m\u001b[0m \u001b[1m0s\u001b[0m 12ms/step - accuracy: 0.8081 - loss: 0.4221 - val_accuracy: 1.0000 - val_loss: 0.2229\n",
            "Epoch 70/100\n",
            "\u001b[1m8/8\u001b[0m \u001b[32m━━━━━━━━━━━━━━━━━━━━\u001b[0m\u001b[37m\u001b[0m \u001b[1m0s\u001b[0m 12ms/step - accuracy: 0.8861 - loss: 0.3512 - val_accuracy: 1.0000 - val_loss: 0.1882\n",
            "Epoch 71/100\n",
            "\u001b[1m8/8\u001b[0m \u001b[32m━━━━━━━━━━━━━━━━━━━━\u001b[0m\u001b[37m\u001b[0m \u001b[1m0s\u001b[0m 14ms/step - accuracy: 0.7687 - loss: 0.4845 - val_accuracy: 1.0000 - val_loss: 0.1937\n",
            "Epoch 72/100\n",
            "\u001b[1m8/8\u001b[0m \u001b[32m━━━━━━━━━━━━━━━━━━━━\u001b[0m\u001b[37m\u001b[0m \u001b[1m0s\u001b[0m 17ms/step - accuracy: 0.8159 - loss: 0.3785 - val_accuracy: 1.0000 - val_loss: 0.2446\n",
            "Epoch 73/100\n",
            "\u001b[1m8/8\u001b[0m \u001b[32m━━━━━━━━━━━━━━━━━━━━\u001b[0m\u001b[37m\u001b[0m \u001b[1m0s\u001b[0m 18ms/step - accuracy: 0.8498 - loss: 0.3495 - val_accuracy: 1.0000 - val_loss: 0.1898\n",
            "Epoch 74/100\n",
            "\u001b[1m8/8\u001b[0m \u001b[32m━━━━━━━━━━━━━━━━━━━━\u001b[0m\u001b[37m\u001b[0m \u001b[1m0s\u001b[0m 12ms/step - accuracy: 0.8771 - loss: 0.3498 - val_accuracy: 1.0000 - val_loss: 0.1755\n",
            "Epoch 75/100\n",
            "\u001b[1m8/8\u001b[0m \u001b[32m━━━━━━━━━━━━━━━━━━━━\u001b[0m\u001b[37m\u001b[0m \u001b[1m0s\u001b[0m 17ms/step - accuracy: 0.8464 - loss: 0.3468 - val_accuracy: 0.8571 - val_loss: 0.2843\n",
            "Epoch 76/100\n",
            "\u001b[1m8/8\u001b[0m \u001b[32m━━━━━━━━━━━━━━━━━━━━\u001b[0m\u001b[37m\u001b[0m \u001b[1m0s\u001b[0m 11ms/step - accuracy: 0.7779 - loss: 0.4731 - val_accuracy: 0.9286 - val_loss: 0.1612\n",
            "Epoch 77/100\n",
            "\u001b[1m8/8\u001b[0m \u001b[32m━━━━━━━━━━━━━━━━━━━━\u001b[0m\u001b[37m\u001b[0m \u001b[1m0s\u001b[0m 11ms/step - accuracy: 0.8539 - loss: 0.3431 - val_accuracy: 1.0000 - val_loss: 0.2205\n",
            "Epoch 78/100\n",
            "\u001b[1m8/8\u001b[0m \u001b[32m━━━━━━━━━━━━━━━━━━━━\u001b[0m\u001b[37m\u001b[0m \u001b[1m0s\u001b[0m 11ms/step - accuracy: 0.8196 - loss: 0.3731 - val_accuracy: 1.0000 - val_loss: 0.2209\n",
            "Epoch 79/100\n",
            "\u001b[1m8/8\u001b[0m \u001b[32m━━━━━━━━━━━━━━━━━━━━\u001b[0m\u001b[37m\u001b[0m \u001b[1m0s\u001b[0m 12ms/step - accuracy: 0.9396 - loss: 0.2822 - val_accuracy: 1.0000 - val_loss: 0.1862\n",
            "Epoch 80/100\n",
            "\u001b[1m8/8\u001b[0m \u001b[32m━━━━━━━━━━━━━━━━━━━━\u001b[0m\u001b[37m\u001b[0m \u001b[1m0s\u001b[0m 11ms/step - accuracy: 0.7993 - loss: 0.3637 - val_accuracy: 1.0000 - val_loss: 0.1584\n",
            "Epoch 81/100\n",
            "\u001b[1m8/8\u001b[0m \u001b[32m━━━━━━━━━━━━━━━━━━━━\u001b[0m\u001b[37m\u001b[0m \u001b[1m0s\u001b[0m 12ms/step - accuracy: 0.8396 - loss: 0.3478 - val_accuracy: 1.0000 - val_loss: 0.2136\n",
            "Epoch 82/100\n",
            "\u001b[1m8/8\u001b[0m \u001b[32m━━━━━━━━━━━━━━━━━━━━\u001b[0m\u001b[37m\u001b[0m \u001b[1m0s\u001b[0m 12ms/step - accuracy: 0.8379 - loss: 0.3612 - val_accuracy: 1.0000 - val_loss: 0.1825\n",
            "Epoch 83/100\n",
            "\u001b[1m8/8\u001b[0m \u001b[32m━━━━━━━━━━━━━━━━━━━━\u001b[0m\u001b[37m\u001b[0m \u001b[1m0s\u001b[0m 12ms/step - accuracy: 0.8527 - loss: 0.3001 - val_accuracy: 1.0000 - val_loss: 0.1544\n",
            "Epoch 84/100\n",
            "\u001b[1m8/8\u001b[0m \u001b[32m━━━━━━━━━━━━━━━━━━━━\u001b[0m\u001b[37m\u001b[0m \u001b[1m0s\u001b[0m 12ms/step - accuracy: 0.8531 - loss: 0.3124 - val_accuracy: 0.9286 - val_loss: 0.1887\n",
            "Epoch 85/100\n",
            "\u001b[1m8/8\u001b[0m \u001b[32m━━━━━━━━━━━━━━━━━━━━\u001b[0m\u001b[37m\u001b[0m \u001b[1m0s\u001b[0m 12ms/step - accuracy: 0.7638 - loss: 0.4033 - val_accuracy: 0.9286 - val_loss: 0.2204\n",
            "Epoch 86/100\n",
            "\u001b[1m8/8\u001b[0m \u001b[32m━━━━━━━━━━━━━━━━━━━━\u001b[0m\u001b[37m\u001b[0m \u001b[1m0s\u001b[0m 11ms/step - accuracy: 0.7917 - loss: 0.3993 - val_accuracy: 1.0000 - val_loss: 0.1740\n",
            "Epoch 87/100\n",
            "\u001b[1m8/8\u001b[0m \u001b[32m━━━━━━━━━━━━━━━━━━━━\u001b[0m\u001b[37m\u001b[0m \u001b[1m0s\u001b[0m 18ms/step - accuracy: 0.8697 - loss: 0.3009 - val_accuracy: 1.0000 - val_loss: 0.1889\n",
            "Epoch 88/100\n",
            "\u001b[1m8/8\u001b[0m \u001b[32m━━━━━━━━━━━━━━━━━━━━\u001b[0m\u001b[37m\u001b[0m \u001b[1m0s\u001b[0m 11ms/step - accuracy: 0.8543 - loss: 0.3349 - val_accuracy: 1.0000 - val_loss: 0.2139\n",
            "Epoch 89/100\n",
            "\u001b[1m8/8\u001b[0m \u001b[32m━━━━━━━━━━━━━━━━━━━━\u001b[0m\u001b[37m\u001b[0m \u001b[1m0s\u001b[0m 17ms/step - accuracy: 0.8540 - loss: 0.3475 - val_accuracy: 0.9286 - val_loss: 0.1745\n",
            "Epoch 90/100\n",
            "\u001b[1m8/8\u001b[0m \u001b[32m━━━━━━━━━━━━━━━━━━━━\u001b[0m\u001b[37m\u001b[0m \u001b[1m0s\u001b[0m 12ms/step - accuracy: 0.8825 - loss: 0.2973 - val_accuracy: 1.0000 - val_loss: 0.1517\n",
            "Epoch 91/100\n",
            "\u001b[1m8/8\u001b[0m \u001b[32m━━━━━━━━━━━━━━━━━━━━\u001b[0m\u001b[37m\u001b[0m \u001b[1m0s\u001b[0m 12ms/step - accuracy: 0.9082 - loss: 0.2448 - val_accuracy: 0.9286 - val_loss: 0.2041\n",
            "Epoch 92/100\n",
            "\u001b[1m8/8\u001b[0m \u001b[32m━━━━━━━━━━━━━━━━━━━━\u001b[0m\u001b[37m\u001b[0m \u001b[1m0s\u001b[0m 11ms/step - accuracy: 0.8439 - loss: 0.3509 - val_accuracy: 0.9286 - val_loss: 0.1676\n",
            "Epoch 93/100\n",
            "\u001b[1m8/8\u001b[0m \u001b[32m━━━━━━━━━━━━━━━━━━━━\u001b[0m\u001b[37m\u001b[0m \u001b[1m0s\u001b[0m 14ms/step - accuracy: 0.8121 - loss: 0.3679 - val_accuracy: 1.0000 - val_loss: 0.1268\n",
            "Epoch 94/100\n",
            "\u001b[1m8/8\u001b[0m \u001b[32m━━━━━━━━━━━━━━━━━━━━\u001b[0m\u001b[37m\u001b[0m \u001b[1m0s\u001b[0m 12ms/step - accuracy: 0.8709 - loss: 0.3373 - val_accuracy: 0.9286 - val_loss: 0.2275\n",
            "Epoch 95/100\n",
            "\u001b[1m8/8\u001b[0m \u001b[32m━━━━━━━━━━━━━━━━━━━━\u001b[0m\u001b[37m\u001b[0m \u001b[1m0s\u001b[0m 12ms/step - accuracy: 0.8879 - loss: 0.3094 - val_accuracy: 1.0000 - val_loss: 0.1446\n",
            "Epoch 96/100\n",
            "\u001b[1m8/8\u001b[0m \u001b[32m━━━━━━━━━━━━━━━━━━━━\u001b[0m\u001b[37m\u001b[0m \u001b[1m0s\u001b[0m 11ms/step - accuracy: 0.9168 - loss: 0.2423 - val_accuracy: 1.0000 - val_loss: 0.1508\n",
            "Epoch 97/100\n",
            "\u001b[1m8/8\u001b[0m \u001b[32m━━━━━━━━━━━━━━━━━━━━\u001b[0m\u001b[37m\u001b[0m \u001b[1m0s\u001b[0m 11ms/step - accuracy: 0.9088 - loss: 0.2779 - val_accuracy: 1.0000 - val_loss: 0.1626\n",
            "Epoch 98/100\n",
            "\u001b[1m8/8\u001b[0m \u001b[32m━━━━━━━━━━━━━━━━━━━━\u001b[0m\u001b[37m\u001b[0m \u001b[1m0s\u001b[0m 11ms/step - accuracy: 0.8498 - loss: 0.3900 - val_accuracy: 0.9286 - val_loss: 0.1538\n",
            "Epoch 99/100\n",
            "\u001b[1m8/8\u001b[0m \u001b[32m━━━━━━━━━━━━━━━━━━━━\u001b[0m\u001b[37m\u001b[0m \u001b[1m0s\u001b[0m 11ms/step - accuracy: 0.8286 - loss: 0.3315 - val_accuracy: 0.9286 - val_loss: 0.1627\n",
            "Epoch 100/100\n",
            "\u001b[1m8/8\u001b[0m \u001b[32m━━━━━━━━━━━━━━━━━━━━\u001b[0m\u001b[37m\u001b[0m \u001b[1m0s\u001b[0m 11ms/step - accuracy: 0.8606 - loss: 0.2881 - val_accuracy: 0.9286 - val_loss: 0.1549\n",
            "Restoring model weights from the end of the best epoch: 93.\n"
          ]
        }
      ]
    },
    {
      "cell_type": "code",
      "source": [
        "test_loss, test_acc = model.evaluate(X_test, y_test_cat)\n",
        "print(f\"\\nTest Accuracy: {test_acc:.4f}\")"
      ],
      "metadata": {
        "colab": {
          "base_uri": "https://localhost:8080/"
        },
        "id": "sVAvxsq9GX5A",
        "outputId": "a6a8a5c8-c253-45e4-b2d1-30f563eba437"
      },
      "execution_count": 30,
      "outputs": [
        {
          "output_type": "stream",
          "name": "stdout",
          "text": [
            "\u001b[1m2/2\u001b[0m \u001b[32m━━━━━━━━━━━━━━━━━━━━\u001b[0m\u001b[37m\u001b[0m \u001b[1m0s\u001b[0m 28ms/step - accuracy: 0.9705 - loss: 0.1589\n",
            "\n",
            "Test Accuracy: 0.9714\n"
          ]
        }
      ]
    },
    {
      "cell_type": "code",
      "source": [
        "# Prediksi kelas dari probabilitas\n",
        "y_pred_probs = model.predict(X_test)\n",
        "y_pred_classes = np.argmax(y_pred_probs, axis=1)\n",
        "\n",
        "# Laporan klasifikasi\n",
        "print(\"\\n=== Classification Report (Neural Network Multi-Kelas) ===\")\n",
        "print(classification_report(y_test_enc, y_pred_classes, target_names=le.classes_))\n",
        "\n",
        "# Confusion matrix\n",
        "print(\"=== Confusion Matrix ===\")\n",
        "print(confusion_matrix(y_test_enc, y_pred_classes))\n"
      ],
      "metadata": {
        "colab": {
          "base_uri": "https://localhost:8080/"
        },
        "id": "2gOjiRJLGZvh",
        "outputId": "3dfaabe4-4a92-4fc9-92db-eeeb31d8a701"
      },
      "execution_count": 31,
      "outputs": [
        {
          "output_type": "stream",
          "name": "stdout",
          "text": [
            "\u001b[1m2/2\u001b[0m \u001b[32m━━━━━━━━━━━━━━━━━━━━\u001b[0m\u001b[37m\u001b[0m \u001b[1m0s\u001b[0m 59ms/step\n",
            "\n",
            "=== Classification Report (Neural Network Multi-Kelas) ===\n",
            "                         precision    recall  f1-score   support\n",
            "\n",
            "            Cukup Sehat       1.00      0.91      0.95        11\n",
            "Perlu Penanganan Khusus       1.00      1.00      1.00         9\n",
            "        Perlu Perhatian       0.93      1.00      0.96        13\n",
            "                  Sehat       1.00      1.00      1.00         2\n",
            "\n",
            "               accuracy                           0.97        35\n",
            "              macro avg       0.98      0.98      0.98        35\n",
            "           weighted avg       0.97      0.97      0.97        35\n",
            "\n",
            "=== Confusion Matrix ===\n",
            "[[10  0  1  0]\n",
            " [ 0  9  0  0]\n",
            " [ 0  0 13  0]\n",
            " [ 0  0  0  2]]\n"
          ]
        }
      ]
    },
    {
      "cell_type": "code",
      "source": [
        "plt.figure(figsize=(10, 5))\n",
        "plt.plot(history.history['accuracy'], label='Training Accuracy')\n",
        "plt.plot(history.history['val_accuracy'], label='Validation Accuracy')\n",
        "plt.title('Accuracy per Epoch')\n",
        "plt.xlabel('Epoch')\n",
        "plt.ylabel('Accuracy')\n",
        "plt.legend()\n",
        "plt.grid(True)\n",
        "plt.show()"
      ],
      "metadata": {
        "colab": {
          "base_uri": "https://localhost:8080/",
          "height": 487
        },
        "id": "v2ZBVkWRGdCw",
        "outputId": "fcc1e879-ca01-48db-8e62-4198684e42fa"
      },
      "execution_count": 32,
      "outputs": [
        {
          "output_type": "display_data",
          "data": {
            "text/plain": [
              "<Figure size 1000x500 with 1 Axes>"
            ],
            "image/png": "[encoded data removed]"
          },
          "metadata": {}
        }
      ]
    },
    {
      "cell_type": "markdown",
      "source": [
        "inference Model"
      ],
      "metadata": {
        "id": "I0sH5YmRkslG"
      }
    },
    {
      "cell_type": "code",
      "source": [
        "def prediksi_kondisi_keuangan(data_baru: pd.DataFrame):\n",
        "    print(\">> Mulai prediksi\")\n",
        "\n",
        "    data_baru['rasio_transaksi'] = data_baru['jumlah_transaksi'] / (data_baru['pengeluaran'] + 1)\n",
        "    data_baru['persen_pengeluaran'] = data_baru['pengeluaran'] / (data_baru['pemasukan'] + data_baru['pengeluaran'] + 1e-9)\n",
        "\n",
        "    features = [\n",
        "        'pemasukan',\n",
        "        'pengeluaran',\n",
        "        'jumlah_transaksi',\n",
        "        'jumlah_hari_rugi',\n",
        "        'rasio_transaksi',\n",
        "        'persen_pengeluaran'\n",
        "    ]\n",
        "    X_new = data_baru[features]\n",
        "    X_new_scaled = scaler.transform(X_new)\n",
        "\n",
        "    print(\">> Transformasi selesai, mulai prediksi\")\n",
        "    y_probs = model.predict(X_new)\n",
        "    print(\">> Probabilitas:\", y_probs)\n",
        "\n",
        "    y_pred_class = np.argmax(y_probs, axis=1)\n",
        "    label_pred = le.inverse_transform(y_pred_class)\n",
        "\n",
        "    print(\">> Hasil kelas:\", label_pred)\n",
        "    return label_pred[0]\n"
      ],
      "metadata": {
        "id": "yOEt6uyOIQXs"
      },
      "execution_count": 33,
      "outputs": []
    },
    {
      "cell_type": "code",
      "source": [
        "# Contoh data baru yang ingin diprediksi\n",
        "data_baru = pd.DataFrame([{\n",
        "    'pemasukan': 3000000,\n",
        "    'pengeluaran': 2950000,\n",
        "    'jumlah_transaksi': 12,\n",
        "    'jumlah_hari_rugi': 6\n",
        "}])\n",
        "\n",
        "# Panggil fungsi prediksi dan tampilkan hasil\n",
        "hasil = prediksi_kondisi_keuangan(data_baru)\n",
        "print(\"Prediksi kondisi keuangan:\", hasil)\n"
      ],
      "metadata": {
        "colab": {
          "base_uri": "https://localhost:8080/"
        },
        "id": "1eek4fKgIm6o",
        "outputId": "b358e705-3c87-4fe1-cf5d-6a8b00837ee3"
      },
      "execution_count": 34,
      "outputs": [
        {
          "output_type": "stream",
          "name": "stdout",
          "text": [
            ">> Mulai prediksi\n",
            ">> Transformasi selesai, mulai prediksi\n",
            "\u001b[1m1/1\u001b[0m \u001b[32m━━━━━━━━━━━━━━━━━━━━\u001b[0m\u001b[37m\u001b[0m \u001b[1m0s\u001b[0m 38ms/step\n",
            ">> Probabilitas: [[1. 0. 0. 0.]]\n",
            ">> Hasil kelas: ['Cukup Sehat']\n",
            "Prediksi kondisi keuangan: Cukup Sehat\n"
          ]
        }
      ]
    }
  ]
}