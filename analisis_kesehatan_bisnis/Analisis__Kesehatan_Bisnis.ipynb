{
  "nbformat": 4,
  "nbformat_minor": 0,
  "metadata": {
    "colab": {
      "provenance": [],
      "gpuType": "T4"
    },
    "kernelspec": {
      "name": "python3",
      "display_name": "Python 3"
    },
    "language_info": {
      "name": "python"
    },
    "accelerator": "GPU"
  },
  "cells": [
    {
      "cell_type": "markdown",
      "source": [
        "# Import Library\n",
        "\n",
        "Impor library yang diperlukan"
      ],
      "metadata": {
        "id": "XKuR9hRJMHen"
      }
    },
    {
      "cell_type": "code",
      "execution_count": 1,
      "metadata": {
        "id": "-7dtJWqHLpCZ"
      },
      "outputs": [],
      "source": [
        "import pandas as pd\n",
        "import numpy as np\n",
        "import matplotlib.pyplot as plt\n",
        "\n",
        "from sklearn.preprocessing import MinMaxScaler\n",
        "from sklearn.preprocessing import LabelEncoder\n",
        "from sklearn.model_selection import train_test_split\n",
        "from sklearn.metrics import classification_report, confusion_matrix\n",
        "\n",
        "from tensorflow.keras.models import Sequential\n",
        "from tensorflow.keras.layers import Dense, Dropout\n",
        "from tensorflow.keras.utils import to_categorical\n",
        "from tensorflow.keras.callbacks import EarlyStopping\n",
        "\n",
        "import warnings\n",
        "warnings.filterwarnings(\"ignore\")\n"
      ]
    },
    {
      "cell_type": "markdown",
      "source": [
        "# Data Loading & Persiapan Awal"
      ],
      "metadata": {
        "id": "FyigCTf1x8Do"
      }
    },
    {
      "cell_type": "markdown",
      "source": [
        "Menggabungkan file CSV"
      ],
      "metadata": {
        "id": "IF6p7uXzyEmQ"
      }
    },
    {
      "cell_type": "code",
      "source": [
        "file_paths = [\n",
        "    'umkm_dataset/data_transaksi_umkm_2022.csv',\n",
        "    'umkm_dataset/data_transaksi_umkm_2023.csv',\n",
        "    'umkm_dataset/data_transaksi_umkm_2024.csv',\n",
        "    'umkm_dataset/data_transaksi_umkm_2025.csv',\n",
        "    'umkm_dataset/data_transaksi_umkm_nasi_padang.csv'\n",
        "]"
      ],
      "metadata": {
        "id": "kzcWNPpzMMmF"
      },
      "execution_count": 2,
      "outputs": []
    },
    {
      "cell_type": "code",
      "source": [
        "dfs = []\n",
        "for file_path in file_paths:\n",
        "    df = pd.read_csv(file_path)\n",
        "    dfs.append(df)\n",
        "\n",
        "df = pd.concat(dfs, ignore_index=True)"
      ],
      "metadata": {
        "id": "-FHFcPKltWJs"
      },
      "execution_count": 3,
      "outputs": []
    },
    {
      "cell_type": "markdown",
      "source": [
        "Cek struktur dasar DataFrame"
      ],
      "metadata": {
        "id": "5uPHWaVJyJkw"
      }
    },
    {
      "cell_type": "code",
      "source": [
        "df.info()"
      ],
      "metadata": {
        "colab": {
          "base_uri": "https://localhost:8080/"
        },
        "id": "T49jalyuMM__",
        "outputId": "4cbf9c73-5f88-445f-a5a7-f62bef776c1a"
      },
      "execution_count": 4,
      "outputs": [
        {
          "output_type": "stream",
          "name": "stdout",
          "text": [
            "<class 'pandas.core.frame.DataFrame'>\n",
            "RangeIndex: 78730 entries, 0 to 78729\n",
            "Data columns (total 6 columns):\n",
            " #   Column     Non-Null Count  Dtype \n",
            "---  ------     --------------  ----- \n",
            " 0   tanggal    78730 non-null  object\n",
            " 1   jenis      78730 non-null  object\n",
            " 2   nama       78730 non-null  object\n",
            " 3   kategori   78730 non-null  object\n",
            " 4   nominal    78730 non-null  int64 \n",
            " 5   Nama Toko  78730 non-null  object\n",
            "dtypes: int64(1), object(5)\n",
            "memory usage: 3.6+ MB\n"
          ]
        }
      ]
    },
    {
      "cell_type": "code",
      "source": [
        "df.head()"
      ],
      "metadata": {
        "colab": {
          "base_uri": "https://localhost:8080/",
          "height": 206
        },
        "id": "alywxqfRyKt4",
        "outputId": "790590c2-f70e-4c80-9827-e8357d4d7958"
      },
      "execution_count": 5,
      "outputs": [
        {
          "output_type": "execute_result",
          "data": {
            "text/plain": [
              "      tanggal      jenis                   nama   kategori  nominal  \\\n",
              "0  2022-01-01  pemasukan     Penjualan Mie Ayam  penjualan    90000   \n",
              "1  2022-01-01  pemasukan   Penjualan Pecel Lele  penjualan    78000   \n",
              "2  2022-01-01  pemasukan        Penjualan Bakso  penjualan    22000   \n",
              "3  2022-01-01  pemasukan   Penjualan Ayam Bakar  penjualan   150000   \n",
              "4  2022-01-01  pemasukan  Penjualan Jus Alpukat  penjualan    78000   \n",
              "\n",
              "          Nama Toko  \n",
              "0  Warung bu sholeh  \n",
              "1  Warung bu sholeh  \n",
              "2  Warung bu sholeh  \n",
              "3  Warung bu sholeh  \n",
              "4  Warung bu sholeh  "
            ],
            "text/html": [
              "\n",
              "  <div id=\"df-1a9638d1-9670-4299-9305-80975a7ad685\" class=\"colab-df-container\">\n",
              "    <div>\n",
              "<style scoped>\n",
              "    .dataframe tbody tr th:only-of-type {\n",
              "        vertical-align: middle;\n",
              "    }\n",
              "\n",
              "    .dataframe tbody tr th {\n",
              "        vertical-align: top;\n",
              "    }\n",
              "\n",
              "    .dataframe thead th {\n",
              "        text-align: right;\n",
              "    }\n",
              "</style>\n",
              "<table border=\"1\" class=\"dataframe\">\n",
              "  <thead>\n",
              "    <tr style=\"text-align: right;\">\n",
              "      <th></th>\n",
              "      <th>tanggal</th>\n",
              "      <th>jenis</th>\n",
              "      <th>nama</th>\n",
              "      <th>kategori</th>\n",
              "      <th>nominal</th>\n",
              "      <th>Nama Toko</th>\n",
              "    </tr>\n",
              "  </thead>\n",
              "  <tbody>\n",
              "    <tr>\n",
              "      <th>0</th>\n",
              "      <td>2022-01-01</td>\n",
              "      <td>pemasukan</td>\n",
              "      <td>Penjualan Mie Ayam</td>\n",
              "      <td>penjualan</td>\n",
              "      <td>90000</td>\n",
              "      <td>Warung bu sholeh</td>\n",
              "    </tr>\n",
              "    <tr>\n",
              "      <th>1</th>\n",
              "      <td>2022-01-01</td>\n",
              "      <td>pemasukan</td>\n",
              "      <td>Penjualan Pecel Lele</td>\n",
              "      <td>penjualan</td>\n",
              "      <td>78000</td>\n",
              "      <td>Warung bu sholeh</td>\n",
              "    </tr>\n",
              "    <tr>\n",
              "      <th>2</th>\n",
              "      <td>2022-01-01</td>\n",
              "      <td>pemasukan</td>\n",
              "      <td>Penjualan Bakso</td>\n",
              "      <td>penjualan</td>\n",
              "      <td>22000</td>\n",
              "      <td>Warung bu sholeh</td>\n",
              "    </tr>\n",
              "    <tr>\n",
              "      <th>3</th>\n",
              "      <td>2022-01-01</td>\n",
              "      <td>pemasukan</td>\n",
              "      <td>Penjualan Ayam Bakar</td>\n",
              "      <td>penjualan</td>\n",
              "      <td>150000</td>\n",
              "      <td>Warung bu sholeh</td>\n",
              "    </tr>\n",
              "    <tr>\n",
              "      <th>4</th>\n",
              "      <td>2022-01-01</td>\n",
              "      <td>pemasukan</td>\n",
              "      <td>Penjualan Jus Alpukat</td>\n",
              "      <td>penjualan</td>\n",
              "      <td>78000</td>\n",
              "      <td>Warung bu sholeh</td>\n",
              "    </tr>\n",
              "  </tbody>\n",
              "</table>\n",
              "</div>\n",
              "    <div class=\"colab-df-buttons\">\n",
              "      \n",
              "  <div class=\"colab-df-container\">\n",
              "    <button class=\"colab-df-convert\" onclick=\"convertToInteractive('df-1a9638d1-9670-4299-9305-80975a7ad685')\"\n",
              "            title=\"Convert this dataframe to an interactive table.\"\n",
              "            style=\"display:none;\">\n",
              "      \n",
              "  <svg xmlns=\"http://www.w3.org/2000/svg\" height=\"24px\" viewBox=\"0 -960 960 960\">\n",
              "    <path d=\"M120-120v-720h720v720H120Zm60-500h600v-160H180v160Zm220 220h160v-160H400v160Zm0 220h160v-160H400v160ZM180-400h160v-160H180v160Zm440 0h160v-160H620v160ZM180-180h160v-160H180v160Zm440 0h160v-160H620v160Z\"/>\n",
              "  </svg>\n",
              "    </button>\n",
              "    \n",
              "  <style>\n",
              "    .colab-df-container {\n",
              "      display:flex;\n",
              "      gap: 12px;\n",
              "    }\n",
              "\n",
              "    .colab-df-convert {\n",
              "      background-color: #E8F0FE;\n",
              "      border: none;\n",
              "      border-radius: 50%;\n",
              "      cursor: pointer;\n",
              "      display: none;\n",
              "      fill: #1967D2;\n",
              "      height: 32px;\n",
              "      padding: 0 0 0 0;\n",
              "      width: 32px;\n",
              "    }\n",
              "\n",
              "    .colab-df-convert:hover {\n",
              "      background-color: #E2EBFA;\n",
              "      box-shadow: 0px 1px 2px rgba(60, 64, 67, 0.3), 0px 1px 3px 1px rgba(60, 64, 67, 0.15);\n",
              "      fill: #174EA6;\n",
              "    }\n",
              "\n",
              "    .colab-df-buttons div {\n",
              "      margin-bottom: 4px;\n",
              "    }\n",
              "\n",
              "    [theme=dark] .colab-df-convert {\n",
              "      background-color: #3B4455;\n",
              "      fill: #D2E3FC;\n",
              "    }\n",
              "\n",
              "    [theme=dark] .colab-df-convert:hover {\n",
              "      background-color: #434B5C;\n",
              "      box-shadow: 0px 1px 3px 1px rgba(0, 0, 0, 0.15);\n",
              "      filter: drop-shadow(0px 1px 2px rgba(0, 0, 0, 0.3));\n",
              "      fill: #FFFFFF;\n",
              "    }\n",
              "  </style>\n",
              "\n",
              "    <script>\n",
              "      const buttonEl =\n",
              "        document.querySelector('#df-1a9638d1-9670-4299-9305-80975a7ad685 button.colab-df-convert');\n",
              "      buttonEl.style.display =\n",
              "        google.colab.kernel.accessAllowed ? 'block' : 'none';\n",
              "\n",
              "      async function convertToInteractive(key) {\n",
              "        const element = document.querySelector('#df-1a9638d1-9670-4299-9305-80975a7ad685');\n",
              "        const dataTable =\n",
              "          await google.colab.kernel.invokeFunction('convertToInteractive',\n",
              "                                                    [key], {});\n",
              "        if (!dataTable) return;\n",
              "\n",
              "        const docLinkHtml = 'Like what you see? Visit the ' +\n",
              "          '<a target=\"_blank\" href=https://colab.research.google.com/notebooks/data_table.ipynb>data table notebook</a>'\n",
              "          + ' to learn more about interactive tables.';\n",
              "        element.innerHTML = '';\n",
              "        dataTable['output_type'] = 'display_data';\n",
              "        await google.colab.output.renderOutput(dataTable, element);\n",
              "        const docLink = document.createElement('div');\n",
              "        docLink.innerHTML = docLinkHtml;\n",
              "        element.appendChild(docLink);\n",
              "      }\n",
              "    </script>\n",
              "  </div>\n",
              "  \n",
              "    </div>\n",
              "  </div>\n",
              "  "
            ]
          },
          "metadata": {},
          "execution_count": 5
        }
      ]
    },
    {
      "cell_type": "markdown",
      "source": [
        "# Data Preprocessing & Ekstraksi Fitur Harian\n",
        "\n",
        " Mengolah semua transaksi lalu menghasilkan DataFrame “daily” yang berisi ringkasan (aggregate) setiap hari per toko"
      ],
      "metadata": {
        "id": "Y6UiisxJMOFh"
      }
    },
    {
      "cell_type": "markdown",
      "source": [
        "Standarisasi nama kolom"
      ],
      "metadata": {
        "id": "q7aTFTCTyTbo"
      }
    },
    {
      "cell_type": "code",
      "source": [
        "df.columns = df.columns.str.lower()"
      ],
      "metadata": {
        "id": "15lAxG-5uCvw"
      },
      "execution_count": 6,
      "outputs": []
    },
    {
      "cell_type": "markdown",
      "source": [
        "Konversi tanggal menjadi tipe datetime"
      ],
      "metadata": {
        "id": "Bd9k7QBRyXGx"
      }
    },
    {
      "cell_type": "code",
      "source": [
        "df['tanggal'] = pd.to_datetime(df['tanggal'])"
      ],
      "metadata": {
        "id": "BhTnNe0KM4Tw"
      },
      "execution_count": 7,
      "outputs": []
    },
    {
      "cell_type": "markdown",
      "source": [
        "Memisahkan nominal menjadi kolom “pemasukan” dan “pengeluaran”"
      ],
      "metadata": {
        "id": "9fEKiYs5yfKX"
      }
    },
    {
      "cell_type": "code",
      "source": [
        "df['pengeluaran'] = df.apply(lambda row: row['nominal'] if row['jenis'] == 'pengeluaran' else 0, axis=1)\n",
        "df['pemasukan'] = df.apply(lambda row: row['nominal'] if row['jenis'] == 'pemasukan' else 0, axis=1)"
      ],
      "metadata": {
        "id": "TpCphJPXOZWg"
      },
      "execution_count": 8,
      "outputs": []
    },
    {
      "cell_type": "markdown",
      "source": [
        "Tambah kolom 'periode_minggu' (akhir periode Senin)"
      ],
      "metadata": {
        "id": "TtHI7qSe7aoA"
      }
    },
    {
      "cell_type": "code",
      "source": [
        "df['periode_minggu'] = df['tanggal'].dt.to_period('W-MON').apply(lambda r: r.start_time)"
      ],
      "metadata": {
        "id": "XkGPbGGv7L4Q"
      },
      "execution_count": 9,
      "outputs": []
    },
    {
      "cell_type": "markdown",
      "source": [
        "Agregasi per minggu"
      ],
      "metadata": {
        "id": "fXoAbYzz7SmH"
      }
    },
    {
      "cell_type": "code",
      "source": [
        "weekly = (\n",
        "    df\n",
        "    .groupby(['nama toko', 'periode_minggu'])\n",
        "    .agg({\n",
        "        'pemasukan':   'sum',\n",
        "        'pengeluaran': 'sum',\n",
        "        'nominal':     'count'   # ini akan jadi jumlah_transaksi\n",
        "    })\n",
        "    .rename(columns={'nominal': 'jumlah_transaksi'})\n",
        "    .reset_index()\n",
        ")"
      ],
      "metadata": {
        "id": "4taq0BNY7Pgx"
      },
      "execution_count": 10,
      "outputs": []
    },
    {
      "cell_type": "markdown",
      "source": [
        "Tambahkan kolom 'laba_bersih' & 'rasio_keuangan'"
      ],
      "metadata": {
        "id": "MY0XjVtc7o3v"
      }
    },
    {
      "cell_type": "code",
      "source": [
        "weekly['laba_bersih'] = weekly['pemasukan'] - weekly['pengeluaran']\n",
        "weekly['rasio_keuangan'] = weekly['pemasukan'] / (weekly['pengeluaran'] + 1)"
      ],
      "metadata": {
        "id": "_MIAyJ-S7kQw"
      },
      "execution_count": 11,
      "outputs": []
    },
    {
      "cell_type": "markdown",
      "source": [
        "hitung jumlah hari rugi perminggu"
      ],
      "metadata": {
        "id": "xaHJQ3uS7tOB"
      }
    },
    {
      "cell_type": "code",
      "source": [
        "harian = (\n",
        "    df\n",
        "    .groupby(['nama toko', 'tanggal'])\n",
        "    .agg({'pemasukan': 'sum', 'pengeluaran': 'sum'})\n",
        "    .reset_index()\n",
        ")\n",
        "harian['flag_rugi'] = (harian['pengeluaran'] > harian['pemasukan']).astype(int)\n",
        "harian['periode_minggu'] = harian['tanggal'].dt.to_period('W-MON').apply(lambda r: r.start_time)\n",
        "\n",
        "hari_rugi_per_minggu = (\n",
        "    harian\n",
        "    .groupby(['nama toko', 'periode_minggu'])['flag_rugi']\n",
        "    .sum()\n",
        "    .reset_index(name='jumlah_hari_rugi')\n",
        ")"
      ],
      "metadata": {
        "id": "eHRcmL4a7taA"
      },
      "execution_count": 12,
      "outputs": []
    },
    {
      "cell_type": "markdown",
      "source": [
        "Merge jumlah_hari_rugi ke weekly"
      ],
      "metadata": {
        "id": "i6f8Pdqj7z9q"
      }
    },
    {
      "cell_type": "code",
      "source": [
        "weekly = weekly.merge(\n",
        "    hari_rugi_per_minggu,\n",
        "    on=['nama toko', 'periode_minggu'],\n",
        "    how='left'\n",
        ")\n"
      ],
      "metadata": {
        "id": "StphTFGr70KR"
      },
      "execution_count": 13,
      "outputs": []
    },
    {
      "cell_type": "code",
      "source": [
        "weekly['jumlah_hari_rugi'] = weekly['jumlah_hari_rugi'].fillna(0).astype(int)"
      ],
      "metadata": {
        "id": "YZPMJFSn77h4"
      },
      "execution_count": 14,
      "outputs": []
    },
    {
      "cell_type": "code",
      "source": [
        "weekly.head()"
      ],
      "metadata": {
        "colab": {
          "base_uri": "https://localhost:8080/",
          "height": 206
        },
        "id": "LSEcvsc_7_M5",
        "outputId": "0718270c-8a5b-4ca8-f489-e748a70565a1"
      },
      "execution_count": 15,
      "outputs": [
        {
          "output_type": "execute_result",
          "data": {
            "text/plain": [
              "          nama toko periode_minggu  pemasukan  pengeluaran  jumlah_transaksi  \\\n",
              "0  RM Sinar Balatas     2021-12-28    5818000     14545701                99   \n",
              "1  RM Sinar Balatas     2022-01-04   12660000     13309240               206   \n",
              "2  RM Sinar Balatas     2022-01-11   12046000     13070540               197   \n",
              "3  RM Sinar Balatas     2022-01-18   11948000     12144892               188   \n",
              "4  RM Sinar Balatas     2022-01-25   12354000     12621995               195   \n",
              "\n",
              "   laba_bersih  rasio_keuangan  jumlah_hari_rugi  \n",
              "0     -8727701        0.399981                 2  \n",
              "1      -649240        0.951219                 2  \n",
              "2     -1024540        0.921614                 1  \n",
              "3      -196892        0.983788                 2  \n",
              "4      -267995        0.978768                 2  "
            ],
            "text/html": [
              "\n",
              "  <div id=\"df-29ebfe6a-314d-4190-98d3-af2b9ede0830\" class=\"colab-df-container\">\n",
              "    <div>\n",
              "<style scoped>\n",
              "    .dataframe tbody tr th:only-of-type {\n",
              "        vertical-align: middle;\n",
              "    }\n",
              "\n",
              "    .dataframe tbody tr th {\n",
              "        vertical-align: top;\n",
              "    }\n",
              "\n",
              "    .dataframe thead th {\n",
              "        text-align: right;\n",
              "    }\n",
              "</style>\n",
              "<table border=\"1\" class=\"dataframe\">\n",
              "  <thead>\n",
              "    <tr style=\"text-align: right;\">\n",
              "      <th></th>\n",
              "      <th>nama toko</th>\n",
              "      <th>periode_minggu</th>\n",
              "      <th>pemasukan</th>\n",
              "      <th>pengeluaran</th>\n",
              "      <th>jumlah_transaksi</th>\n",
              "      <th>laba_bersih</th>\n",
              "      <th>rasio_keuangan</th>\n",
              "      <th>jumlah_hari_rugi</th>\n",
              "    </tr>\n",
              "  </thead>\n",
              "  <tbody>\n",
              "    <tr>\n",
              "      <th>0</th>\n",
              "      <td>RM Sinar Balatas</td>\n",
              "      <td>2021-12-28</td>\n",
              "      <td>5818000</td>\n",
              "      <td>14545701</td>\n",
              "      <td>99</td>\n",
              "      <td>-8727701</td>\n",
              "      <td>0.399981</td>\n",
              "      <td>2</td>\n",
              "    </tr>\n",
              "    <tr>\n",
              "      <th>1</th>\n",
              "      <td>RM Sinar Balatas</td>\n",
              "      <td>2022-01-04</td>\n",
              "      <td>12660000</td>\n",
              "      <td>13309240</td>\n",
              "      <td>206</td>\n",
              "      <td>-649240</td>\n",
              "      <td>0.951219</td>\n",
              "      <td>2</td>\n",
              "    </tr>\n",
              "    <tr>\n",
              "      <th>2</th>\n",
              "      <td>RM Sinar Balatas</td>\n",
              "      <td>2022-01-11</td>\n",
              "      <td>12046000</td>\n",
              "      <td>13070540</td>\n",
              "      <td>197</td>\n",
              "      <td>-1024540</td>\n",
              "      <td>0.921614</td>\n",
              "      <td>1</td>\n",
              "    </tr>\n",
              "    <tr>\n",
              "      <th>3</th>\n",
              "      <td>RM Sinar Balatas</td>\n",
              "      <td>2022-01-18</td>\n",
              "      <td>11948000</td>\n",
              "      <td>12144892</td>\n",
              "      <td>188</td>\n",
              "      <td>-196892</td>\n",
              "      <td>0.983788</td>\n",
              "      <td>2</td>\n",
              "    </tr>\n",
              "    <tr>\n",
              "      <th>4</th>\n",
              "      <td>RM Sinar Balatas</td>\n",
              "      <td>2022-01-25</td>\n",
              "      <td>12354000</td>\n",
              "      <td>12621995</td>\n",
              "      <td>195</td>\n",
              "      <td>-267995</td>\n",
              "      <td>0.978768</td>\n",
              "      <td>2</td>\n",
              "    </tr>\n",
              "  </tbody>\n",
              "</table>\n",
              "</div>\n",
              "    <div class=\"colab-df-buttons\">\n",
              "      \n",
              "  <div class=\"colab-df-container\">\n",
              "    <button class=\"colab-df-convert\" onclick=\"convertToInteractive('df-29ebfe6a-314d-4190-98d3-af2b9ede0830')\"\n",
              "            title=\"Convert this dataframe to an interactive table.\"\n",
              "            style=\"display:none;\">\n",
              "      \n",
              "  <svg xmlns=\"http://www.w3.org/2000/svg\" height=\"24px\" viewBox=\"0 -960 960 960\">\n",
              "    <path d=\"M120-120v-720h720v720H120Zm60-500h600v-160H180v160Zm220 220h160v-160H400v160Zm0 220h160v-160H400v160ZM180-400h160v-160H180v160Zm440 0h160v-160H620v160ZM180-180h160v-160H180v160Zm440 0h160v-160H620v160Z\"/>\n",
              "  </svg>\n",
              "    </button>\n",
              "    \n",
              "  <style>\n",
              "    .colab-df-container {\n",
              "      display:flex;\n",
              "      gap: 12px;\n",
              "    }\n",
              "\n",
              "    .colab-df-convert {\n",
              "      background-color: #E8F0FE;\n",
              "      border: none;\n",
              "      border-radius: 50%;\n",
              "      cursor: pointer;\n",
              "      display: none;\n",
              "      fill: #1967D2;\n",
              "      height: 32px;\n",
              "      padding: 0 0 0 0;\n",
              "      width: 32px;\n",
              "    }\n",
              "\n",
              "    .colab-df-convert:hover {\n",
              "      background-color: #E2EBFA;\n",
              "      box-shadow: 0px 1px 2px rgba(60, 64, 67, 0.3), 0px 1px 3px 1px rgba(60, 64, 67, 0.15);\n",
              "      fill: #174EA6;\n",
              "    }\n",
              "\n",
              "    .colab-df-buttons div {\n",
              "      margin-bottom: 4px;\n",
              "    }\n",
              "\n",
              "    [theme=dark] .colab-df-convert {\n",
              "      background-color: #3B4455;\n",
              "      fill: #D2E3FC;\n",
              "    }\n",
              "\n",
              "    [theme=dark] .colab-df-convert:hover {\n",
              "      background-color: #434B5C;\n",
              "      box-shadow: 0px 1px 3px 1px rgba(0, 0, 0, 0.15);\n",
              "      filter: drop-shadow(0px 1px 2px rgba(0, 0, 0, 0.3));\n",
              "      fill: #FFFFFF;\n",
              "    }\n",
              "  </style>\n",
              "\n",
              "    <script>\n",
              "      const buttonEl =\n",
              "        document.querySelector('#df-29ebfe6a-314d-4190-98d3-af2b9ede0830 button.colab-df-convert');\n",
              "      buttonEl.style.display =\n",
              "        google.colab.kernel.accessAllowed ? 'block' : 'none';\n",
              "\n",
              "      async function convertToInteractive(key) {\n",
              "        const element = document.querySelector('#df-29ebfe6a-314d-4190-98d3-af2b9ede0830');\n",
              "        const dataTable =\n",
              "          await google.colab.kernel.invokeFunction('convertToInteractive',\n",
              "                                                    [key], {});\n",
              "        if (!dataTable) return;\n",
              "\n",
              "        const docLinkHtml = 'Like what you see? Visit the ' +\n",
              "          '<a target=\"_blank\" href=https://colab.research.google.com/notebooks/data_table.ipynb>data table notebook</a>'\n",
              "          + ' to learn more about interactive tables.';\n",
              "        element.innerHTML = '';\n",
              "        dataTable['output_type'] = 'display_data';\n",
              "        await google.colab.output.renderOutput(dataTable, element);\n",
              "        const docLink = document.createElement('div');\n",
              "        docLink.innerHTML = docLinkHtml;\n",
              "        element.appendChild(docLink);\n",
              "      }\n",
              "    </script>\n",
              "  </div>\n",
              "  \n",
              "    </div>\n",
              "  </div>\n",
              "  "
            ]
          },
          "metadata": {},
          "execution_count": 15
        }
      ]
    },
    {
      "cell_type": "markdown",
      "source": [
        "Menentukan Label Multi‐Kelas"
      ],
      "metadata": {
        "id": "79xaIDmPz3Fo"
      }
    },
    {
      "cell_type": "code",
      "source": [
        "def kategori_laba(row):\n",
        "    rasio = row['rasio_keuangan']\n",
        "    if rasio >= 1.2:\n",
        "        return 'Sehat'\n",
        "    elif rasio >= 1.0:\n",
        "        return 'Cukup Sehat'\n",
        "    elif rasio >= 0.8:\n",
        "        return 'Perlu Perhatian'\n",
        "    else:\n",
        "        return 'Perlu Penanganan Khusus'\n",
        "\n",
        "weekly['label_kelas'] = weekly.apply(kategori_laba, axis=1)\n",
        "\n",
        "# Tampilkan distribusi label\n",
        "print(weekly['label_kelas'].value_counts())\n"
      ],
      "metadata": {
        "colab": {
          "base_uri": "https://localhost:8080/"
        },
        "id": "wiU3ylNgz3SI",
        "outputId": "451bb79c-9207-4674-a515-2714db7da88a"
      },
      "execution_count": 16,
      "outputs": [
        {
          "output_type": "stream",
          "name": "stdout",
          "text": [
            "label_kelas\n",
            "Sehat                      124\n",
            "Cukup Sehat                 82\n",
            "Perlu Penanganan Khusus     73\n",
            "Perlu Perhatian             71\n",
            "Name: count, dtype: int64\n"
          ]
        }
      ]
    },
    {
      "cell_type": "code",
      "source": [
        "weekly.head()"
      ],
      "metadata": {
        "colab": {
          "base_uri": "https://localhost:8080/",
          "height": 293
        },
        "id": "XfpajULc9gga",
        "outputId": "ed508aee-2b13-4c23-dcd2-387283134838"
      },
      "execution_count": 17,
      "outputs": [
        {
          "output_type": "execute_result",
          "data": {
            "text/plain": [
              "          nama toko periode_minggu  pemasukan  pengeluaran  jumlah_transaksi  \\\n",
              "0  RM Sinar Balatas     2021-12-28    5818000     14545701                99   \n",
              "1  RM Sinar Balatas     2022-01-04   12660000     13309240               206   \n",
              "2  RM Sinar Balatas     2022-01-11   12046000     13070540               197   \n",
              "3  RM Sinar Balatas     2022-01-18   11948000     12144892               188   \n",
              "4  RM Sinar Balatas     2022-01-25   12354000     12621995               195   \n",
              "\n",
              "   laba_bersih  rasio_keuangan  jumlah_hari_rugi              label_kelas  \n",
              "0     -8727701        0.399981                 2  Perlu Penanganan Khusus  \n",
              "1      -649240        0.951219                 2          Perlu Perhatian  \n",
              "2     -1024540        0.921614                 1          Perlu Perhatian  \n",
              "3      -196892        0.983788                 2          Perlu Perhatian  \n",
              "4      -267995        0.978768                 2          Perlu Perhatian  "
            ],
            "text/html": [
              "\n",
              "  <div id=\"df-25e004f1-b6a0-4c20-bd41-0a82a95acc87\" class=\"colab-df-container\">\n",
              "    <div>\n",
              "<style scoped>\n",
              "    .dataframe tbody tr th:only-of-type {\n",
              "        vertical-align: middle;\n",
              "    }\n",
              "\n",
              "    .dataframe tbody tr th {\n",
              "        vertical-align: top;\n",
              "    }\n",
              "\n",
              "    .dataframe thead th {\n",
              "        text-align: right;\n",
              "    }\n",
              "</style>\n",
              "<table border=\"1\" class=\"dataframe\">\n",
              "  <thead>\n",
              "    <tr style=\"text-align: right;\">\n",
              "      <th></th>\n",
              "      <th>nama toko</th>\n",
              "      <th>periode_minggu</th>\n",
              "      <th>pemasukan</th>\n",
              "      <th>pengeluaran</th>\n",
              "      <th>jumlah_transaksi</th>\n",
              "      <th>laba_bersih</th>\n",
              "      <th>rasio_keuangan</th>\n",
              "      <th>jumlah_hari_rugi</th>\n",
              "      <th>label_kelas</th>\n",
              "    </tr>\n",
              "  </thead>\n",
              "  <tbody>\n",
              "    <tr>\n",
              "      <th>0</th>\n",
              "      <td>RM Sinar Balatas</td>\n",
              "      <td>2021-12-28</td>\n",
              "      <td>5818000</td>\n",
              "      <td>14545701</td>\n",
              "      <td>99</td>\n",
              "      <td>-8727701</td>\n",
              "      <td>0.399981</td>\n",
              "      <td>2</td>\n",
              "      <td>Perlu Penanganan Khusus</td>\n",
              "    </tr>\n",
              "    <tr>\n",
              "      <th>1</th>\n",
              "      <td>RM Sinar Balatas</td>\n",
              "      <td>2022-01-04</td>\n",
              "      <td>12660000</td>\n",
              "      <td>13309240</td>\n",
              "      <td>206</td>\n",
              "      <td>-649240</td>\n",
              "      <td>0.951219</td>\n",
              "      <td>2</td>\n",
              "      <td>Perlu Perhatian</td>\n",
              "    </tr>\n",
              "    <tr>\n",
              "      <th>2</th>\n",
              "      <td>RM Sinar Balatas</td>\n",
              "      <td>2022-01-11</td>\n",
              "      <td>12046000</td>\n",
              "      <td>13070540</td>\n",
              "      <td>197</td>\n",
              "      <td>-1024540</td>\n",
              "      <td>0.921614</td>\n",
              "      <td>1</td>\n",
              "      <td>Perlu Perhatian</td>\n",
              "    </tr>\n",
              "    <tr>\n",
              "      <th>3</th>\n",
              "      <td>RM Sinar Balatas</td>\n",
              "      <td>2022-01-18</td>\n",
              "      <td>11948000</td>\n",
              "      <td>12144892</td>\n",
              "      <td>188</td>\n",
              "      <td>-196892</td>\n",
              "      <td>0.983788</td>\n",
              "      <td>2</td>\n",
              "      <td>Perlu Perhatian</td>\n",
              "    </tr>\n",
              "    <tr>\n",
              "      <th>4</th>\n",
              "      <td>RM Sinar Balatas</td>\n",
              "      <td>2022-01-25</td>\n",
              "      <td>12354000</td>\n",
              "      <td>12621995</td>\n",
              "      <td>195</td>\n",
              "      <td>-267995</td>\n",
              "      <td>0.978768</td>\n",
              "      <td>2</td>\n",
              "      <td>Perlu Perhatian</td>\n",
              "    </tr>\n",
              "  </tbody>\n",
              "</table>\n",
              "</div>\n",
              "    <div class=\"colab-df-buttons\">\n",
              "      \n",
              "  <div class=\"colab-df-container\">\n",
              "    <button class=\"colab-df-convert\" onclick=\"convertToInteractive('df-25e004f1-b6a0-4c20-bd41-0a82a95acc87')\"\n",
              "            title=\"Convert this dataframe to an interactive table.\"\n",
              "            style=\"display:none;\">\n",
              "      \n",
              "  <svg xmlns=\"http://www.w3.org/2000/svg\" height=\"24px\" viewBox=\"0 -960 960 960\">\n",
              "    <path d=\"M120-120v-720h720v720H120Zm60-500h600v-160H180v160Zm220 220h160v-160H400v160Zm0 220h160v-160H400v160ZM180-400h160v-160H180v160Zm440 0h160v-160H620v160ZM180-180h160v-160H180v160Zm440 0h160v-160H620v160Z\"/>\n",
              "  </svg>\n",
              "    </button>\n",
              "    \n",
              "  <style>\n",
              "    .colab-df-container {\n",
              "      display:flex;\n",
              "      gap: 12px;\n",
              "    }\n",
              "\n",
              "    .colab-df-convert {\n",
              "      background-color: #E8F0FE;\n",
              "      border: none;\n",
              "      border-radius: 50%;\n",
              "      cursor: pointer;\n",
              "      display: none;\n",
              "      fill: #1967D2;\n",
              "      height: 32px;\n",
              "      padding: 0 0 0 0;\n",
              "      width: 32px;\n",
              "    }\n",
              "\n",
              "    .colab-df-convert:hover {\n",
              "      background-color: #E2EBFA;\n",
              "      box-shadow: 0px 1px 2px rgba(60, 64, 67, 0.3), 0px 1px 3px 1px rgba(60, 64, 67, 0.15);\n",
              "      fill: #174EA6;\n",
              "    }\n",
              "\n",
              "    .colab-df-buttons div {\n",
              "      margin-bottom: 4px;\n",
              "    }\n",
              "\n",
              "    [theme=dark] .colab-df-convert {\n",
              "      background-color: #3B4455;\n",
              "      fill: #D2E3FC;\n",
              "    }\n",
              "\n",
              "    [theme=dark] .colab-df-convert:hover {\n",
              "      background-color: #434B5C;\n",
              "      box-shadow: 0px 1px 3px 1px rgba(0, 0, 0, 0.15);\n",
              "      filter: drop-shadow(0px 1px 2px rgba(0, 0, 0, 0.3));\n",
              "      fill: #FFFFFF;\n",
              "    }\n",
              "  </style>\n",
              "\n",
              "    <script>\n",
              "      const buttonEl =\n",
              "        document.querySelector('#df-25e004f1-b6a0-4c20-bd41-0a82a95acc87 button.colab-df-convert');\n",
              "      buttonEl.style.display =\n",
              "        google.colab.kernel.accessAllowed ? 'block' : 'none';\n",
              "\n",
              "      async function convertToInteractive(key) {\n",
              "        const element = document.querySelector('#df-25e004f1-b6a0-4c20-bd41-0a82a95acc87');\n",
              "        const dataTable =\n",
              "          await google.colab.kernel.invokeFunction('convertToInteractive',\n",
              "                                                    [key], {});\n",
              "        if (!dataTable) return;\n",
              "\n",
              "        const docLinkHtml = 'Like what you see? Visit the ' +\n",
              "          '<a target=\"_blank\" href=https://colab.research.google.com/notebooks/data_table.ipynb>data table notebook</a>'\n",
              "          + ' to learn more about interactive tables.';\n",
              "        element.innerHTML = '';\n",
              "        dataTable['output_type'] = 'display_data';\n",
              "        await google.colab.output.renderOutput(dataTable, element);\n",
              "        const docLink = document.createElement('div');\n",
              "        docLink.innerHTML = docLinkHtml;\n",
              "        element.appendChild(docLink);\n",
              "      }\n",
              "    </script>\n",
              "  </div>\n",
              "  \n",
              "    </div>\n",
              "  </div>\n",
              "  "
            ]
          },
          "metadata": {},
          "execution_count": 17
        }
      ]
    },
    {
      "cell_type": "markdown",
      "source": [
        "# Data Preparation\n",
        "\n",
        "Persiapan Data untuk Model\n",
        "\n"
      ],
      "metadata": {
        "id": "SGQQxhGn0S_b"
      }
    },
    {
      "cell_type": "markdown",
      "source": [
        "Membuat fitur turunan\n",
        "\n",
        "Untuk `rasio_transaksi`\n",
        "> *\"Rasio ini saya gunakan untuk mengukur efisiensi aktivitas transaksi terhadap pengeluaran. Semakin tinggi nilainya, berarti setiap unit pengeluaran menghasilkan lebih banyak transaksi. Penambahan +1 pada penyebut bertujuan untuk menghindari pembagian dengan nol ketika tidak ada pengeluaran. Konsep dasarnya mirip dengan rasio efisiensi dalam analisis keuangan, meskipun ini disesuaikan untuk konteks data mingguan.\"*\n",
        "\n",
        "Untuk `persen_pengeluaran`\n",
        "> *\"Rasio ini menunjukkan seberapa besar proporsi pengeluaran dibanding total arus kas (pemasukan + pengeluaran). Ini berguna untuk memahami dominasi belanja terhadap keseluruhan aktivitas keuangan. Nilai kecil 1e-9 ditambahkan untuk mencegah error pembagian nol. Ini mirip dengan pendekatan proporsi dalam laporan keuangan atau rasio cost-to-income di sektor keuangan.\"*\n",
        "\n",
        "Rumus ini bukan dari literatur tunggal, tapi merupakan bentuk praktik umum dalam data analysis — konsepnya terinspirasi dari rasio efisiensi dan rasio aktivitas keuangan. [Financial Analysis Ratio](https://www.jurnal.id/id/blog/rumus-rasio-keuangan-untuk-analisis-rasio-keuangan-perusahaan/?utm_source=chatgpt.com)"
      ],
      "metadata": {
        "id": "c89qhSNBmn-W"
      }
    },
    {
      "cell_type": "code",
      "source": [
        "# Buat fitur turunan:\n",
        "weekly['rasio_transaksi'] = weekly['jumlah_transaksi'] / (weekly['pengeluaran'] + 1)\n",
        "weekly['persen_pengeluaran'] = weekly['pengeluaran'] / (weekly['pemasukan'] + weekly['pengeluaran'] + 1e-9)\n",
        "\n",
        "# Pilih fitur yang TIDAK memuat pemasukan/pengeluaran secara mentah\n",
        "features = [\n",
        "    'pemasukan',\n",
        "    'pengeluaran',\n",
        "    'jumlah_transaksi',\n",
        "    'jumlah_hari_rugi',\n",
        "    'rasio_transaksi',\n",
        "    'persen_pengeluaran'\n",
        "]"
      ],
      "metadata": {
        "id": "v1kCFroV0TM5"
      },
      "execution_count": 18,
      "outputs": []
    },
    {
      "cell_type": "code",
      "source": [
        "X = weekly[features]\n",
        "y = weekly['label_kelas']"
      ],
      "metadata": {
        "id": "7bBQCqQd5SOQ"
      },
      "execution_count": 19,
      "outputs": []
    },
    {
      "cell_type": "markdown",
      "source": [
        "Encode Label Menjadi Numerik"
      ],
      "metadata": {
        "id": "ceCRV4ET0x6B"
      }
    },
    {
      "cell_type": "code",
      "source": [
        "le = LabelEncoder()\n",
        "y_enc = le.fit_transform(y)\n",
        "print(\"Mapping label:\", dict(zip(le.classes_, le.transform(le.classes_))))\n",
        "\n",
        "# One-hot encoding untuk klasifikasi multi-kelas\n",
        "y_cat = to_categorical(y_enc)"
      ],
      "metadata": {
        "colab": {
          "base_uri": "https://localhost:8080/"
        },
        "id": "ncrh62ggGI5Z",
        "outputId": "bba09123-a765-47a5-a1d3-15d4a23ce1bf"
      },
      "execution_count": 20,
      "outputs": [
        {
          "output_type": "stream",
          "name": "stdout",
          "text": [
            "Mapping label: {'Cukup Sehat': np.int64(0), 'Perlu Penanganan Khusus': np.int64(1), 'Perlu Perhatian': np.int64(2), 'Sehat': np.int64(3)}\n"
          ]
        }
      ]
    },
    {
      "cell_type": "markdown",
      "source": [
        "Normalisasi"
      ],
      "metadata": {
        "id": "am3nkzwu8dGh"
      }
    },
    {
      "cell_type": "code",
      "source": [
        "scaler = MinMaxScaler()\n",
        "X_scaled = scaler.fit_transform(X)"
      ],
      "metadata": {
        "id": "EMuQf8DU8dM5"
      },
      "execution_count": 21,
      "outputs": []
    },
    {
      "cell_type": "markdown",
      "source": [
        "Split data menjadi training & testing"
      ],
      "metadata": {
        "id": "qth9gJ5y03By"
      }
    },
    {
      "cell_type": "code",
      "source": [
        "X_train, X_test, y_train_cat, y_test_cat, y_train_enc, y_test_enc = train_test_split(\n",
        "    X_scaled, y_cat, y_enc, test_size=0.2, random_state=42, stratify=y_enc\n",
        ")\n"
      ],
      "metadata": {
        "id": "ZHr0qXkrGHLp"
      },
      "execution_count": 22,
      "outputs": []
    },
    {
      "cell_type": "markdown",
      "source": [
        "pembuatan Model"
      ],
      "metadata": {
        "id": "U0tTzuaH1Cvg"
      }
    },
    {
      "cell_type": "code",
      "source": [
        "model = Sequential([\n",
        "    Dense(64, activation='relu', input_shape=(X_train.shape[1],)),\n",
        "    Dropout(0.3),\n",
        "    Dense(32, activation='relu'),\n",
        "    Dropout(0.2),\n",
        "    Dense(16, activation='relu'),\n",
        "    Dense(4, activation='softmax')  # 4 kelas output\n",
        "])"
      ],
      "metadata": {
        "id": "ibXBh7IRGK0g"
      },
      "execution_count": 23,
      "outputs": []
    },
    {
      "cell_type": "code",
      "source": [
        "model.compile(\n",
        "    optimizer='adam',\n",
        "    loss='categorical_crossentropy',\n",
        "    metrics=['accuracy']\n",
        ")"
      ],
      "metadata": {
        "id": "dUAxG_7CGMz4"
      },
      "execution_count": 24,
      "outputs": []
    },
    {
      "cell_type": "markdown",
      "source": [
        "Pelatihan Model"
      ],
      "metadata": {
        "id": "8a6HzlfMkmV3"
      }
    },
    {
      "cell_type": "code",
      "source": [
        "early_stop = EarlyStopping(\n",
        "    monitor='val_loss',\n",
        "    patience=10,\n",
        "    restore_best_weights=True,\n",
        "    verbose=1\n",
        ")"
      ],
      "metadata": {
        "id": "fPsSXtK7Gkaa"
      },
      "execution_count": 25,
      "outputs": []
    },
    {
      "cell_type": "code",
      "source": [
        "history = model.fit(\n",
        "    X_train, y_train_cat,\n",
        "    epochs=100,\n",
        "    batch_size=16,\n",
        "    validation_split=0.1,\n",
        "    verbose=1,\n",
        "    callbacks=[early_stop]\n",
        ")\n"
      ],
      "metadata": {
        "colab": {
          "base_uri": "https://localhost:8080/"
        },
        "id": "oTaUxhNLGOEg",
        "outputId": "4d273a4f-1532-47c5-e2d7-0c4b176a3a43"
      },
      "execution_count": 26,
      "outputs": [
        {
          "output_type": "stream",
          "name": "stdout",
          "text": [
            "Epoch 1/100\n",
            "\u001b[1m16/16\u001b[0m \u001b[32m━━━━━━━━━━━━━━━━━━━━\u001b[0m\u001b[37m\u001b[0m \u001b[1m6s\u001b[0m 190ms/step - accuracy: 0.1823 - loss: 1.4183 - val_accuracy: 0.3214 - val_loss: 1.3702\n",
            "Epoch 2/100\n",
            "\u001b[1m16/16\u001b[0m \u001b[32m━━━━━━━━━━━━━━━━━━━━\u001b[0m\u001b[37m\u001b[0m \u001b[1m0s\u001b[0m 10ms/step - accuracy: 0.2882 - loss: 1.3709 - val_accuracy: 0.3571 - val_loss: 1.3585\n",
            "Epoch 3/100\n",
            "\u001b[1m16/16\u001b[0m \u001b[32m━━━━━━━━━━━━━━━━━━━━\u001b[0m\u001b[37m\u001b[0m \u001b[1m0s\u001b[0m 8ms/step - accuracy: 0.5120 - loss: 1.3373 - val_accuracy: 0.3929 - val_loss: 1.3434\n",
            "Epoch 4/100\n",
            "\u001b[1m16/16\u001b[0m \u001b[32m━━━━━━━━━━━━━━━━━━━━\u001b[0m\u001b[37m\u001b[0m \u001b[1m0s\u001b[0m 6ms/step - accuracy: 0.5088 - loss: 1.3066 - val_accuracy: 0.3929 - val_loss: 1.3192\n",
            "Epoch 5/100\n",
            "\u001b[1m16/16\u001b[0m \u001b[32m━━━━━━━━━━━━━━━━━━━━\u001b[0m\u001b[37m\u001b[0m \u001b[1m0s\u001b[0m 6ms/step - accuracy: 0.5330 - loss: 1.2427 - val_accuracy: 0.3929 - val_loss: 1.2689\n",
            "Epoch 6/100\n",
            "\u001b[1m16/16\u001b[0m \u001b[32m━━━━━━━━━━━━━━━━━━━━\u001b[0m\u001b[37m\u001b[0m \u001b[1m0s\u001b[0m 6ms/step - accuracy: 0.5788 - loss: 1.1800 - val_accuracy: 0.3929 - val_loss: 1.2152\n",
            "Epoch 7/100\n",
            "\u001b[1m16/16\u001b[0m \u001b[32m━━━━━━━━━━━━━━━━━━━━\u001b[0m\u001b[37m\u001b[0m \u001b[1m0s\u001b[0m 9ms/step - accuracy: 0.5676 - loss: 1.1039 - val_accuracy: 0.3929 - val_loss: 1.1446\n",
            "Epoch 8/100\n",
            "\u001b[1m16/16\u001b[0m \u001b[32m━━━━━━━━━━━━━━━━━━━━\u001b[0m\u001b[37m\u001b[0m \u001b[1m0s\u001b[0m 6ms/step - accuracy: 0.6132 - loss: 1.0001 - val_accuracy: 0.3929 - val_loss: 1.0828\n",
            "Epoch 9/100\n",
            "\u001b[1m16/16\u001b[0m \u001b[32m━━━━━━━━━━━━━━━━━━━━\u001b[0m\u001b[37m\u001b[0m \u001b[1m0s\u001b[0m 6ms/step - accuracy: 0.5711 - loss: 0.9359 - val_accuracy: 0.4286 - val_loss: 0.9932\n",
            "Epoch 10/100\n",
            "\u001b[1m16/16\u001b[0m \u001b[32m━━━━━━━━━━━━━━━━━━━━\u001b[0m\u001b[37m\u001b[0m \u001b[1m0s\u001b[0m 6ms/step - accuracy: 0.6530 - loss: 0.8002 - val_accuracy: 0.6786 - val_loss: 0.9063\n",
            "Epoch 11/100\n",
            "\u001b[1m16/16\u001b[0m \u001b[32m━━━━━━━━━━━━━━━━━━━━\u001b[0m\u001b[37m\u001b[0m \u001b[1m0s\u001b[0m 6ms/step - accuracy: 0.6686 - loss: 0.7833 - val_accuracy: 0.8214 - val_loss: 0.8348\n",
            "Epoch 12/100\n",
            "\u001b[1m16/16\u001b[0m \u001b[32m━━━━━━━━━━━━━━━━━━━━\u001b[0m\u001b[37m\u001b[0m \u001b[1m0s\u001b[0m 6ms/step - accuracy: 0.6709 - loss: 0.7249 - val_accuracy: 0.6786 - val_loss: 0.7593\n",
            "Epoch 13/100\n",
            "\u001b[1m16/16\u001b[0m \u001b[32m━━━━━━━━━━━━━━━━━━━━\u001b[0m\u001b[37m\u001b[0m \u001b[1m0s\u001b[0m 6ms/step - accuracy: 0.6768 - loss: 0.6996 - val_accuracy: 0.8929 - val_loss: 0.7015\n",
            "Epoch 14/100\n",
            "\u001b[1m16/16\u001b[0m \u001b[32m━━━━━━━━━━━━━━━━━━━━\u001b[0m\u001b[37m\u001b[0m \u001b[1m0s\u001b[0m 6ms/step - accuracy: 0.7239 - loss: 0.6394 - val_accuracy: 0.6429 - val_loss: 0.6992\n",
            "Epoch 15/100\n",
            "\u001b[1m16/16\u001b[0m \u001b[32m━━━━━━━━━━━━━━━━━━━━\u001b[0m\u001b[37m\u001b[0m \u001b[1m0s\u001b[0m 6ms/step - accuracy: 0.7537 - loss: 0.5918 - val_accuracy: 0.6786 - val_loss: 0.6349\n",
            "Epoch 16/100\n",
            "\u001b[1m16/16\u001b[0m \u001b[32m━━━━━━━━━━━━━━━━━━━━\u001b[0m\u001b[37m\u001b[0m \u001b[1m0s\u001b[0m 6ms/step - accuracy: 0.7458 - loss: 0.5789 - val_accuracy: 0.9286 - val_loss: 0.5956\n",
            "Epoch 17/100\n",
            "\u001b[1m16/16\u001b[0m \u001b[32m━━━━━━━━━━━━━━━━━━━━\u001b[0m\u001b[37m\u001b[0m \u001b[1m0s\u001b[0m 7ms/step - accuracy: 0.8010 - loss: 0.5466 - val_accuracy: 0.8571 - val_loss: 0.5462\n",
            "Epoch 18/100\n",
            "\u001b[1m16/16\u001b[0m \u001b[32m━━━━━━━━━━━━━━━━━━━━\u001b[0m\u001b[37m\u001b[0m \u001b[1m0s\u001b[0m 6ms/step - accuracy: 0.7603 - loss: 0.5658 - val_accuracy: 0.8929 - val_loss: 0.5150\n",
            "Epoch 19/100\n",
            "\u001b[1m16/16\u001b[0m \u001b[32m━━━━━━━━━━━━━━━━━━━━\u001b[0m\u001b[37m\u001b[0m \u001b[1m0s\u001b[0m 6ms/step - accuracy: 0.7698 - loss: 0.5473 - val_accuracy: 0.8929 - val_loss: 0.5137\n",
            "Epoch 20/100\n",
            "\u001b[1m16/16\u001b[0m \u001b[32m━━━━━━━━━━━━━━━━━━━━\u001b[0m\u001b[37m\u001b[0m \u001b[1m0s\u001b[0m 6ms/step - accuracy: 0.8032 - loss: 0.4953 - val_accuracy: 0.8929 - val_loss: 0.4958\n",
            "Epoch 21/100\n",
            "\u001b[1m16/16\u001b[0m \u001b[32m━━━━━━━━━━━━━━━━━━━━\u001b[0m\u001b[37m\u001b[0m \u001b[1m0s\u001b[0m 6ms/step - accuracy: 0.8167 - loss: 0.4817 - val_accuracy: 0.8571 - val_loss: 0.4746\n",
            "Epoch 22/100\n",
            "\u001b[1m16/16\u001b[0m \u001b[32m━━━━━━━━━━━━━━━━━━━━\u001b[0m\u001b[37m\u001b[0m \u001b[1m0s\u001b[0m 6ms/step - accuracy: 0.8265 - loss: 0.4631 - val_accuracy: 0.9286 - val_loss: 0.4347\n",
            "Epoch 23/100\n",
            "\u001b[1m16/16\u001b[0m \u001b[32m━━━━━━━━━━━━━━━━━━━━\u001b[0m\u001b[37m\u001b[0m \u001b[1m0s\u001b[0m 6ms/step - accuracy: 0.8090 - loss: 0.4572 - val_accuracy: 0.8929 - val_loss: 0.4166\n",
            "Epoch 24/100\n",
            "\u001b[1m16/16\u001b[0m \u001b[32m━━━━━━━━━━━━━━━━━━━━\u001b[0m\u001b[37m\u001b[0m \u001b[1m0s\u001b[0m 6ms/step - accuracy: 0.8233 - loss: 0.4171 - val_accuracy: 0.8929 - val_loss: 0.4114\n",
            "Epoch 25/100\n",
            "\u001b[1m16/16\u001b[0m \u001b[32m━━━━━━━━━━━━━━━━━━━━\u001b[0m\u001b[37m\u001b[0m \u001b[1m0s\u001b[0m 6ms/step - accuracy: 0.8311 - loss: 0.4236 - val_accuracy: 0.9286 - val_loss: 0.3853\n",
            "Epoch 26/100\n",
            "\u001b[1m16/16\u001b[0m \u001b[32m━━━━━━━━━━━━━━━━━━━━\u001b[0m\u001b[37m\u001b[0m \u001b[1m0s\u001b[0m 6ms/step - accuracy: 0.8660 - loss: 0.3701 - val_accuracy: 0.8929 - val_loss: 0.3770\n",
            "Epoch 27/100\n",
            "\u001b[1m16/16\u001b[0m \u001b[32m━━━━━━━━━━━━━━━━━━━━\u001b[0m\u001b[37m\u001b[0m \u001b[1m0s\u001b[0m 6ms/step - accuracy: 0.8358 - loss: 0.4189 - val_accuracy: 0.9643 - val_loss: 0.3596\n",
            "Epoch 28/100\n",
            "\u001b[1m16/16\u001b[0m \u001b[32m━━━━━━━━━━━━━━━━━━━━\u001b[0m\u001b[37m\u001b[0m \u001b[1m0s\u001b[0m 6ms/step - accuracy: 0.8206 - loss: 0.4551 - val_accuracy: 0.9643 - val_loss: 0.3534\n",
            "Epoch 29/100\n",
            "\u001b[1m16/16\u001b[0m \u001b[32m━━━━━━━━━━━━━━━━━━━━\u001b[0m\u001b[37m\u001b[0m \u001b[1m0s\u001b[0m 6ms/step - accuracy: 0.8491 - loss: 0.3672 - val_accuracy: 0.9286 - val_loss: 0.3500\n",
            "Epoch 30/100\n",
            "\u001b[1m16/16\u001b[0m \u001b[32m━━━━━━━━━━━━━━━━━━━━\u001b[0m\u001b[37m\u001b[0m \u001b[1m0s\u001b[0m 6ms/step - accuracy: 0.8609 - loss: 0.3981 - val_accuracy: 0.9286 - val_loss: 0.3322\n",
            "Epoch 31/100\n",
            "\u001b[1m16/16\u001b[0m \u001b[32m━━━━━━━━━━━━━━━━━━━━\u001b[0m\u001b[37m\u001b[0m \u001b[1m0s\u001b[0m 6ms/step - accuracy: 0.8104 - loss: 0.4111 - val_accuracy: 0.9643 - val_loss: 0.3213\n",
            "Epoch 32/100\n",
            "\u001b[1m16/16\u001b[0m \u001b[32m━━━━━━━━━━━━━━━━━━━━\u001b[0m\u001b[37m\u001b[0m \u001b[1m0s\u001b[0m 7ms/step - accuracy: 0.8270 - loss: 0.3790 - val_accuracy: 0.8929 - val_loss: 0.3400\n",
            "Epoch 33/100\n",
            "\u001b[1m16/16\u001b[0m \u001b[32m━━━━━━━━━━━━━━━━━━━━\u001b[0m\u001b[37m\u001b[0m \u001b[1m0s\u001b[0m 6ms/step - accuracy: 0.8427 - loss: 0.3585 - val_accuracy: 0.8929 - val_loss: 0.3097\n",
            "Epoch 34/100\n",
            "\u001b[1m16/16\u001b[0m \u001b[32m━━━━━━━━━━━━━━━━━━━━\u001b[0m\u001b[37m\u001b[0m \u001b[1m0s\u001b[0m 6ms/step - accuracy: 0.8257 - loss: 0.3411 - val_accuracy: 0.9643 - val_loss: 0.3022\n",
            "Epoch 35/100\n",
            "\u001b[1m16/16\u001b[0m \u001b[32m━━━━━━━━━━━━━━━━━━━━\u001b[0m\u001b[37m\u001b[0m \u001b[1m0s\u001b[0m 6ms/step - accuracy: 0.8539 - loss: 0.3683 - val_accuracy: 0.9643 - val_loss: 0.2987\n",
            "Epoch 36/100\n",
            "\u001b[1m16/16\u001b[0m \u001b[32m━━━━━━━━━━━━━━━━━━━━\u001b[0m\u001b[37m\u001b[0m \u001b[1m0s\u001b[0m 6ms/step - accuracy: 0.8515 - loss: 0.3612 - val_accuracy: 0.8929 - val_loss: 0.3290\n",
            "Epoch 37/100\n",
            "\u001b[1m16/16\u001b[0m \u001b[32m━━━━━━━━━━━━━━━━━━━━\u001b[0m\u001b[37m\u001b[0m \u001b[1m0s\u001b[0m 6ms/step - accuracy: 0.8701 - loss: 0.3039 - val_accuracy: 0.9286 - val_loss: 0.2723\n",
            "Epoch 38/100\n",
            "\u001b[1m16/16\u001b[0m \u001b[32m━━━━━━━━━━━━━━━━━━━━\u001b[0m\u001b[37m\u001b[0m \u001b[1m0s\u001b[0m 6ms/step - accuracy: 0.9038 - loss: 0.2940 - val_accuracy: 0.9286 - val_loss: 0.3087\n",
            "Epoch 39/100\n",
            "\u001b[1m16/16\u001b[0m \u001b[32m━━━━━━━━━━━━━━━━━━━━\u001b[0m\u001b[37m\u001b[0m \u001b[1m0s\u001b[0m 6ms/step - accuracy: 0.8877 - loss: 0.3023 - val_accuracy: 0.9286 - val_loss: 0.2603\n",
            "Epoch 40/100\n",
            "\u001b[1m16/16\u001b[0m \u001b[32m━━━━━━━━━━━━━━━━━━━━\u001b[0m\u001b[37m\u001b[0m \u001b[1m0s\u001b[0m 6ms/step - accuracy: 0.8465 - loss: 0.3575 - val_accuracy: 0.9286 - val_loss: 0.2800\n",
            "Epoch 41/100\n",
            "\u001b[1m16/16\u001b[0m \u001b[32m━━━━━━━━━━━━━━━━━━━━\u001b[0m\u001b[37m\u001b[0m \u001b[1m0s\u001b[0m 6ms/step - accuracy: 0.8459 - loss: 0.3401 - val_accuracy: 0.8929 - val_loss: 0.3090\n",
            "Epoch 42/100\n",
            "\u001b[1m16/16\u001b[0m \u001b[32m━━━━━━━━━━━━━━━━━━━━\u001b[0m\u001b[37m\u001b[0m \u001b[1m0s\u001b[0m 6ms/step - accuracy: 0.8817 - loss: 0.2905 - val_accuracy: 0.9643 - val_loss: 0.2625\n",
            "Epoch 43/100\n",
            "\u001b[1m16/16\u001b[0m \u001b[32m━━━━━━━━━━━━━━━━━━━━\u001b[0m\u001b[37m\u001b[0m \u001b[1m0s\u001b[0m 6ms/step - accuracy: 0.8443 - loss: 0.3782 - val_accuracy: 0.9643 - val_loss: 0.2476\n",
            "Epoch 44/100\n",
            "\u001b[1m16/16\u001b[0m \u001b[32m━━━━━━━━━━━━━━━━━━━━\u001b[0m\u001b[37m\u001b[0m \u001b[1m0s\u001b[0m 6ms/step - accuracy: 0.8886 - loss: 0.2936 - val_accuracy: 0.9286 - val_loss: 0.2533\n",
            "Epoch 45/100\n",
            "\u001b[1m16/16\u001b[0m \u001b[32m━━━━━━━━━━━━━━━━━━━━\u001b[0m\u001b[37m\u001b[0m \u001b[1m0s\u001b[0m 6ms/step - accuracy: 0.8836 - loss: 0.2710 - val_accuracy: 0.9286 - val_loss: 0.2534\n",
            "Epoch 46/100\n",
            "\u001b[1m16/16\u001b[0m \u001b[32m━━━━━━━━━━━━━━━━━━━━\u001b[0m\u001b[37m\u001b[0m \u001b[1m0s\u001b[0m 6ms/step - accuracy: 0.8725 - loss: 0.3109 - val_accuracy: 0.9286 - val_loss: 0.2668\n",
            "Epoch 47/100\n",
            "\u001b[1m16/16\u001b[0m \u001b[32m━━━━━━━━━━━━━━━━━━━━\u001b[0m\u001b[37m\u001b[0m \u001b[1m0s\u001b[0m 6ms/step - accuracy: 0.8424 - loss: 0.3304 - val_accuracy: 0.9643 - val_loss: 0.2345\n",
            "Epoch 48/100\n",
            "\u001b[1m16/16\u001b[0m \u001b[32m━━━━━━━━━━━━━━━━━━━━\u001b[0m\u001b[37m\u001b[0m \u001b[1m0s\u001b[0m 7ms/step - accuracy: 0.8652 - loss: 0.3326 - val_accuracy: 0.9643 - val_loss: 0.2425\n",
            "Epoch 49/100\n",
            "\u001b[1m16/16\u001b[0m \u001b[32m━━━━━━━━━━━━━━━━━━━━\u001b[0m\u001b[37m\u001b[0m \u001b[1m0s\u001b[0m 6ms/step - accuracy: 0.8848 - loss: 0.2636 - val_accuracy: 0.9643 - val_loss: 0.2442\n",
            "Epoch 50/100\n",
            "\u001b[1m16/16\u001b[0m \u001b[32m━━━━━━━━━━━━━━━━━━━━\u001b[0m\u001b[37m\u001b[0m \u001b[1m0s\u001b[0m 6ms/step - accuracy: 0.8967 - loss: 0.2475 - val_accuracy: 0.9643 - val_loss: 0.2248\n",
            "Epoch 51/100\n",
            "\u001b[1m16/16\u001b[0m \u001b[32m━━━━━━━━━━━━━━━━━━━━\u001b[0m\u001b[37m\u001b[0m \u001b[1m0s\u001b[0m 6ms/step - accuracy: 0.8631 - loss: 0.2872 - val_accuracy: 0.9643 - val_loss: 0.2238\n",
            "Epoch 52/100\n",
            "\u001b[1m16/16\u001b[0m \u001b[32m━━━━━━━━━━━━━━━━━━━━\u001b[0m\u001b[37m\u001b[0m \u001b[1m0s\u001b[0m 6ms/step - accuracy: 0.8614 - loss: 0.2703 - val_accuracy: 0.9286 - val_loss: 0.2409\n",
            "Epoch 53/100\n",
            "\u001b[1m16/16\u001b[0m \u001b[32m━━━━━━━━━━━━━━━━━━━━\u001b[0m\u001b[37m\u001b[0m \u001b[1m0s\u001b[0m 6ms/step - accuracy: 0.8783 - loss: 0.2617 - val_accuracy: 0.8929 - val_loss: 0.2501\n",
            "Epoch 54/100\n",
            "\u001b[1m16/16\u001b[0m \u001b[32m━━━━━━━━━━━━━━━━━━━━\u001b[0m\u001b[37m\u001b[0m \u001b[1m0s\u001b[0m 6ms/step - accuracy: 0.8350 - loss: 0.2854 - val_accuracy: 0.9286 - val_loss: 0.2264\n",
            "Epoch 55/100\n",
            "\u001b[1m16/16\u001b[0m \u001b[32m━━━━━━━━━━━━━━━━━━━━\u001b[0m\u001b[37m\u001b[0m \u001b[1m0s\u001b[0m 6ms/step - accuracy: 0.9053 - loss: 0.2307 - val_accuracy: 0.9643 - val_loss: 0.2225\n",
            "Epoch 56/100\n",
            "\u001b[1m16/16\u001b[0m \u001b[32m━━━━━━━━━━━━━━━━━━━━\u001b[0m\u001b[37m\u001b[0m \u001b[1m0s\u001b[0m 6ms/step - accuracy: 0.8566 - loss: 0.3467 - val_accuracy: 0.8571 - val_loss: 0.2920\n",
            "Epoch 57/100\n",
            "\u001b[1m16/16\u001b[0m \u001b[32m━━━━━━━━━━━━━━━━━━━━\u001b[0m\u001b[37m\u001b[0m \u001b[1m0s\u001b[0m 6ms/step - accuracy: 0.9003 - loss: 0.2494 - val_accuracy: 0.9643 - val_loss: 0.2055\n",
            "Epoch 58/100\n",
            "\u001b[1m16/16\u001b[0m \u001b[32m━━━━━━━━━━━━━━━━━━━━\u001b[0m\u001b[37m\u001b[0m \u001b[1m0s\u001b[0m 6ms/step - accuracy: 0.8460 - loss: 0.3220 - val_accuracy: 0.8929 - val_loss: 0.2529\n",
            "Epoch 59/100\n",
            "\u001b[1m16/16\u001b[0m \u001b[32m━━━━━━━━━━━━━━━━━━━━\u001b[0m\u001b[37m\u001b[0m \u001b[1m0s\u001b[0m 6ms/step - accuracy: 0.9138 - loss: 0.2292 - val_accuracy: 0.9286 - val_loss: 0.2197\n",
            "Epoch 60/100\n",
            "\u001b[1m16/16\u001b[0m \u001b[32m━━━━━━━━━━━━━━━━━━━━\u001b[0m\u001b[37m\u001b[0m \u001b[1m0s\u001b[0m 6ms/step - accuracy: 0.8803 - loss: 0.2594 - val_accuracy: 0.9643 - val_loss: 0.2062\n",
            "Epoch 61/100\n",
            "\u001b[1m16/16\u001b[0m \u001b[32m━━━━━━━━━━━━━━━━━━━━\u001b[0m\u001b[37m\u001b[0m \u001b[1m0s\u001b[0m 6ms/step - accuracy: 0.9122 - loss: 0.2139 - val_accuracy: 0.9286 - val_loss: 0.2187\n",
            "Epoch 62/100\n",
            "\u001b[1m16/16\u001b[0m \u001b[32m━━━━━━━━━━━━━━━━━━━━\u001b[0m\u001b[37m\u001b[0m \u001b[1m0s\u001b[0m 6ms/step - accuracy: 0.9064 - loss: 0.2289 - val_accuracy: 0.9286 - val_loss: 0.2118\n",
            "Epoch 63/100\n",
            "\u001b[1m16/16\u001b[0m \u001b[32m━━━━━━━━━━━━━━━━━━━━\u001b[0m\u001b[37m\u001b[0m \u001b[1m0s\u001b[0m 6ms/step - accuracy: 0.9214 - loss: 0.2672 - val_accuracy: 0.9643 - val_loss: 0.1946\n",
            "Epoch 64/100\n",
            "\u001b[1m16/16\u001b[0m \u001b[32m━━━━━━━━━━━━━━━━━━━━\u001b[0m\u001b[37m\u001b[0m \u001b[1m0s\u001b[0m 7ms/step - accuracy: 0.8883 - loss: 0.2153 - val_accuracy: 0.9643 - val_loss: 0.1903\n",
            "Epoch 65/100\n",
            "\u001b[1m16/16\u001b[0m \u001b[32m━━━━━━━━━━━━━━━━━━━━\u001b[0m\u001b[37m\u001b[0m \u001b[1m0s\u001b[0m 6ms/step - accuracy: 0.8928 - loss: 0.2543 - val_accuracy: 0.8929 - val_loss: 0.2439\n",
            "Epoch 66/100\n",
            "\u001b[1m16/16\u001b[0m \u001b[32m━━━━━━━━━━━━━━━━━━━━\u001b[0m\u001b[37m\u001b[0m \u001b[1m0s\u001b[0m 6ms/step - accuracy: 0.8616 - loss: 0.2496 - val_accuracy: 0.9643 - val_loss: 0.1794\n",
            "Epoch 67/100\n",
            "\u001b[1m16/16\u001b[0m \u001b[32m━━━━━━━━━━━━━━━━━━━━\u001b[0m\u001b[37m\u001b[0m \u001b[1m0s\u001b[0m 6ms/step - accuracy: 0.8798 - loss: 0.2694 - val_accuracy: 0.9643 - val_loss: 0.1929\n",
            "Epoch 68/100\n",
            "\u001b[1m16/16\u001b[0m \u001b[32m━━━━━━━━━━━━━━━━━━━━\u001b[0m\u001b[37m\u001b[0m \u001b[1m0s\u001b[0m 6ms/step - accuracy: 0.8567 - loss: 0.2574 - val_accuracy: 0.9286 - val_loss: 0.2037\n",
            "Epoch 69/100\n",
            "\u001b[1m16/16\u001b[0m \u001b[32m━━━━━━━━━━━━━━━━━━━━\u001b[0m\u001b[37m\u001b[0m \u001b[1m0s\u001b[0m 6ms/step - accuracy: 0.8830 - loss: 0.2251 - val_accuracy: 0.9643 - val_loss: 0.2027\n",
            "Epoch 70/100\n",
            "\u001b[1m16/16\u001b[0m \u001b[32m━━━━━━━━━━━━━━━━━━━━\u001b[0m\u001b[37m\u001b[0m \u001b[1m0s\u001b[0m 6ms/step - accuracy: 0.9014 - loss: 0.2376 - val_accuracy: 0.9286 - val_loss: 0.1949\n",
            "Epoch 71/100\n",
            "\u001b[1m16/16\u001b[0m \u001b[32m━━━━━━━━━━━━━━━━━━━━\u001b[0m\u001b[37m\u001b[0m \u001b[1m0s\u001b[0m 6ms/step - accuracy: 0.8999 - loss: 0.2225 - val_accuracy: 0.9286 - val_loss: 0.2182\n",
            "Epoch 72/100\n",
            "\u001b[1m16/16\u001b[0m \u001b[32m━━━━━━━━━━━━━━━━━━━━\u001b[0m\u001b[37m\u001b[0m \u001b[1m0s\u001b[0m 7ms/step - accuracy: 0.9051 - loss: 0.2006 - val_accuracy: 0.8929 - val_loss: 0.2403\n",
            "Epoch 73/100\n",
            "\u001b[1m16/16\u001b[0m \u001b[32m━━━━━━━━━━━━━━━━━━━━\u001b[0m\u001b[37m\u001b[0m \u001b[1m0s\u001b[0m 6ms/step - accuracy: 0.8795 - loss: 0.2441 - val_accuracy: 0.9643 - val_loss: 0.1681\n",
            "Epoch 74/100\n",
            "\u001b[1m16/16\u001b[0m \u001b[32m━━━━━━━━━━━━━━━━━━━━\u001b[0m\u001b[37m\u001b[0m \u001b[1m0s\u001b[0m 6ms/step - accuracy: 0.9103 - loss: 0.2256 - val_accuracy: 0.9286 - val_loss: 0.2039\n",
            "Epoch 75/100\n",
            "\u001b[1m16/16\u001b[0m \u001b[32m━━━━━━━━━━━━━━━━━━━━\u001b[0m\u001b[37m\u001b[0m \u001b[1m0s\u001b[0m 6ms/step - accuracy: 0.9204 - loss: 0.2096 - val_accuracy: 0.9643 - val_loss: 0.1854\n",
            "Epoch 76/100\n",
            "\u001b[1m16/16\u001b[0m \u001b[32m━━━━━━━━━━━━━━━━━━━━\u001b[0m\u001b[37m\u001b[0m \u001b[1m0s\u001b[0m 8ms/step - accuracy: 0.9063 - loss: 0.2233 - val_accuracy: 0.9643 - val_loss: 0.1734\n",
            "Epoch 77/100\n",
            "\u001b[1m16/16\u001b[0m \u001b[32m━━━━━━━━━━━━━━━━━━━━\u001b[0m\u001b[37m\u001b[0m \u001b[1m0s\u001b[0m 6ms/step - accuracy: 0.8929 - loss: 0.2438 - val_accuracy: 0.8214 - val_loss: 0.3242\n",
            "Epoch 78/100\n",
            "\u001b[1m16/16\u001b[0m \u001b[32m━━━━━━━━━━━━━━━━━━━━\u001b[0m\u001b[37m\u001b[0m \u001b[1m0s\u001b[0m 7ms/step - accuracy: 0.8966 - loss: 0.2484 - val_accuracy: 0.9643 - val_loss: 0.1780\n",
            "Epoch 79/100\n",
            "\u001b[1m16/16\u001b[0m \u001b[32m━━━━━━━━━━━━━━━━━━━━\u001b[0m\u001b[37m\u001b[0m \u001b[1m0s\u001b[0m 6ms/step - accuracy: 0.9379 - loss: 0.2043 - val_accuracy: 0.9643 - val_loss: 0.1647\n",
            "Epoch 80/100\n",
            "\u001b[1m16/16\u001b[0m \u001b[32m━━━━━━━━━━━━━━━━━━━━\u001b[0m\u001b[37m\u001b[0m \u001b[1m0s\u001b[0m 7ms/step - accuracy: 0.8860 - loss: 0.2478 - val_accuracy: 0.8929 - val_loss: 0.2157\n",
            "Epoch 81/100\n",
            "\u001b[1m16/16\u001b[0m \u001b[32m━━━━━━━━━━━━━━━━━━━━\u001b[0m\u001b[37m\u001b[0m \u001b[1m0s\u001b[0m 9ms/step - accuracy: 0.9102 - loss: 0.2330 - val_accuracy: 0.9643 - val_loss: 0.1586\n",
            "Epoch 82/100\n",
            "\u001b[1m16/16\u001b[0m \u001b[32m━━━━━━━━━━━━━━━━━━━━\u001b[0m\u001b[37m\u001b[0m \u001b[1m0s\u001b[0m 10ms/step - accuracy: 0.9406 - loss: 0.1917 - val_accuracy: 0.8571 - val_loss: 0.2649\n",
            "Epoch 83/100\n",
            "\u001b[1m16/16\u001b[0m \u001b[32m━━━━━━━━━━━━━━━━━━━━\u001b[0m\u001b[37m\u001b[0m \u001b[1m0s\u001b[0m 10ms/step - accuracy: 0.8723 - loss: 0.2710 - val_accuracy: 0.9286 - val_loss: 0.1889\n",
            "Epoch 84/100\n",
            "\u001b[1m16/16\u001b[0m \u001b[32m━━━━━━━━━━━━━━━━━━━━\u001b[0m\u001b[37m\u001b[0m \u001b[1m0s\u001b[0m 10ms/step - accuracy: 0.9206 - loss: 0.2026 - val_accuracy: 0.8929 - val_loss: 0.2168\n",
            "Epoch 85/100\n",
            "\u001b[1m16/16\u001b[0m \u001b[32m━━━━━━━━━━━━━━━━━━━━\u001b[0m\u001b[37m\u001b[0m \u001b[1m0s\u001b[0m 11ms/step - accuracy: 0.9227 - loss: 0.1972 - val_accuracy: 0.9286 - val_loss: 0.1745\n",
            "Epoch 86/100\n",
            "\u001b[1m16/16\u001b[0m \u001b[32m━━━━━━━━━━━━━━━━━━━━\u001b[0m\u001b[37m\u001b[0m \u001b[1m0s\u001b[0m 11ms/step - accuracy: 0.9027 - loss: 0.2435 - val_accuracy: 0.9286 - val_loss: 0.1882\n",
            "Epoch 87/100\n",
            "\u001b[1m16/16\u001b[0m \u001b[32m━━━━━━━━━━━━━━━━━━━━\u001b[0m\u001b[37m\u001b[0m \u001b[1m0s\u001b[0m 12ms/step - accuracy: 0.8964 - loss: 0.2134 - val_accuracy: 0.8214 - val_loss: 0.2911\n",
            "Epoch 88/100\n",
            "\u001b[1m16/16\u001b[0m \u001b[32m━━━━━━━━━━━━━━━━━━━━\u001b[0m\u001b[37m\u001b[0m \u001b[1m0s\u001b[0m 9ms/step - accuracy: 0.8890 - loss: 0.2367 - val_accuracy: 0.8929 - val_loss: 0.2451\n",
            "Epoch 89/100\n",
            "\u001b[1m16/16\u001b[0m \u001b[32m━━━━━━━━━━━━━━━━━━━━\u001b[0m\u001b[37m\u001b[0m \u001b[1m0s\u001b[0m 9ms/step - accuracy: 0.9193 - loss: 0.2188 - val_accuracy: 0.9286 - val_loss: 0.1442\n",
            "Epoch 90/100\n",
            "\u001b[1m16/16\u001b[0m \u001b[32m━━━━━━━━━━━━━━━━━━━━\u001b[0m\u001b[37m\u001b[0m \u001b[1m0s\u001b[0m 6ms/step - accuracy: 0.9040 - loss: 0.2153 - val_accuracy: 0.9643 - val_loss: 0.1601\n",
            "Epoch 91/100\n",
            "\u001b[1m16/16\u001b[0m \u001b[32m━━━━━━━━━━━━━━━━━━━━\u001b[0m\u001b[37m\u001b[0m \u001b[1m0s\u001b[0m 6ms/step - accuracy: 0.8978 - loss: 0.2381 - val_accuracy: 0.9286 - val_loss: 0.1918\n",
            "Epoch 92/100\n",
            "\u001b[1m16/16\u001b[0m \u001b[32m━━━━━━━━━━━━━━━━━━━━\u001b[0m\u001b[37m\u001b[0m \u001b[1m0s\u001b[0m 6ms/step - accuracy: 0.9480 - loss: 0.1836 - val_accuracy: 0.9286 - val_loss: 0.1728\n",
            "Epoch 93/100\n",
            "\u001b[1m16/16\u001b[0m \u001b[32m━━━━━━━━━━━━━━━━━━━━\u001b[0m\u001b[37m\u001b[0m \u001b[1m0s\u001b[0m 6ms/step - accuracy: 0.9008 - loss: 0.2296 - val_accuracy: 0.9286 - val_loss: 0.1644\n",
            "Epoch 94/100\n",
            "\u001b[1m16/16\u001b[0m \u001b[32m━━━━━━━━━━━━━━━━━━━━\u001b[0m\u001b[37m\u001b[0m \u001b[1m0s\u001b[0m 6ms/step - accuracy: 0.8998 - loss: 0.2244 - val_accuracy: 0.8929 - val_loss: 0.2266\n",
            "Epoch 95/100\n",
            "\u001b[1m16/16\u001b[0m \u001b[32m━━━━━━━━━━━━━━━━━━━━\u001b[0m\u001b[37m\u001b[0m \u001b[1m0s\u001b[0m 6ms/step - accuracy: 0.9016 - loss: 0.2449 - val_accuracy: 0.9643 - val_loss: 0.1446\n",
            "Epoch 96/100\n",
            "\u001b[1m16/16\u001b[0m \u001b[32m━━━━━━━━━━━━━━━━━━━━\u001b[0m\u001b[37m\u001b[0m \u001b[1m0s\u001b[0m 6ms/step - accuracy: 0.9385 - loss: 0.1679 - val_accuracy: 0.9643 - val_loss: 0.1581\n",
            "Epoch 97/100\n",
            "\u001b[1m16/16\u001b[0m \u001b[32m━━━━━━━━━━━━━━━━━━━━\u001b[0m\u001b[37m\u001b[0m \u001b[1m0s\u001b[0m 6ms/step - accuracy: 0.9023 - loss: 0.2010 - val_accuracy: 0.8571 - val_loss: 0.2536\n",
            "Epoch 98/100\n",
            "\u001b[1m16/16\u001b[0m \u001b[32m━━━━━━━━━━━━━━━━━━━━\u001b[0m\u001b[37m\u001b[0m \u001b[1m0s\u001b[0m 6ms/step - accuracy: 0.9180 - loss: 0.2105 - val_accuracy: 0.9643 - val_loss: 0.1434\n",
            "Epoch 99/100\n",
            "\u001b[1m16/16\u001b[0m \u001b[32m━━━━━━━━━━━━━━━━━━━━\u001b[0m\u001b[37m\u001b[0m \u001b[1m0s\u001b[0m 6ms/step - accuracy: 0.9355 - loss: 0.1551 - val_accuracy: 0.9286 - val_loss: 0.1857\n",
            "Epoch 100/100\n",
            "\u001b[1m16/16\u001b[0m \u001b[32m━━━━━━━━━━━━━━━━━━━━\u001b[0m\u001b[37m\u001b[0m \u001b[1m0s\u001b[0m 6ms/step - accuracy: 0.9415 - loss: 0.1703 - val_accuracy: 0.9643 - val_loss: 0.1406\n",
            "Restoring model weights from the end of the best epoch: 100.\n"
          ]
        }
      ]
    },
    {
      "cell_type": "code",
      "source": [
        "test_loss, test_acc = model.evaluate(X_test, y_test_cat)\n",
        "print(f\"\\nTest Accuracy: {test_acc:.4f}\")"
      ],
      "metadata": {
        "colab": {
          "base_uri": "https://localhost:8080/"
        },
        "id": "sVAvxsq9GX5A",
        "outputId": "6a922dec-7ef7-4e43-8bd4-b0415bdc2d5b"
      },
      "execution_count": 27,
      "outputs": [
        {
          "output_type": "stream",
          "name": "stdout",
          "text": [
            "\u001b[1m3/3\u001b[0m \u001b[32m━━━━━━━━━━━━━━━━━━━━\u001b[0m\u001b[37m\u001b[0m \u001b[1m1s\u001b[0m 188ms/step - accuracy: 0.9408 - loss: 0.1375\n",
            "\n",
            "Test Accuracy: 0.9286\n"
          ]
        }
      ]
    },
    {
      "cell_type": "code",
      "source": [
        "# Prediksi kelas dari probabilitas\n",
        "y_pred_probs = model.predict(X_test)\n",
        "y_pred_classes = np.argmax(y_pred_probs, axis=1)\n",
        "\n",
        "# Laporan klasifikasi\n",
        "print(\"\\n=== Classification Report (Neural Network Multi-Kelas) ===\")\n",
        "print(classification_report(y_test_enc, y_pred_classes, target_names=le.classes_))\n",
        "\n",
        "# Confusion matrix\n",
        "print(\"=== Confusion Matrix ===\")\n",
        "print(confusion_matrix(y_test_enc, y_pred_classes))\n"
      ],
      "metadata": {
        "colab": {
          "base_uri": "https://localhost:8080/"
        },
        "id": "2gOjiRJLGZvh",
        "outputId": "3737257c-a896-4821-b249-3f11a188944a"
      },
      "execution_count": 28,
      "outputs": [
        {
          "output_type": "stream",
          "name": "stdout",
          "text": [
            "\u001b[1m3/3\u001b[0m \u001b[32m━━━━━━━━━━━━━━━━━━━━\u001b[0m\u001b[37m\u001b[0m \u001b[1m0s\u001b[0m 91ms/step\n",
            "\n",
            "=== Classification Report (Neural Network Multi-Kelas) ===\n",
            "                         precision    recall  f1-score   support\n",
            "\n",
            "            Cukup Sehat       0.82      0.88      0.85        16\n",
            "Perlu Penanganan Khusus       1.00      1.00      1.00        15\n",
            "        Perlu Perhatian       0.87      0.93      0.90        14\n",
            "                  Sehat       1.00      0.92      0.96        25\n",
            "\n",
            "               accuracy                           0.93        70\n",
            "              macro avg       0.92      0.93      0.93        70\n",
            "           weighted avg       0.93      0.93      0.93        70\n",
            "\n",
            "=== Confusion Matrix ===\n",
            "[[14  0  2  0]\n",
            " [ 0 15  0  0]\n",
            " [ 1  0 13  0]\n",
            " [ 2  0  0 23]]\n"
          ]
        }
      ]
    },
    {
      "cell_type": "code",
      "source": [
        "plt.figure(figsize=(10, 5))\n",
        "plt.plot(history.history['accuracy'], label='Training Accuracy')\n",
        "plt.plot(history.history['val_accuracy'], label='Validation Accuracy')\n",
        "plt.title('Accuracy per Epoch')\n",
        "plt.xlabel('Epoch')\n",
        "plt.ylabel('Accuracy')\n",
        "plt.legend()\n",
        "plt.grid(True)\n",
        "plt.show()"
      ],
      "metadata": {
        "colab": {
          "base_uri": "https://localhost:8080/",
          "height": 487
        },
        "id": "v2ZBVkWRGdCw",
        "outputId": "94d00041-0125-4c08-a36e-1fcd0bba400f"
      },
      "execution_count": 29,
      "outputs": [
        {
          "output_type": "display_data",
          "data": {
            "text/plain": [
              "<Figure size 1000x500 with 1 Axes>"
            ],
            "image/png": "[encoded data removed]"
          },
          "metadata": {}
        }
      ]
    },
    {
      "cell_type": "code",
      "source": [
        "!pip install tensorflowjs"
      ],
      "metadata": {
        "colab": {
          "base_uri": "https://localhost:8080/"
        },
        "id": "o6AOSSc11lKa",
        "outputId": "cd8bc6e5-86b1-4c62-e40c-c469c8a36bdc"
      },
      "execution_count": 30,
      "outputs": [
        {
          "output_type": "stream",
          "name": "stdout",
          "text": [
            "Requirement already satisfied: tensorflowjs in /usr/local/lib/python3.11/dist-packages (4.22.0)\n",
            "Requirement already satisfied: flax>=0.7.2 in /usr/local/lib/python3.11/dist-packages (from tensorflowjs) (0.10.6)\n",
            "Requirement already satisfied: importlib_resources>=5.9.0 in /usr/local/lib/python3.11/dist-packages (from tensorflowjs) (6.5.2)\n",
            "Requirement already satisfied: jax>=0.4.13 in /usr/local/lib/python3.11/dist-packages (from tensorflowjs) (0.5.2)\n",
            "Requirement already satisfied: jaxlib>=0.4.13 in /usr/local/lib/python3.11/dist-packages (from tensorflowjs) (0.5.1)\n",
            "Requirement already satisfied: tensorflow<3,>=2.13.0 in /usr/local/lib/python3.11/dist-packages (from tensorflowjs) (2.18.0)\n",
            "Requirement already satisfied: tf-keras>=2.13.0 in /usr/local/lib/python3.11/dist-packages (from tensorflowjs) (2.18.0)\n",
            "Requirement already satisfied: tensorflow-decision-forests>=1.5.0 in /usr/local/lib/python3.11/dist-packages (from tensorflowjs) (1.11.0)\n",
            "Requirement already satisfied: six<2,>=1.16.0 in /usr/local/lib/python3.11/dist-packages (from tensorflowjs) (1.17.0)\n",
            "Requirement already satisfied: tensorflow-hub>=0.16.1 in /usr/local/lib/python3.11/dist-packages (from tensorflowjs) (0.16.1)\n",
            "Requirement already satisfied: packaging~=23.1 in /usr/local/lib/python3.11/dist-packages (from tensorflowjs) (23.2)\n",
            "Requirement already satisfied: numpy>=1.23.2 in /usr/local/lib/python3.11/dist-packages (from flax>=0.7.2->tensorflowjs) (2.0.2)\n",
            "Requirement already satisfied: msgpack in /usr/local/lib/python3.11/dist-packages (from flax>=0.7.2->tensorflowjs) (1.1.0)\n",
            "Requirement already satisfied: optax in /usr/local/lib/python3.11/dist-packages (from flax>=0.7.2->tensorflowjs) (0.2.4)\n",
            "Requirement already satisfied: orbax-checkpoint in /usr/local/lib/python3.11/dist-packages (from flax>=0.7.2->tensorflowjs) (0.11.13)\n",
            "Requirement already satisfied: tensorstore in /usr/local/lib/python3.11/dist-packages (from flax>=0.7.2->tensorflowjs) (0.1.74)\n",
            "Requirement already satisfied: rich>=11.1 in /usr/local/lib/python3.11/dist-packages (from flax>=0.7.2->tensorflowjs) (13.9.4)\n",
            "Requirement already satisfied: typing_extensions>=4.2 in /usr/local/lib/python3.11/dist-packages (from flax>=0.7.2->tensorflowjs) (4.13.2)\n",
            "Requirement already satisfied: PyYAML>=5.4.1 in /usr/local/lib/python3.11/dist-packages (from flax>=0.7.2->tensorflowjs) (6.0.2)\n",
            "Requirement already satisfied: treescope>=0.1.7 in /usr/local/lib/python3.11/dist-packages (from flax>=0.7.2->tensorflowjs) (0.1.9)\n",
            "Requirement already satisfied: ml_dtypes>=0.4.0 in /usr/local/lib/python3.11/dist-packages (from jax>=0.4.13->tensorflowjs) (0.4.1)\n",
            "Requirement already satisfied: opt_einsum in /usr/local/lib/python3.11/dist-packages (from jax>=0.4.13->tensorflowjs) (3.4.0)\n",
            "Requirement already satisfied: scipy>=1.11.1 in /usr/local/lib/python3.11/dist-packages (from jax>=0.4.13->tensorflowjs) (1.15.3)\n",
            "Requirement already satisfied: absl-py>=1.0.0 in /usr/local/lib/python3.11/dist-packages (from tensorflow<3,>=2.13.0->tensorflowjs) (1.4.0)\n",
            "Requirement already satisfied: astunparse>=1.6.0 in /usr/local/lib/python3.11/dist-packages (from tensorflow<3,>=2.13.0->tensorflowjs) (1.6.3)\n",
            "Requirement already satisfied: flatbuffers>=24.3.25 in /usr/local/lib/python3.11/dist-packages (from tensorflow<3,>=2.13.0->tensorflowjs) (25.2.10)\n",
            "Requirement already satisfied: gast!=0.5.0,!=0.5.1,!=0.5.2,>=0.2.1 in /usr/local/lib/python3.11/dist-packages (from tensorflow<3,>=2.13.0->tensorflowjs) (0.6.0)\n",
            "Requirement already satisfied: google-pasta>=0.1.1 in /usr/local/lib/python3.11/dist-packages (from tensorflow<3,>=2.13.0->tensorflowjs) (0.2.0)\n",
            "Requirement already satisfied: libclang>=13.0.0 in /usr/local/lib/python3.11/dist-packages (from tensorflow<3,>=2.13.0->tensorflowjs) (18.1.1)\n",
            "Requirement already satisfied: protobuf!=4.21.0,!=4.21.1,!=4.21.2,!=4.21.3,!=4.21.4,!=4.21.5,<6.0.0dev,>=3.20.3 in /usr/local/lib/python3.11/dist-packages (from tensorflow<3,>=2.13.0->tensorflowjs) (5.29.4)\n",
            "Requirement already satisfied: requests<3,>=2.21.0 in /usr/local/lib/python3.11/dist-packages (from tensorflow<3,>=2.13.0->tensorflowjs) (2.32.3)\n",
            "Requirement already satisfied: setuptools in /usr/local/lib/python3.11/dist-packages (from tensorflow<3,>=2.13.0->tensorflowjs) (75.2.0)\n",
            "Requirement already satisfied: termcolor>=1.1.0 in /usr/local/lib/python3.11/dist-packages (from tensorflow<3,>=2.13.0->tensorflowjs) (3.1.0)\n",
            "Requirement already satisfied: wrapt>=1.11.0 in /usr/local/lib/python3.11/dist-packages (from tensorflow<3,>=2.13.0->tensorflowjs) (1.17.2)\n",
            "Requirement already satisfied: grpcio<2.0,>=1.24.3 in /usr/local/lib/python3.11/dist-packages (from tensorflow<3,>=2.13.0->tensorflowjs) (1.71.0)\n",
            "Requirement already satisfied: tensorboard<2.19,>=2.18 in /usr/local/lib/python3.11/dist-packages (from tensorflow<3,>=2.13.0->tensorflowjs) (2.18.0)\n",
            "Requirement already satisfied: keras>=3.5.0 in /usr/local/lib/python3.11/dist-packages (from tensorflow<3,>=2.13.0->tensorflowjs) (3.8.0)\n",
            "Requirement already satisfied: h5py>=3.11.0 in /usr/local/lib/python3.11/dist-packages (from tensorflow<3,>=2.13.0->tensorflowjs) (3.13.0)\n",
            "Requirement already satisfied: tensorflow-io-gcs-filesystem>=0.23.1 in /usr/local/lib/python3.11/dist-packages (from tensorflow<3,>=2.13.0->tensorflowjs) (0.37.1)\n",
            "Requirement already satisfied: pandas in /usr/local/lib/python3.11/dist-packages (from tensorflow-decision-forests>=1.5.0->tensorflowjs) (2.2.2)\n",
            "Requirement already satisfied: wheel in /usr/local/lib/python3.11/dist-packages (from tensorflow-decision-forests>=1.5.0->tensorflowjs) (0.45.1)\n",
            "Requirement already satisfied: wurlitzer in /usr/local/lib/python3.11/dist-packages (from tensorflow-decision-forests>=1.5.0->tensorflowjs) (3.1.1)\n",
            "Requirement already satisfied: ydf in /usr/local/lib/python3.11/dist-packages (from tensorflow-decision-forests>=1.5.0->tensorflowjs) (0.11.0)\n",
            "Requirement already satisfied: namex in /usr/local/lib/python3.11/dist-packages (from keras>=3.5.0->tensorflow<3,>=2.13.0->tensorflowjs) (0.0.9)\n",
            "Requirement already satisfied: optree in /usr/local/lib/python3.11/dist-packages (from keras>=3.5.0->tensorflow<3,>=2.13.0->tensorflowjs) (0.15.0)\n",
            "Requirement already satisfied: charset-normalizer<4,>=2 in /usr/local/lib/python3.11/dist-packages (from requests<3,>=2.21.0->tensorflow<3,>=2.13.0->tensorflowjs) (3.4.2)\n",
            "Requirement already satisfied: idna<4,>=2.5 in /usr/local/lib/python3.11/dist-packages (from requests<3,>=2.21.0->tensorflow<3,>=2.13.0->tensorflowjs) (3.10)\n",
            "Requirement already satisfied: urllib3<3,>=1.21.1 in /usr/local/lib/python3.11/dist-packages (from requests<3,>=2.21.0->tensorflow<3,>=2.13.0->tensorflowjs) (2.4.0)\n",
            "Requirement already satisfied: certifi>=2017.4.17 in /usr/local/lib/python3.11/dist-packages (from requests<3,>=2.21.0->tensorflow<3,>=2.13.0->tensorflowjs) (2025.4.26)\n",
            "Requirement already satisfied: markdown-it-py>=2.2.0 in /usr/local/lib/python3.11/dist-packages (from rich>=11.1->flax>=0.7.2->tensorflowjs) (3.0.0)\n",
            "Requirement already satisfied: pygments<3.0.0,>=2.13.0 in /usr/local/lib/python3.11/dist-packages (from rich>=11.1->flax>=0.7.2->tensorflowjs) (2.19.1)\n",
            "Requirement already satisfied: markdown>=2.6.8 in /usr/local/lib/python3.11/dist-packages (from tensorboard<2.19,>=2.18->tensorflow<3,>=2.13.0->tensorflowjs) (3.8)\n",
            "Requirement already satisfied: tensorboard-data-server<0.8.0,>=0.7.0 in /usr/local/lib/python3.11/dist-packages (from tensorboard<2.19,>=2.18->tensorflow<3,>=2.13.0->tensorflowjs) (0.7.2)\n",
            "Requirement already satisfied: werkzeug>=1.0.1 in /usr/local/lib/python3.11/dist-packages (from tensorboard<2.19,>=2.18->tensorflow<3,>=2.13.0->tensorflowjs) (3.1.3)\n",
            "Requirement already satisfied: chex>=0.1.87 in /usr/local/lib/python3.11/dist-packages (from optax->flax>=0.7.2->tensorflowjs) (0.1.89)\n",
            "Requirement already satisfied: etils[epy] in /usr/local/lib/python3.11/dist-packages (from optax->flax>=0.7.2->tensorflowjs) (1.12.2)\n",
            "Requirement already satisfied: nest_asyncio in /usr/local/lib/python3.11/dist-packages (from orbax-checkpoint->flax>=0.7.2->tensorflowjs) (1.6.0)\n",
            "Requirement already satisfied: humanize in /usr/local/lib/python3.11/dist-packages (from orbax-checkpoint->flax>=0.7.2->tensorflowjs) (4.12.3)\n",
            "Requirement already satisfied: simplejson>=3.16.0 in /usr/local/lib/python3.11/dist-packages (from orbax-checkpoint->flax>=0.7.2->tensorflowjs) (3.20.1)\n",
            "Requirement already satisfied: python-dateutil>=2.8.2 in /usr/local/lib/python3.11/dist-packages (from pandas->tensorflow-decision-forests>=1.5.0->tensorflowjs) (2.9.0.post0)\n",
            "Requirement already satisfied: pytz>=2020.1 in /usr/local/lib/python3.11/dist-packages (from pandas->tensorflow-decision-forests>=1.5.0->tensorflowjs) (2025.2)\n",
            "Requirement already satisfied: tzdata>=2022.7 in /usr/local/lib/python3.11/dist-packages (from pandas->tensorflow-decision-forests>=1.5.0->tensorflowjs) (2025.2)\n",
            "Requirement already satisfied: toolz>=0.9.0 in /usr/local/lib/python3.11/dist-packages (from chex>=0.1.87->optax->flax>=0.7.2->tensorflowjs) (0.12.1)\n",
            "Requirement already satisfied: mdurl~=0.1 in /usr/local/lib/python3.11/dist-packages (from markdown-it-py>=2.2.0->rich>=11.1->flax>=0.7.2->tensorflowjs) (0.1.2)\n",
            "Requirement already satisfied: MarkupSafe>=2.1.1 in /usr/local/lib/python3.11/dist-packages (from werkzeug>=1.0.1->tensorboard<2.19,>=2.18->tensorflow<3,>=2.13.0->tensorflowjs) (3.0.2)\n",
            "Requirement already satisfied: fsspec in /usr/local/lib/python3.11/dist-packages (from etils[epath,epy]->orbax-checkpoint->flax>=0.7.2->tensorflowjs) (2025.3.2)\n",
            "Requirement already satisfied: zipp in /usr/local/lib/python3.11/dist-packages (from etils[epath,epy]->orbax-checkpoint->flax>=0.7.2->tensorflowjs) (3.21.0)\n"
          ]
        }
      ]
    },
    {
      "cell_type": "code",
      "source": [
        "import os\n",
        "import json\n",
        "\n",
        "os.makedirs('analisis_kesehatan_bisnis/model_tfjs', exist_ok=True)\n",
        "\n",
        "model.export('analisis_kesehatan_bisnis/model_tfjs/saved_model')\n",
        "\n",
        "scaler_params = {\n",
        "    'scale_': scaler.scale_.tolist(),\n",
        "    'min_': scaler.min_.tolist(),\n",
        "    'data_min_': scaler.data_min_.tolist(),\n",
        "    'data_max_': scaler.data_max_.tolist(),\n",
        "    'data_range_': scaler.data_range_.tolist(),\n",
        "    'n_samples_seen_': scaler.n_samples_seen_\n",
        "}\n",
        "with open('analisis_kesehatan_bisnis/model_tfjs/scaler_params.json', 'w') as f:\n",
        "    json.dump(scaler_params, f)\n",
        "\n",
        "label_classes = le.classes_.tolist()\n",
        "with open('analisis_kesehatan_bisnis/model_tfjs/label_classes.json', 'w') as f:\n",
        "    json.dump(label_classes, f)"
      ],
      "metadata": {
        "colab": {
          "base_uri": "https://localhost:8080/"
        },
        "id": "p6jgk1zEuVK9",
        "outputId": "2b45bfb9-0f02-4470-b2cb-5ae16622227d"
      },
      "execution_count": 31,
      "outputs": [
        {
          "output_type": "stream",
          "name": "stdout",
          "text": [
            "Saved artifact at 'analisis_kesehatan_bisnis/model_tfjs/saved_model'. The following endpoints are available:\n",
            "\n",
            "* Endpoint 'serve'\n",
            "  args_0 (POSITIONAL_ONLY): TensorSpec(shape=(None, 6), dtype=tf.float32, name='keras_tensor')\n",
            "Output Type:\n",
            "  TensorSpec(shape=(None, 4), dtype=tf.float32, name=None)\n",
            "Captures:\n",
            "  133252582881424: TensorSpec(shape=(), dtype=tf.resource, name=None)\n",
            "  133252582869904: TensorSpec(shape=(), dtype=tf.resource, name=None)\n",
            "  133252582874896: TensorSpec(shape=(), dtype=tf.resource, name=None)\n",
            "  133252582872208: TensorSpec(shape=(), dtype=tf.resource, name=None)\n",
            "  133252582872400: TensorSpec(shape=(), dtype=tf.resource, name=None)\n",
            "  133252582875088: TensorSpec(shape=(), dtype=tf.resource, name=None)\n",
            "  133252582873360: TensorSpec(shape=(), dtype=tf.resource, name=None)\n",
            "  133252582876240: TensorSpec(shape=(), dtype=tf.resource, name=None)\n"
          ]
        }
      ]
    },
    {
      "cell_type": "code",
      "source": [
        "!tensorflowjs_converter --input_format=tf_saved_model --output_format=tfjs_graph_model --signature_name=serving_default --saved_model_tags=serve analisis_kesehatan_bisnis/model_tfjs/saved_model analisis_kesehatan_bisnis/model_tfjs"
      ],
      "metadata": {
        "colab": {
          "base_uri": "https://localhost:8080/"
        },
        "id": "VWyeQiw6MXld",
        "outputId": "fd28cbfa-b64f-4252-c3fa-d500bc92884c"
      },
      "execution_count": 32,
      "outputs": [
        {
          "output_type": "stream",
          "name": "stdout",
          "text": [
            "2025-05-24 07:54:02.735538: E external/local_xla/xla/stream_executor/cuda/cuda_fft.cc:477] Unable to register cuFFT factory: Attempting to register factory for plugin cuFFT when one has already been registered\n",
            "WARNING: All log messages before absl::InitializeLog() is called are written to STDERR\n",
            "E0000 00:00:1748073242.755121   14559 cuda_dnn.cc:8310] Unable to register cuDNN factory: Attempting to register factory for plugin cuDNN when one has already been registered\n",
            "E0000 00:00:1748073242.761448   14559 cuda_blas.cc:1418] Unable to register cuBLAS factory: Attempting to register factory for plugin cuBLAS when one has already been registered\n",
            "\u001b[32m🌲 Try \u001b[0m\u001b[34mhttps://ydf.readthedocs.io\u001b[0m\u001b[32m, the successor of TensorFlow Decision Forests with more features and faster training!\u001b[0m\n",
            "2025-05-24 07:54:10.121085: W tensorflow/core/common_runtime/gpu/gpu_bfc_allocator.cc:47] Overriding orig_value setting because the TF_FORCE_GPU_ALLOW_GROWTH environment variable is set. Original config value was 0.\n",
            "I0000 00:00:1748073250.121309   14559 gpu_device.cc:2022] Created device /job:localhost/replica:0/task:0/device:GPU:0 with 13696 MB memory:  -> device: 0, name: Tesla T4, pci bus id: 0000:00:04.0, compute capability: 7.5\n",
            "I0000 00:00:1748073250.287096   14559 devices.cc:67] Number of eligible GPUs (core count >= 8, compute capability >= 0.0): 1\n",
            "WARNING: All log messages before absl::InitializeLog() is called are written to STDERR\n",
            "I0000 00:00:1748073250.287266   14559 single_machine.cc:361] Starting new session\n",
            "I0000 00:00:1748073250.288472   14559 gpu_device.cc:2022] Created device /job:localhost/replica:0/task:0/device:GPU:0 with 13696 MB memory:  -> device: 0, name: Tesla T4, pci bus id: 0000:00:04.0, compute capability: 7.5\n"
          ]
        }
      ]
    },
    {
      "cell_type": "markdown",
      "source": [
        "inference Model"
      ],
      "metadata": {
        "id": "I0sH5YmRkslG"
      }
    },
    {
      "cell_type": "code",
      "source": [
        "def prediksi_kondisi_keuangan(data_baru: pd.DataFrame):\n",
        "    print(\">> Mulai prediksi\")\n",
        "\n",
        "    data_baru['rasio_transaksi'] = data_baru['jumlah_transaksi'] / (data_baru['pengeluaran'] + 1)\n",
        "    data_baru['persen_pengeluaran'] = data_baru['pengeluaran'] / (data_baru['pemasukan'] + data_baru['pengeluaran'] + 1e-9)\n",
        "\n",
        "    features = [\n",
        "        'pemasukan',\n",
        "        'pengeluaran',\n",
        "        'jumlah_transaksi',\n",
        "        'jumlah_hari_rugi',\n",
        "        'rasio_transaksi',\n",
        "        'persen_pengeluaran'\n",
        "    ]\n",
        "    X_new = data_baru[features]\n",
        "    X_new_scaled = scaler.transform(X_new)\n",
        "\n",
        "    print(\">> Transformasi selesai, mulai prediksi\")\n",
        "    y_probs = model.predict(X_new)\n",
        "    print(\">> Probabilitas:\", y_probs)\n",
        "\n",
        "    y_pred_class = np.argmax(y_probs, axis=1)\n",
        "    label_pred = le.inverse_transform(y_pred_class)\n",
        "\n",
        "    print(\">> Hasil kelas:\", label_pred)\n",
        "    return label_pred[0], data_baru['rasio_transaksi'], data_baru['persen_pengeluaran']\n"
      ],
      "metadata": {
        "id": "yOEt6uyOIQXs"
      },
      "execution_count": 33,
      "outputs": []
    },
    {
      "cell_type": "code",
      "source": [
        "# Contoh data baru yang ingin diprediksi\n",
        "data_baru = pd.DataFrame([{\n",
        "    'pemasukan': 4000000,\n",
        "    'pengeluaran': 3950000,\n",
        "    'jumlah_transaksi': 10,\n",
        "    'jumlah_hari_rugi': 6\n",
        "}])\n",
        "\n",
        "# Panggil fungsi prediksi dan tampilkan hasil\n",
        "hasil = prediksi_kondisi_keuangan(data_baru)\n",
        "print(\"Prediksi kondisi keuangan:\", hasil)\n"
      ],
      "metadata": {
        "colab": {
          "base_uri": "https://localhost:8080/"
        },
        "id": "1eek4fKgIm6o",
        "outputId": "95e79f2d-2c53-4db8-ec8d-b6e1242b2637"
      },
      "execution_count": 34,
      "outputs": [
        {
          "output_type": "stream",
          "name": "stdout",
          "text": [
            ">> Mulai prediksi\n",
            ">> Transformasi selesai, mulai prediksi\n",
            "\u001b[1m1/1\u001b[0m \u001b[32m━━━━━━━━━━━━━━━━━━━━\u001b[0m\u001b[37m\u001b[0m \u001b[1m0s\u001b[0m 344ms/step\n",
            ">> Probabilitas: [[1. 0. 0. 0.]]\n",
            ">> Hasil kelas: ['Cukup Sehat']\n",
            "Prediksi kondisi keuangan: ('Cukup Sehat', 0    0.000003\n",
            "Name: rasio_transaksi, dtype: float64, 0    0.496855\n",
            "Name: persen_pengeluaran, dtype: float64)\n"
          ]
        }
      ]
    },
    {
      "cell_type": "code",
      "source": [
        "import shutil\n",
        "\n",
        "shutil.make_archive('model_tfjs_export', 'zip', 'analisis_kesehatan_bisnis/model_tfjs')"
      ],
      "metadata": {
        "colab": {
          "base_uri": "https://localhost:8080/",
          "height": 36
        },
        "id": "yu5Qqg38Iwac",
        "outputId": "052b1388-e547-47cc-edb1-8d2a2b292953"
      },
      "execution_count": 35,
      "outputs": [
        {
          "output_type": "execute_result",
          "data": {
            "text/plain": [
              "'/content/model_tfjs_export.zip'"
            ],
            "application/vnd.google.colaboratory.intrinsic+json": {
              "type": "string"
            }
          },
          "metadata": {},
          "execution_count": 35
        }
      ]
    },
    {
      "cell_type": "code",
      "source": [
        "weekly.tail()"
      ],
      "metadata": {
        "colab": {
          "base_uri": "https://localhost:8080/",
          "height": 417
        },
        "id": "Dkh5ZcyoQQL4",
        "outputId": "94f8e521-b49e-4ca9-c266-acd41c8b41e7"
      },
      "execution_count": 36,
      "outputs": [
        {
          "output_type": "execute_result",
          "data": {
            "text/plain": [
              "            nama toko periode_minggu  pemasukan  pengeluaran  \\\n",
              "345  Warung bu sholeh     2025-04-01   10465000     17885507   \n",
              "346  Warung bu sholeh     2025-04-08   10625000     11187324   \n",
              "347  Warung bu sholeh     2025-04-15   10911000     10087844   \n",
              "348  Warung bu sholeh     2025-04-22   10144000      8881707   \n",
              "349  Warung bu sholeh     2025-04-29    2895000      1767572   \n",
              "\n",
              "     jumlah_transaksi  laba_bersih  rasio_keuangan  jumlah_hari_rugi  \\\n",
              "345               186     -7420507        0.585111                 4   \n",
              "346               197      -562324        0.949736                 3   \n",
              "347               200       823156        1.081599                 1   \n",
              "348               181      1262293        1.142123                 2   \n",
              "349                56      1127428        1.637839                 0   \n",
              "\n",
              "                 label_kelas  rasio_transaksi  persen_pengeluaran  \n",
              "345  Perlu Penanganan Khusus         0.000010            0.630871  \n",
              "346          Perlu Perhatian         0.000018            0.512890  \n",
              "347              Cukup Sehat         0.000020            0.480400  \n",
              "348              Cukup Sehat         0.000020            0.466827  \n",
              "349                    Sehat         0.000032            0.379098  "
            ],
            "text/html": [
              "\n",
              "  <div id=\"df-865f82bc-aa9f-4380-94e6-5fdfb785c508\" class=\"colab-df-container\">\n",
              "    <div>\n",
              "<style scoped>\n",
              "    .dataframe tbody tr th:only-of-type {\n",
              "        vertical-align: middle;\n",
              "    }\n",
              "\n",
              "    .dataframe tbody tr th {\n",
              "        vertical-align: top;\n",
              "    }\n",
              "\n",
              "    .dataframe thead th {\n",
              "        text-align: right;\n",
              "    }\n",
              "</style>\n",
              "<table border=\"1\" class=\"dataframe\">\n",
              "  <thead>\n",
              "    <tr style=\"text-align: right;\">\n",
              "      <th></th>\n",
              "      <th>nama toko</th>\n",
              "      <th>periode_minggu</th>\n",
              "      <th>pemasukan</th>\n",
              "      <th>pengeluaran</th>\n",
              "      <th>jumlah_transaksi</th>\n",
              "      <th>laba_bersih</th>\n",
              "      <th>rasio_keuangan</th>\n",
              "      <th>jumlah_hari_rugi</th>\n",
              "      <th>label_kelas</th>\n",
              "      <th>rasio_transaksi</th>\n",
              "      <th>persen_pengeluaran</th>\n",
              "    </tr>\n",
              "  </thead>\n",
              "  <tbody>\n",
              "    <tr>\n",
              "      <th>345</th>\n",
              "      <td>Warung bu sholeh</td>\n",
              "      <td>2025-04-01</td>\n",
              "      <td>10465000</td>\n",
              "      <td>17885507</td>\n",
              "      <td>186</td>\n",
              "      <td>-7420507</td>\n",
              "      <td>0.585111</td>\n",
              "      <td>4</td>\n",
              "      <td>Perlu Penanganan Khusus</td>\n",
              "      <td>0.000010</td>\n",
              "      <td>0.630871</td>\n",
              "    </tr>\n",
              "    <tr>\n",
              "      <th>346</th>\n",
              "      <td>Warung bu sholeh</td>\n",
              "      <td>2025-04-08</td>\n",
              "      <td>10625000</td>\n",
              "      <td>11187324</td>\n",
              "      <td>197</td>\n",
              "      <td>-562324</td>\n",
              "      <td>0.949736</td>\n",
              "      <td>3</td>\n",
              "      <td>Perlu Perhatian</td>\n",
              "      <td>0.000018</td>\n",
              "      <td>0.512890</td>\n",
              "    </tr>\n",
              "    <tr>\n",
              "      <th>347</th>\n",
              "      <td>Warung bu sholeh</td>\n",
              "      <td>2025-04-15</td>\n",
              "      <td>10911000</td>\n",
              "      <td>10087844</td>\n",
              "      <td>200</td>\n",
              "      <td>823156</td>\n",
              "      <td>1.081599</td>\n",
              "      <td>1</td>\n",
              "      <td>Cukup Sehat</td>\n",
              "      <td>0.000020</td>\n",
              "      <td>0.480400</td>\n",
              "    </tr>\n",
              "    <tr>\n",
              "      <th>348</th>\n",
              "      <td>Warung bu sholeh</td>\n",
              "      <td>2025-04-22</td>\n",
              "      <td>10144000</td>\n",
              "      <td>8881707</td>\n",
              "      <td>181</td>\n",
              "      <td>1262293</td>\n",
              "      <td>1.142123</td>\n",
              "      <td>2</td>\n",
              "      <td>Cukup Sehat</td>\n",
              "      <td>0.000020</td>\n",
              "      <td>0.466827</td>\n",
              "    </tr>\n",
              "    <tr>\n",
              "      <th>349</th>\n",
              "      <td>Warung bu sholeh</td>\n",
              "      <td>2025-04-29</td>\n",
              "      <td>2895000</td>\n",
              "      <td>1767572</td>\n",
              "      <td>56</td>\n",
              "      <td>1127428</td>\n",
              "      <td>1.637839</td>\n",
              "      <td>0</td>\n",
              "      <td>Sehat</td>\n",
              "      <td>0.000032</td>\n",
              "      <td>0.379098</td>\n",
              "    </tr>\n",
              "  </tbody>\n",
              "</table>\n",
              "</div>\n",
              "    <div class=\"colab-df-buttons\">\n",
              "      \n",
              "  <div class=\"colab-df-container\">\n",
              "    <button class=\"colab-df-convert\" onclick=\"convertToInteractive('df-865f82bc-aa9f-4380-94e6-5fdfb785c508')\"\n",
              "            title=\"Convert this dataframe to an interactive table.\"\n",
              "            style=\"display:none;\">\n",
              "      \n",
              "  <svg xmlns=\"http://www.w3.org/2000/svg\" height=\"24px\" viewBox=\"0 -960 960 960\">\n",
              "    <path d=\"M120-120v-720h720v720H120Zm60-500h600v-160H180v160Zm220 220h160v-160H400v160Zm0 220h160v-160H400v160ZM180-400h160v-160H180v160Zm440 0h160v-160H620v160ZM180-180h160v-160H180v160Zm440 0h160v-160H620v160Z\"/>\n",
              "  </svg>\n",
              "    </button>\n",
              "    \n",
              "  <style>\n",
              "    .colab-df-container {\n",
              "      display:flex;\n",
              "      gap: 12px;\n",
              "    }\n",
              "\n",
              "    .colab-df-convert {\n",
              "      background-color: #E8F0FE;\n",
              "      border: none;\n",
              "      border-radius: 50%;\n",
              "      cursor: pointer;\n",
              "      display: none;\n",
              "      fill: #1967D2;\n",
              "      height: 32px;\n",
              "      padding: 0 0 0 0;\n",
              "      width: 32px;\n",
              "    }\n",
              "\n",
              "    .colab-df-convert:hover {\n",
              "      background-color: #E2EBFA;\n",
              "      box-shadow: 0px 1px 2px rgba(60, 64, 67, 0.3), 0px 1px 3px 1px rgba(60, 64, 67, 0.15);\n",
              "      fill: #174EA6;\n",
              "    }\n",
              "\n",
              "    .colab-df-buttons div {\n",
              "      margin-bottom: 4px;\n",
              "    }\n",
              "\n",
              "    [theme=dark] .colab-df-convert {\n",
              "      background-color: #3B4455;\n",
              "      fill: #D2E3FC;\n",
              "    }\n",
              "\n",
              "    [theme=dark] .colab-df-convert:hover {\n",
              "      background-color: #434B5C;\n",
              "      box-shadow: 0px 1px 3px 1px rgba(0, 0, 0, 0.15);\n",
              "      filter: drop-shadow(0px 1px 2px rgba(0, 0, 0, 0.3));\n",
              "      fill: #FFFFFF;\n",
              "    }\n",
              "  </style>\n",
              "\n",
              "    <script>\n",
              "      const buttonEl =\n",
              "        document.querySelector('#df-865f82bc-aa9f-4380-94e6-5fdfb785c508 button.colab-df-convert');\n",
              "      buttonEl.style.display =\n",
              "        google.colab.kernel.accessAllowed ? 'block' : 'none';\n",
              "\n",
              "      async function convertToInteractive(key) {\n",
              "        const element = document.querySelector('#df-865f82bc-aa9f-4380-94e6-5fdfb785c508');\n",
              "        const dataTable =\n",
              "          await google.colab.kernel.invokeFunction('convertToInteractive',\n",
              "                                                    [key], {});\n",
              "        if (!dataTable) return;\n",
              "\n",
              "        const docLinkHtml = 'Like what you see? Visit the ' +\n",
              "          '<a target=\"_blank\" href=https://colab.research.google.com/notebooks/data_table.ipynb>data table notebook</a>'\n",
              "          + ' to learn more about interactive tables.';\n",
              "        element.innerHTML = '';\n",
              "        dataTable['output_type'] = 'display_data';\n",
              "        await google.colab.output.renderOutput(dataTable, element);\n",
              "        const docLink = document.createElement('div');\n",
              "        docLink.innerHTML = docLinkHtml;\n",
              "        element.appendChild(docLink);\n",
              "      }\n",
              "    </script>\n",
              "  </div>\n",
              "  \n",
              "    </div>\n",
              "  </div>\n",
              "  "
            ]
          },
          "metadata": {},
          "execution_count": 36
        }
      ]
    }
  ]
}